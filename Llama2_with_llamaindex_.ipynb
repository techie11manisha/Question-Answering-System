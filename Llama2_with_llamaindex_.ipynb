{
  "cells": [
    {
      "cell_type": "markdown",
      "metadata": {
        "id": "view-in-github",
        "colab_type": "text"
      },
      "source": [
        "<a href=\"https://colab.research.google.com/github/techie11manisha/Question-Answering-System/blob/main/Llama2_with_llamaindex_.ipynb\" target=\"_parent\"><img src=\"https://colab.research.google.com/assets/colab-badge.svg\" alt=\"Open In Colab\"/></a>"
      ]
    },
    {
      "cell_type": "markdown",
      "metadata": {
        "id": "tnUOq3dZeDK1"
      },
      "source": [
        "## RAG System Using Llama2 With Hugging Face"
      ]
    },
    {
      "cell_type": "code",
      "execution_count": null,
      "metadata": {
        "colab": {
          "base_uri": "https://localhost:8080/"
        },
        "id": "tHP9Gfafdq57",
        "outputId": "e1302744-428b-4a60-b011-ec9c99e899ca"
      },
      "outputs": [
        {
          "output_type": "stream",
          "name": "stdout",
          "text": [
            "Requirement already satisfied: pypdf in /usr/local/lib/python3.10/dist-packages (4.2.0)\n",
            "Requirement already satisfied: typing_extensions>=4.0 in /usr/local/lib/python3.10/dist-packages (from pypdf) (4.11.0)\n"
          ]
        }
      ],
      "source": [
        "!pip install pypdf"
      ]
    },
    {
      "cell_type": "code",
      "execution_count": null,
      "metadata": {
        "id": "YYeHrwmHfbgB"
      },
      "outputs": [],
      "source": [
        "!pip install -q transformers einops accelerate langchain bitsandbytes"
      ]
    },
    {
      "cell_type": "code",
      "source": [
        "!pip install sentencepiece\n",
        "!pip install accelerate"
      ],
      "metadata": {
        "colab": {
          "base_uri": "https://localhost:8080/"
        },
        "id": "AJvUehdOm1H2",
        "outputId": "808325af-74cb-423f-8ffa-b849a5319350"
      },
      "execution_count": null,
      "outputs": [
        {
          "output_type": "stream",
          "name": "stdout",
          "text": [
            "Requirement already satisfied: sentencepiece in /usr/local/lib/python3.10/dist-packages (0.1.99)\n",
            "Requirement already satisfied: accelerate in /usr/local/lib/python3.10/dist-packages (0.29.3)\n",
            "Requirement already satisfied: numpy>=1.17 in /usr/local/lib/python3.10/dist-packages (from accelerate) (1.25.2)\n",
            "Requirement already satisfied: packaging>=20.0 in /usr/local/lib/python3.10/dist-packages (from accelerate) (23.2)\n",
            "Requirement already satisfied: psutil in /usr/local/lib/python3.10/dist-packages (from accelerate) (5.9.5)\n",
            "Requirement already satisfied: pyyaml in /usr/local/lib/python3.10/dist-packages (from accelerate) (6.0.1)\n",
            "Requirement already satisfied: torch>=1.10.0 in /usr/local/lib/python3.10/dist-packages (from accelerate) (2.2.1+cu121)\n",
            "Requirement already satisfied: huggingface-hub in /usr/local/lib/python3.10/dist-packages (from accelerate) (0.20.3)\n",
            "Requirement already satisfied: safetensors>=0.3.1 in /usr/local/lib/python3.10/dist-packages (from accelerate) (0.4.3)\n",
            "Requirement already satisfied: filelock in /usr/local/lib/python3.10/dist-packages (from torch>=1.10.0->accelerate) (3.13.4)\n",
            "Requirement already satisfied: typing-extensions>=4.8.0 in /usr/local/lib/python3.10/dist-packages (from torch>=1.10.0->accelerate) (4.11.0)\n",
            "Requirement already satisfied: sympy in /usr/local/lib/python3.10/dist-packages (from torch>=1.10.0->accelerate) (1.12)\n",
            "Requirement already satisfied: networkx in /usr/local/lib/python3.10/dist-packages (from torch>=1.10.0->accelerate) (3.3)\n",
            "Requirement already satisfied: jinja2 in /usr/local/lib/python3.10/dist-packages (from torch>=1.10.0->accelerate) (3.1.3)\n",
            "Requirement already satisfied: fsspec in /usr/local/lib/python3.10/dist-packages (from torch>=1.10.0->accelerate) (2023.6.0)\n",
            "Requirement already satisfied: nvidia-cuda-nvrtc-cu12==12.1.105 in /usr/local/lib/python3.10/dist-packages (from torch>=1.10.0->accelerate) (12.1.105)\n",
            "Requirement already satisfied: nvidia-cuda-runtime-cu12==12.1.105 in /usr/local/lib/python3.10/dist-packages (from torch>=1.10.0->accelerate) (12.1.105)\n",
            "Requirement already satisfied: nvidia-cuda-cupti-cu12==12.1.105 in /usr/local/lib/python3.10/dist-packages (from torch>=1.10.0->accelerate) (12.1.105)\n",
            "Requirement already satisfied: nvidia-cudnn-cu12==8.9.2.26 in /usr/local/lib/python3.10/dist-packages (from torch>=1.10.0->accelerate) (8.9.2.26)\n",
            "Requirement already satisfied: nvidia-cublas-cu12==12.1.3.1 in /usr/local/lib/python3.10/dist-packages (from torch>=1.10.0->accelerate) (12.1.3.1)\n",
            "Requirement already satisfied: nvidia-cufft-cu12==11.0.2.54 in /usr/local/lib/python3.10/dist-packages (from torch>=1.10.0->accelerate) (11.0.2.54)\n",
            "Requirement already satisfied: nvidia-curand-cu12==10.3.2.106 in /usr/local/lib/python3.10/dist-packages (from torch>=1.10.0->accelerate) (10.3.2.106)\n",
            "Requirement already satisfied: nvidia-cusolver-cu12==11.4.5.107 in /usr/local/lib/python3.10/dist-packages (from torch>=1.10.0->accelerate) (11.4.5.107)\n",
            "Requirement already satisfied: nvidia-cusparse-cu12==12.1.0.106 in /usr/local/lib/python3.10/dist-packages (from torch>=1.10.0->accelerate) (12.1.0.106)\n",
            "Requirement already satisfied: nvidia-nccl-cu12==2.19.3 in /usr/local/lib/python3.10/dist-packages (from torch>=1.10.0->accelerate) (2.19.3)\n",
            "Requirement already satisfied: nvidia-nvtx-cu12==12.1.105 in /usr/local/lib/python3.10/dist-packages (from torch>=1.10.0->accelerate) (12.1.105)\n",
            "Requirement already satisfied: triton==2.2.0 in /usr/local/lib/python3.10/dist-packages (from torch>=1.10.0->accelerate) (2.2.0)\n",
            "Requirement already satisfied: nvidia-nvjitlink-cu12 in /usr/local/lib/python3.10/dist-packages (from nvidia-cusolver-cu12==11.4.5.107->torch>=1.10.0->accelerate) (12.4.127)\n",
            "Requirement already satisfied: requests in /usr/local/lib/python3.10/dist-packages (from huggingface-hub->accelerate) (2.31.0)\n",
            "Requirement already satisfied: tqdm>=4.42.1 in /usr/local/lib/python3.10/dist-packages (from huggingface-hub->accelerate) (4.66.2)\n",
            "Requirement already satisfied: MarkupSafe>=2.0 in /usr/local/lib/python3.10/dist-packages (from jinja2->torch>=1.10.0->accelerate) (2.1.5)\n",
            "Requirement already satisfied: charset-normalizer<4,>=2 in /usr/local/lib/python3.10/dist-packages (from requests->huggingface-hub->accelerate) (3.3.2)\n",
            "Requirement already satisfied: idna<4,>=2.5 in /usr/local/lib/python3.10/dist-packages (from requests->huggingface-hub->accelerate) (3.7)\n",
            "Requirement already satisfied: urllib3<3,>=1.21.1 in /usr/local/lib/python3.10/dist-packages (from requests->huggingface-hub->accelerate) (2.0.7)\n",
            "Requirement already satisfied: certifi>=2017.4.17 in /usr/local/lib/python3.10/dist-packages (from requests->huggingface-hub->accelerate) (2024.2.2)\n",
            "Requirement already satisfied: mpmath>=0.19 in /usr/local/lib/python3.10/dist-packages (from sympy->torch>=1.10.0->accelerate) (1.3.0)\n"
          ]
        }
      ]
    },
    {
      "cell_type": "code",
      "execution_count": null,
      "metadata": {
        "colab": {
          "base_uri": "https://localhost:8080/"
        },
        "id": "Tu1g-xwnfv9s",
        "outputId": "3ae7bdfd-0949-486b-a3b2-37cd9f72e7fa"
      },
      "outputs": [
        {
          "output_type": "stream",
          "name": "stdout",
          "text": [
            "Requirement already satisfied: install in /usr/local/lib/python3.10/dist-packages (1.3.5)\n",
            "Requirement already satisfied: sentence_transformers in /usr/local/lib/python3.10/dist-packages (2.7.0)\n",
            "Requirement already satisfied: transformers<5.0.0,>=4.34.0 in /usr/local/lib/python3.10/dist-packages (from sentence_transformers) (4.38.2)\n",
            "Requirement already satisfied: tqdm in /usr/local/lib/python3.10/dist-packages (from sentence_transformers) (4.66.2)\n",
            "Requirement already satisfied: torch>=1.11.0 in /usr/local/lib/python3.10/dist-packages (from sentence_transformers) (2.2.1+cu121)\n",
            "Requirement already satisfied: numpy in /usr/local/lib/python3.10/dist-packages (from sentence_transformers) (1.25.2)\n",
            "Requirement already satisfied: scikit-learn in /usr/local/lib/python3.10/dist-packages (from sentence_transformers) (1.2.2)\n",
            "Requirement already satisfied: scipy in /usr/local/lib/python3.10/dist-packages (from sentence_transformers) (1.11.4)\n",
            "Requirement already satisfied: huggingface-hub>=0.15.1 in /usr/local/lib/python3.10/dist-packages (from sentence_transformers) (0.20.3)\n",
            "Requirement already satisfied: Pillow in /usr/local/lib/python3.10/dist-packages (from sentence_transformers) (9.4.0)\n",
            "Requirement already satisfied: filelock in /usr/local/lib/python3.10/dist-packages (from huggingface-hub>=0.15.1->sentence_transformers) (3.13.4)\n",
            "Requirement already satisfied: fsspec>=2023.5.0 in /usr/local/lib/python3.10/dist-packages (from huggingface-hub>=0.15.1->sentence_transformers) (2023.6.0)\n",
            "Requirement already satisfied: requests in /usr/local/lib/python3.10/dist-packages (from huggingface-hub>=0.15.1->sentence_transformers) (2.31.0)\n",
            "Requirement already satisfied: pyyaml>=5.1 in /usr/local/lib/python3.10/dist-packages (from huggingface-hub>=0.15.1->sentence_transformers) (6.0.1)\n",
            "Requirement already satisfied: typing-extensions>=3.7.4.3 in /usr/local/lib/python3.10/dist-packages (from huggingface-hub>=0.15.1->sentence_transformers) (4.11.0)\n",
            "Requirement already satisfied: packaging>=20.9 in /usr/local/lib/python3.10/dist-packages (from huggingface-hub>=0.15.1->sentence_transformers) (23.2)\n",
            "Requirement already satisfied: sympy in /usr/local/lib/python3.10/dist-packages (from torch>=1.11.0->sentence_transformers) (1.12)\n",
            "Requirement already satisfied: networkx in /usr/local/lib/python3.10/dist-packages (from torch>=1.11.0->sentence_transformers) (3.3)\n",
            "Requirement already satisfied: jinja2 in /usr/local/lib/python3.10/dist-packages (from torch>=1.11.0->sentence_transformers) (3.1.3)\n",
            "Requirement already satisfied: nvidia-cuda-nvrtc-cu12==12.1.105 in /usr/local/lib/python3.10/dist-packages (from torch>=1.11.0->sentence_transformers) (12.1.105)\n",
            "Requirement already satisfied: nvidia-cuda-runtime-cu12==12.1.105 in /usr/local/lib/python3.10/dist-packages (from torch>=1.11.0->sentence_transformers) (12.1.105)\n",
            "Requirement already satisfied: nvidia-cuda-cupti-cu12==12.1.105 in /usr/local/lib/python3.10/dist-packages (from torch>=1.11.0->sentence_transformers) (12.1.105)\n",
            "Requirement already satisfied: nvidia-cudnn-cu12==8.9.2.26 in /usr/local/lib/python3.10/dist-packages (from torch>=1.11.0->sentence_transformers) (8.9.2.26)\n",
            "Requirement already satisfied: nvidia-cublas-cu12==12.1.3.1 in /usr/local/lib/python3.10/dist-packages (from torch>=1.11.0->sentence_transformers) (12.1.3.1)\n",
            "Requirement already satisfied: nvidia-cufft-cu12==11.0.2.54 in /usr/local/lib/python3.10/dist-packages (from torch>=1.11.0->sentence_transformers) (11.0.2.54)\n",
            "Requirement already satisfied: nvidia-curand-cu12==10.3.2.106 in /usr/local/lib/python3.10/dist-packages (from torch>=1.11.0->sentence_transformers) (10.3.2.106)\n",
            "Requirement already satisfied: nvidia-cusolver-cu12==11.4.5.107 in /usr/local/lib/python3.10/dist-packages (from torch>=1.11.0->sentence_transformers) (11.4.5.107)\n",
            "Requirement already satisfied: nvidia-cusparse-cu12==12.1.0.106 in /usr/local/lib/python3.10/dist-packages (from torch>=1.11.0->sentence_transformers) (12.1.0.106)\n",
            "Requirement already satisfied: nvidia-nccl-cu12==2.19.3 in /usr/local/lib/python3.10/dist-packages (from torch>=1.11.0->sentence_transformers) (2.19.3)\n",
            "Requirement already satisfied: nvidia-nvtx-cu12==12.1.105 in /usr/local/lib/python3.10/dist-packages (from torch>=1.11.0->sentence_transformers) (12.1.105)\n",
            "Requirement already satisfied: triton==2.2.0 in /usr/local/lib/python3.10/dist-packages (from torch>=1.11.0->sentence_transformers) (2.2.0)\n",
            "Requirement already satisfied: nvidia-nvjitlink-cu12 in /usr/local/lib/python3.10/dist-packages (from nvidia-cusolver-cu12==11.4.5.107->torch>=1.11.0->sentence_transformers) (12.4.127)\n",
            "Requirement already satisfied: regex!=2019.12.17 in /usr/local/lib/python3.10/dist-packages (from transformers<5.0.0,>=4.34.0->sentence_transformers) (2023.12.25)\n",
            "Requirement already satisfied: tokenizers<0.19,>=0.14 in /usr/local/lib/python3.10/dist-packages (from transformers<5.0.0,>=4.34.0->sentence_transformers) (0.15.2)\n",
            "Requirement already satisfied: safetensors>=0.4.1 in /usr/local/lib/python3.10/dist-packages (from transformers<5.0.0,>=4.34.0->sentence_transformers) (0.4.3)\n",
            "Requirement already satisfied: joblib>=1.1.1 in /usr/local/lib/python3.10/dist-packages (from scikit-learn->sentence_transformers) (1.4.0)\n",
            "Requirement already satisfied: threadpoolctl>=2.0.0 in /usr/local/lib/python3.10/dist-packages (from scikit-learn->sentence_transformers) (3.4.0)\n",
            "Requirement already satisfied: MarkupSafe>=2.0 in /usr/local/lib/python3.10/dist-packages (from jinja2->torch>=1.11.0->sentence_transformers) (2.1.5)\n",
            "Requirement already satisfied: charset-normalizer<4,>=2 in /usr/local/lib/python3.10/dist-packages (from requests->huggingface-hub>=0.15.1->sentence_transformers) (3.3.2)\n",
            "Requirement already satisfied: idna<4,>=2.5 in /usr/local/lib/python3.10/dist-packages (from requests->huggingface-hub>=0.15.1->sentence_transformers) (3.7)\n",
            "Requirement already satisfied: urllib3<3,>=1.21.1 in /usr/local/lib/python3.10/dist-packages (from requests->huggingface-hub>=0.15.1->sentence_transformers) (2.0.7)\n",
            "Requirement already satisfied: certifi>=2017.4.17 in /usr/local/lib/python3.10/dist-packages (from requests->huggingface-hub>=0.15.1->sentence_transformers) (2024.2.2)\n",
            "Requirement already satisfied: mpmath>=0.19 in /usr/local/lib/python3.10/dist-packages (from sympy->torch>=1.11.0->sentence_transformers) (1.3.0)\n"
          ]
        }
      ],
      "source": [
        "## Embedding\n",
        "!pip install install sentence_transformers"
      ]
    },
    {
      "cell_type": "code",
      "execution_count": null,
      "metadata": {
        "colab": {
          "base_uri": "https://localhost:8080/"
        },
        "id": "urL9wZkqf-Zu",
        "outputId": "ec97fa08-be1c-4ce4-92fe-bc377a5d5132"
      },
      "outputs": [
        {
          "output_type": "stream",
          "name": "stdout",
          "text": [
            "Requirement already satisfied: llama-index in /usr/local/lib/python3.10/dist-packages (0.10.30)\n",
            "Requirement already satisfied: llama-index-agent-openai<0.3.0,>=0.1.4 in /usr/local/lib/python3.10/dist-packages (from llama-index) (0.2.2)\n",
            "Requirement already satisfied: llama-index-cli<0.2.0,>=0.1.2 in /usr/local/lib/python3.10/dist-packages (from llama-index) (0.1.12)\n",
            "Requirement already satisfied: llama-index-core<0.11.0,>=0.10.30 in /usr/local/lib/python3.10/dist-packages (from llama-index) (0.10.30)\n",
            "Requirement already satisfied: llama-index-embeddings-openai<0.2.0,>=0.1.5 in /usr/local/lib/python3.10/dist-packages (from llama-index) (0.1.8)\n",
            "Requirement already satisfied: llama-index-indices-managed-llama-cloud<0.2.0,>=0.1.2 in /usr/local/lib/python3.10/dist-packages (from llama-index) (0.1.5)\n",
            "Requirement already satisfied: llama-index-legacy<0.10.0,>=0.9.48 in /usr/local/lib/python3.10/dist-packages (from llama-index) (0.9.48)\n",
            "Requirement already satisfied: llama-index-llms-openai<0.2.0,>=0.1.13 in /usr/local/lib/python3.10/dist-packages (from llama-index) (0.1.16)\n",
            "Requirement already satisfied: llama-index-multi-modal-llms-openai<0.2.0,>=0.1.3 in /usr/local/lib/python3.10/dist-packages (from llama-index) (0.1.5)\n",
            "Requirement already satisfied: llama-index-program-openai<0.2.0,>=0.1.3 in /usr/local/lib/python3.10/dist-packages (from llama-index) (0.1.5)\n",
            "Requirement already satisfied: llama-index-question-gen-openai<0.2.0,>=0.1.2 in /usr/local/lib/python3.10/dist-packages (from llama-index) (0.1.3)\n",
            "Requirement already satisfied: llama-index-readers-file<0.2.0,>=0.1.4 in /usr/local/lib/python3.10/dist-packages (from llama-index) (0.1.19)\n",
            "Requirement already satisfied: llama-index-readers-llama-parse<0.2.0,>=0.1.2 in /usr/local/lib/python3.10/dist-packages (from llama-index) (0.1.4)\n",
            "Requirement already satisfied: openai>=1.14.0 in /usr/local/lib/python3.10/dist-packages (from llama-index-agent-openai<0.3.0,>=0.1.4->llama-index) (1.23.2)\n",
            "Requirement already satisfied: PyYAML>=6.0.1 in /usr/local/lib/python3.10/dist-packages (from llama-index-core<0.11.0,>=0.10.30->llama-index) (6.0.1)\n",
            "Requirement already satisfied: SQLAlchemy[asyncio]>=1.4.49 in /usr/local/lib/python3.10/dist-packages (from llama-index-core<0.11.0,>=0.10.30->llama-index) (2.0.29)\n",
            "Requirement already satisfied: aiohttp<4.0.0,>=3.8.6 in /usr/local/lib/python3.10/dist-packages (from llama-index-core<0.11.0,>=0.10.30->llama-index) (3.9.5)\n",
            "Requirement already satisfied: dataclasses-json in /usr/local/lib/python3.10/dist-packages (from llama-index-core<0.11.0,>=0.10.30->llama-index) (0.6.4)\n",
            "Requirement already satisfied: deprecated>=1.2.9.3 in /usr/local/lib/python3.10/dist-packages (from llama-index-core<0.11.0,>=0.10.30->llama-index) (1.2.14)\n",
            "Requirement already satisfied: dirtyjson<2.0.0,>=1.0.8 in /usr/local/lib/python3.10/dist-packages (from llama-index-core<0.11.0,>=0.10.30->llama-index) (1.0.8)\n",
            "Requirement already satisfied: fsspec>=2023.5.0 in /usr/local/lib/python3.10/dist-packages (from llama-index-core<0.11.0,>=0.10.30->llama-index) (2023.6.0)\n",
            "Requirement already satisfied: httpx in /usr/local/lib/python3.10/dist-packages (from llama-index-core<0.11.0,>=0.10.30->llama-index) (0.27.0)\n",
            "Requirement already satisfied: llamaindex-py-client<0.2.0,>=0.1.18 in /usr/local/lib/python3.10/dist-packages (from llama-index-core<0.11.0,>=0.10.30->llama-index) (0.1.18)\n",
            "Requirement already satisfied: nest-asyncio<2.0.0,>=1.5.8 in /usr/local/lib/python3.10/dist-packages (from llama-index-core<0.11.0,>=0.10.30->llama-index) (1.6.0)\n",
            "Requirement already satisfied: networkx>=3.0 in /usr/local/lib/python3.10/dist-packages (from llama-index-core<0.11.0,>=0.10.30->llama-index) (3.3)\n",
            "Requirement already satisfied: nltk<4.0.0,>=3.8.1 in /usr/local/lib/python3.10/dist-packages (from llama-index-core<0.11.0,>=0.10.30->llama-index) (3.8.1)\n",
            "Requirement already satisfied: numpy in /usr/local/lib/python3.10/dist-packages (from llama-index-core<0.11.0,>=0.10.30->llama-index) (1.25.2)\n",
            "Requirement already satisfied: pandas in /usr/local/lib/python3.10/dist-packages (from llama-index-core<0.11.0,>=0.10.30->llama-index) (2.0.3)\n",
            "Requirement already satisfied: pillow>=9.0.0 in /usr/local/lib/python3.10/dist-packages (from llama-index-core<0.11.0,>=0.10.30->llama-index) (9.4.0)\n",
            "Requirement already satisfied: requests>=2.31.0 in /usr/local/lib/python3.10/dist-packages (from llama-index-core<0.11.0,>=0.10.30->llama-index) (2.31.0)\n",
            "Requirement already satisfied: tenacity<9.0.0,>=8.2.0 in /usr/local/lib/python3.10/dist-packages (from llama-index-core<0.11.0,>=0.10.30->llama-index) (8.2.3)\n",
            "Requirement already satisfied: tiktoken>=0.3.3 in /usr/local/lib/python3.10/dist-packages (from llama-index-core<0.11.0,>=0.10.30->llama-index) (0.6.0)\n",
            "Requirement already satisfied: tqdm<5.0.0,>=4.66.1 in /usr/local/lib/python3.10/dist-packages (from llama-index-core<0.11.0,>=0.10.30->llama-index) (4.66.2)\n",
            "Requirement already satisfied: typing-extensions>=4.5.0 in /usr/local/lib/python3.10/dist-packages (from llama-index-core<0.11.0,>=0.10.30->llama-index) (4.11.0)\n",
            "Requirement already satisfied: typing-inspect>=0.8.0 in /usr/local/lib/python3.10/dist-packages (from llama-index-core<0.11.0,>=0.10.30->llama-index) (0.9.0)\n",
            "Requirement already satisfied: wrapt in /usr/local/lib/python3.10/dist-packages (from llama-index-core<0.11.0,>=0.10.30->llama-index) (1.14.1)\n",
            "Requirement already satisfied: beautifulsoup4<5.0.0,>=4.12.3 in /usr/local/lib/python3.10/dist-packages (from llama-index-readers-file<0.2.0,>=0.1.4->llama-index) (4.12.3)\n",
            "Requirement already satisfied: pypdf<5.0.0,>=4.0.1 in /usr/local/lib/python3.10/dist-packages (from llama-index-readers-file<0.2.0,>=0.1.4->llama-index) (4.2.0)\n",
            "Requirement already satisfied: striprtf<0.0.27,>=0.0.26 in /usr/local/lib/python3.10/dist-packages (from llama-index-readers-file<0.2.0,>=0.1.4->llama-index) (0.0.26)\n",
            "Requirement already satisfied: llama-parse<0.5.0,>=0.4.0 in /usr/local/lib/python3.10/dist-packages (from llama-index-readers-llama-parse<0.2.0,>=0.1.2->llama-index) (0.4.1)\n",
            "Requirement already satisfied: aiosignal>=1.1.2 in /usr/local/lib/python3.10/dist-packages (from aiohttp<4.0.0,>=3.8.6->llama-index-core<0.11.0,>=0.10.30->llama-index) (1.3.1)\n",
            "Requirement already satisfied: attrs>=17.3.0 in /usr/local/lib/python3.10/dist-packages (from aiohttp<4.0.0,>=3.8.6->llama-index-core<0.11.0,>=0.10.30->llama-index) (23.2.0)\n",
            "Requirement already satisfied: frozenlist>=1.1.1 in /usr/local/lib/python3.10/dist-packages (from aiohttp<4.0.0,>=3.8.6->llama-index-core<0.11.0,>=0.10.30->llama-index) (1.4.1)\n",
            "Requirement already satisfied: multidict<7.0,>=4.5 in /usr/local/lib/python3.10/dist-packages (from aiohttp<4.0.0,>=3.8.6->llama-index-core<0.11.0,>=0.10.30->llama-index) (6.0.5)\n",
            "Requirement already satisfied: yarl<2.0,>=1.0 in /usr/local/lib/python3.10/dist-packages (from aiohttp<4.0.0,>=3.8.6->llama-index-core<0.11.0,>=0.10.30->llama-index) (1.9.4)\n",
            "Requirement already satisfied: async-timeout<5.0,>=4.0 in /usr/local/lib/python3.10/dist-packages (from aiohttp<4.0.0,>=3.8.6->llama-index-core<0.11.0,>=0.10.30->llama-index) (4.0.3)\n",
            "Requirement already satisfied: soupsieve>1.2 in /usr/local/lib/python3.10/dist-packages (from beautifulsoup4<5.0.0,>=4.12.3->llama-index-readers-file<0.2.0,>=0.1.4->llama-index) (2.5)\n",
            "Requirement already satisfied: pydantic>=1.10 in /usr/local/lib/python3.10/dist-packages (from llamaindex-py-client<0.2.0,>=0.1.18->llama-index-core<0.11.0,>=0.10.30->llama-index) (2.7.0)\n",
            "Requirement already satisfied: anyio in /usr/local/lib/python3.10/dist-packages (from httpx->llama-index-core<0.11.0,>=0.10.30->llama-index) (3.7.1)\n",
            "Requirement already satisfied: certifi in /usr/local/lib/python3.10/dist-packages (from httpx->llama-index-core<0.11.0,>=0.10.30->llama-index) (2024.2.2)\n",
            "Requirement already satisfied: httpcore==1.* in /usr/local/lib/python3.10/dist-packages (from httpx->llama-index-core<0.11.0,>=0.10.30->llama-index) (1.0.5)\n",
            "Requirement already satisfied: idna in /usr/local/lib/python3.10/dist-packages (from httpx->llama-index-core<0.11.0,>=0.10.30->llama-index) (3.7)\n",
            "Requirement already satisfied: sniffio in /usr/local/lib/python3.10/dist-packages (from httpx->llama-index-core<0.11.0,>=0.10.30->llama-index) (1.3.1)\n",
            "Requirement already satisfied: h11<0.15,>=0.13 in /usr/local/lib/python3.10/dist-packages (from httpcore==1.*->httpx->llama-index-core<0.11.0,>=0.10.30->llama-index) (0.14.0)\n",
            "Requirement already satisfied: click in /usr/local/lib/python3.10/dist-packages (from nltk<4.0.0,>=3.8.1->llama-index-core<0.11.0,>=0.10.30->llama-index) (8.1.7)\n",
            "Requirement already satisfied: joblib in /usr/local/lib/python3.10/dist-packages (from nltk<4.0.0,>=3.8.1->llama-index-core<0.11.0,>=0.10.30->llama-index) (1.4.0)\n",
            "Requirement already satisfied: regex>=2021.8.3 in /usr/local/lib/python3.10/dist-packages (from nltk<4.0.0,>=3.8.1->llama-index-core<0.11.0,>=0.10.30->llama-index) (2023.12.25)\n",
            "Requirement already satisfied: distro<2,>=1.7.0 in /usr/lib/python3/dist-packages (from openai>=1.14.0->llama-index-agent-openai<0.3.0,>=0.1.4->llama-index) (1.7.0)\n",
            "Requirement already satisfied: charset-normalizer<4,>=2 in /usr/local/lib/python3.10/dist-packages (from requests>=2.31.0->llama-index-core<0.11.0,>=0.10.30->llama-index) (3.3.2)\n",
            "Requirement already satisfied: urllib3<3,>=1.21.1 in /usr/local/lib/python3.10/dist-packages (from requests>=2.31.0->llama-index-core<0.11.0,>=0.10.30->llama-index) (2.0.7)\n",
            "Requirement already satisfied: greenlet!=0.4.17 in /usr/local/lib/python3.10/dist-packages (from SQLAlchemy[asyncio]>=1.4.49->llama-index-core<0.11.0,>=0.10.30->llama-index) (3.0.3)\n",
            "Requirement already satisfied: mypy-extensions>=0.3.0 in /usr/local/lib/python3.10/dist-packages (from typing-inspect>=0.8.0->llama-index-core<0.11.0,>=0.10.30->llama-index) (1.0.0)\n",
            "Requirement already satisfied: marshmallow<4.0.0,>=3.18.0 in /usr/local/lib/python3.10/dist-packages (from dataclasses-json->llama-index-core<0.11.0,>=0.10.30->llama-index) (3.21.1)\n",
            "Requirement already satisfied: python-dateutil>=2.8.2 in /usr/local/lib/python3.10/dist-packages (from pandas->llama-index-core<0.11.0,>=0.10.30->llama-index) (2.8.2)\n",
            "Requirement already satisfied: pytz>=2020.1 in /usr/local/lib/python3.10/dist-packages (from pandas->llama-index-core<0.11.0,>=0.10.30->llama-index) (2023.4)\n",
            "Requirement already satisfied: tzdata>=2022.1 in /usr/local/lib/python3.10/dist-packages (from pandas->llama-index-core<0.11.0,>=0.10.30->llama-index) (2024.1)\n",
            "Requirement already satisfied: exceptiongroup in /usr/local/lib/python3.10/dist-packages (from anyio->httpx->llama-index-core<0.11.0,>=0.10.30->llama-index) (1.2.0)\n",
            "Requirement already satisfied: packaging>=17.0 in /usr/local/lib/python3.10/dist-packages (from marshmallow<4.0.0,>=3.18.0->dataclasses-json->llama-index-core<0.11.0,>=0.10.30->llama-index) (23.2)\n",
            "Requirement already satisfied: annotated-types>=0.4.0 in /usr/local/lib/python3.10/dist-packages (from pydantic>=1.10->llamaindex-py-client<0.2.0,>=0.1.18->llama-index-core<0.11.0,>=0.10.30->llama-index) (0.6.0)\n",
            "Requirement already satisfied: pydantic-core==2.18.1 in /usr/local/lib/python3.10/dist-packages (from pydantic>=1.10->llamaindex-py-client<0.2.0,>=0.1.18->llama-index-core<0.11.0,>=0.10.30->llama-index) (2.18.1)\n",
            "Requirement already satisfied: six>=1.5 in /usr/local/lib/python3.10/dist-packages (from python-dateutil>=2.8.2->pandas->llama-index-core<0.11.0,>=0.10.30->llama-index) (1.16.0)\n"
          ]
        }
      ],
      "source": [
        "!pip install llama-index"
      ]
    },
    {
      "cell_type": "code",
      "execution_count": null,
      "metadata": {
        "id": "tg2Z5BwyLtFw"
      },
      "outputs": [],
      "source": [
        "from llama_index.core import VectorStoreIndex,SimpleDirectoryReader,ServiceContext,PromptTemplate"
      ]
    },
    {
      "cell_type": "code",
      "execution_count": null,
      "metadata": {
        "colab": {
          "base_uri": "https://localhost:8080/"
        },
        "id": "ChsNvRIZMmXF",
        "outputId": "92ae552f-1257-4790-fdd2-a171030da37c"
      },
      "outputs": [
        {
          "output_type": "stream",
          "name": "stdout",
          "text": [
            "Requirement already satisfied: llama-index-llms-huggingface in /usr/local/lib/python3.10/dist-packages (0.1.4)\n",
            "Requirement already satisfied: huggingface-hub<0.21.0,>=0.20.3 in /usr/local/lib/python3.10/dist-packages (from llama-index-llms-huggingface) (0.20.3)\n",
            "Requirement already satisfied: llama-index-core<0.11.0,>=0.10.1 in /usr/local/lib/python3.10/dist-packages (from llama-index-llms-huggingface) (0.10.30)\n",
            "Requirement already satisfied: torch<3.0.0,>=2.1.2 in /usr/local/lib/python3.10/dist-packages (from llama-index-llms-huggingface) (2.2.1+cu121)\n",
            "Requirement already satisfied: transformers[torch]<5.0.0,>=4.37.0 in /usr/local/lib/python3.10/dist-packages (from llama-index-llms-huggingface) (4.38.2)\n",
            "Requirement already satisfied: filelock in /usr/local/lib/python3.10/dist-packages (from huggingface-hub<0.21.0,>=0.20.3->llama-index-llms-huggingface) (3.13.4)\n",
            "Requirement already satisfied: fsspec>=2023.5.0 in /usr/local/lib/python3.10/dist-packages (from huggingface-hub<0.21.0,>=0.20.3->llama-index-llms-huggingface) (2023.6.0)\n",
            "Requirement already satisfied: requests in /usr/local/lib/python3.10/dist-packages (from huggingface-hub<0.21.0,>=0.20.3->llama-index-llms-huggingface) (2.31.0)\n",
            "Requirement already satisfied: tqdm>=4.42.1 in /usr/local/lib/python3.10/dist-packages (from huggingface-hub<0.21.0,>=0.20.3->llama-index-llms-huggingface) (4.66.2)\n",
            "Requirement already satisfied: pyyaml>=5.1 in /usr/local/lib/python3.10/dist-packages (from huggingface-hub<0.21.0,>=0.20.3->llama-index-llms-huggingface) (6.0.1)\n",
            "Requirement already satisfied: typing-extensions>=3.7.4.3 in /usr/local/lib/python3.10/dist-packages (from huggingface-hub<0.21.0,>=0.20.3->llama-index-llms-huggingface) (4.11.0)\n",
            "Requirement already satisfied: packaging>=20.9 in /usr/local/lib/python3.10/dist-packages (from huggingface-hub<0.21.0,>=0.20.3->llama-index-llms-huggingface) (23.2)\n",
            "Requirement already satisfied: SQLAlchemy[asyncio]>=1.4.49 in /usr/local/lib/python3.10/dist-packages (from llama-index-core<0.11.0,>=0.10.1->llama-index-llms-huggingface) (2.0.29)\n",
            "Requirement already satisfied: aiohttp<4.0.0,>=3.8.6 in /usr/local/lib/python3.10/dist-packages (from llama-index-core<0.11.0,>=0.10.1->llama-index-llms-huggingface) (3.9.5)\n",
            "Requirement already satisfied: dataclasses-json in /usr/local/lib/python3.10/dist-packages (from llama-index-core<0.11.0,>=0.10.1->llama-index-llms-huggingface) (0.6.4)\n",
            "Requirement already satisfied: deprecated>=1.2.9.3 in /usr/local/lib/python3.10/dist-packages (from llama-index-core<0.11.0,>=0.10.1->llama-index-llms-huggingface) (1.2.14)\n",
            "Requirement already satisfied: dirtyjson<2.0.0,>=1.0.8 in /usr/local/lib/python3.10/dist-packages (from llama-index-core<0.11.0,>=0.10.1->llama-index-llms-huggingface) (1.0.8)\n",
            "Requirement already satisfied: httpx in /usr/local/lib/python3.10/dist-packages (from llama-index-core<0.11.0,>=0.10.1->llama-index-llms-huggingface) (0.27.0)\n",
            "Requirement already satisfied: llamaindex-py-client<0.2.0,>=0.1.18 in /usr/local/lib/python3.10/dist-packages (from llama-index-core<0.11.0,>=0.10.1->llama-index-llms-huggingface) (0.1.18)\n",
            "Requirement already satisfied: nest-asyncio<2.0.0,>=1.5.8 in /usr/local/lib/python3.10/dist-packages (from llama-index-core<0.11.0,>=0.10.1->llama-index-llms-huggingface) (1.6.0)\n",
            "Requirement already satisfied: networkx>=3.0 in /usr/local/lib/python3.10/dist-packages (from llama-index-core<0.11.0,>=0.10.1->llama-index-llms-huggingface) (3.3)\n",
            "Requirement already satisfied: nltk<4.0.0,>=3.8.1 in /usr/local/lib/python3.10/dist-packages (from llama-index-core<0.11.0,>=0.10.1->llama-index-llms-huggingface) (3.8.1)\n",
            "Requirement already satisfied: numpy in /usr/local/lib/python3.10/dist-packages (from llama-index-core<0.11.0,>=0.10.1->llama-index-llms-huggingface) (1.25.2)\n",
            "Requirement already satisfied: openai>=1.1.0 in /usr/local/lib/python3.10/dist-packages (from llama-index-core<0.11.0,>=0.10.1->llama-index-llms-huggingface) (1.23.2)\n",
            "Requirement already satisfied: pandas in /usr/local/lib/python3.10/dist-packages (from llama-index-core<0.11.0,>=0.10.1->llama-index-llms-huggingface) (2.0.3)\n",
            "Requirement already satisfied: pillow>=9.0.0 in /usr/local/lib/python3.10/dist-packages (from llama-index-core<0.11.0,>=0.10.1->llama-index-llms-huggingface) (9.4.0)\n",
            "Requirement already satisfied: tenacity<9.0.0,>=8.2.0 in /usr/local/lib/python3.10/dist-packages (from llama-index-core<0.11.0,>=0.10.1->llama-index-llms-huggingface) (8.2.3)\n",
            "Requirement already satisfied: tiktoken>=0.3.3 in /usr/local/lib/python3.10/dist-packages (from llama-index-core<0.11.0,>=0.10.1->llama-index-llms-huggingface) (0.6.0)\n",
            "Requirement already satisfied: typing-inspect>=0.8.0 in /usr/local/lib/python3.10/dist-packages (from llama-index-core<0.11.0,>=0.10.1->llama-index-llms-huggingface) (0.9.0)\n",
            "Requirement already satisfied: wrapt in /usr/local/lib/python3.10/dist-packages (from llama-index-core<0.11.0,>=0.10.1->llama-index-llms-huggingface) (1.14.1)\n",
            "Requirement already satisfied: sympy in /usr/local/lib/python3.10/dist-packages (from torch<3.0.0,>=2.1.2->llama-index-llms-huggingface) (1.12)\n",
            "Requirement already satisfied: jinja2 in /usr/local/lib/python3.10/dist-packages (from torch<3.0.0,>=2.1.2->llama-index-llms-huggingface) (3.1.3)\n",
            "Requirement already satisfied: nvidia-cuda-nvrtc-cu12==12.1.105 in /usr/local/lib/python3.10/dist-packages (from torch<3.0.0,>=2.1.2->llama-index-llms-huggingface) (12.1.105)\n",
            "Requirement already satisfied: nvidia-cuda-runtime-cu12==12.1.105 in /usr/local/lib/python3.10/dist-packages (from torch<3.0.0,>=2.1.2->llama-index-llms-huggingface) (12.1.105)\n",
            "Requirement already satisfied: nvidia-cuda-cupti-cu12==12.1.105 in /usr/local/lib/python3.10/dist-packages (from torch<3.0.0,>=2.1.2->llama-index-llms-huggingface) (12.1.105)\n",
            "Requirement already satisfied: nvidia-cudnn-cu12==8.9.2.26 in /usr/local/lib/python3.10/dist-packages (from torch<3.0.0,>=2.1.2->llama-index-llms-huggingface) (8.9.2.26)\n",
            "Requirement already satisfied: nvidia-cublas-cu12==12.1.3.1 in /usr/local/lib/python3.10/dist-packages (from torch<3.0.0,>=2.1.2->llama-index-llms-huggingface) (12.1.3.1)\n",
            "Requirement already satisfied: nvidia-cufft-cu12==11.0.2.54 in /usr/local/lib/python3.10/dist-packages (from torch<3.0.0,>=2.1.2->llama-index-llms-huggingface) (11.0.2.54)\n",
            "Requirement already satisfied: nvidia-curand-cu12==10.3.2.106 in /usr/local/lib/python3.10/dist-packages (from torch<3.0.0,>=2.1.2->llama-index-llms-huggingface) (10.3.2.106)\n",
            "Requirement already satisfied: nvidia-cusolver-cu12==11.4.5.107 in /usr/local/lib/python3.10/dist-packages (from torch<3.0.0,>=2.1.2->llama-index-llms-huggingface) (11.4.5.107)\n",
            "Requirement already satisfied: nvidia-cusparse-cu12==12.1.0.106 in /usr/local/lib/python3.10/dist-packages (from torch<3.0.0,>=2.1.2->llama-index-llms-huggingface) (12.1.0.106)\n",
            "Requirement already satisfied: nvidia-nccl-cu12==2.19.3 in /usr/local/lib/python3.10/dist-packages (from torch<3.0.0,>=2.1.2->llama-index-llms-huggingface) (2.19.3)\n",
            "Requirement already satisfied: nvidia-nvtx-cu12==12.1.105 in /usr/local/lib/python3.10/dist-packages (from torch<3.0.0,>=2.1.2->llama-index-llms-huggingface) (12.1.105)\n",
            "Requirement already satisfied: triton==2.2.0 in /usr/local/lib/python3.10/dist-packages (from torch<3.0.0,>=2.1.2->llama-index-llms-huggingface) (2.2.0)\n",
            "Requirement already satisfied: nvidia-nvjitlink-cu12 in /usr/local/lib/python3.10/dist-packages (from nvidia-cusolver-cu12==11.4.5.107->torch<3.0.0,>=2.1.2->llama-index-llms-huggingface) (12.4.127)\n",
            "Requirement already satisfied: regex!=2019.12.17 in /usr/local/lib/python3.10/dist-packages (from transformers[torch]<5.0.0,>=4.37.0->llama-index-llms-huggingface) (2023.12.25)\n",
            "Requirement already satisfied: tokenizers<0.19,>=0.14 in /usr/local/lib/python3.10/dist-packages (from transformers[torch]<5.0.0,>=4.37.0->llama-index-llms-huggingface) (0.15.2)\n",
            "Requirement already satisfied: safetensors>=0.4.1 in /usr/local/lib/python3.10/dist-packages (from transformers[torch]<5.0.0,>=4.37.0->llama-index-llms-huggingface) (0.4.3)\n",
            "Requirement already satisfied: accelerate>=0.21.0 in /usr/local/lib/python3.10/dist-packages (from transformers[torch]<5.0.0,>=4.37.0->llama-index-llms-huggingface) (0.29.3)\n",
            "Requirement already satisfied: psutil in /usr/local/lib/python3.10/dist-packages (from accelerate>=0.21.0->transformers[torch]<5.0.0,>=4.37.0->llama-index-llms-huggingface) (5.9.5)\n",
            "Requirement already satisfied: aiosignal>=1.1.2 in /usr/local/lib/python3.10/dist-packages (from aiohttp<4.0.0,>=3.8.6->llama-index-core<0.11.0,>=0.10.1->llama-index-llms-huggingface) (1.3.1)\n",
            "Requirement already satisfied: attrs>=17.3.0 in /usr/local/lib/python3.10/dist-packages (from aiohttp<4.0.0,>=3.8.6->llama-index-core<0.11.0,>=0.10.1->llama-index-llms-huggingface) (23.2.0)\n",
            "Requirement already satisfied: frozenlist>=1.1.1 in /usr/local/lib/python3.10/dist-packages (from aiohttp<4.0.0,>=3.8.6->llama-index-core<0.11.0,>=0.10.1->llama-index-llms-huggingface) (1.4.1)\n",
            "Requirement already satisfied: multidict<7.0,>=4.5 in /usr/local/lib/python3.10/dist-packages (from aiohttp<4.0.0,>=3.8.6->llama-index-core<0.11.0,>=0.10.1->llama-index-llms-huggingface) (6.0.5)\n",
            "Requirement already satisfied: yarl<2.0,>=1.0 in /usr/local/lib/python3.10/dist-packages (from aiohttp<4.0.0,>=3.8.6->llama-index-core<0.11.0,>=0.10.1->llama-index-llms-huggingface) (1.9.4)\n",
            "Requirement already satisfied: async-timeout<5.0,>=4.0 in /usr/local/lib/python3.10/dist-packages (from aiohttp<4.0.0,>=3.8.6->llama-index-core<0.11.0,>=0.10.1->llama-index-llms-huggingface) (4.0.3)\n",
            "Requirement already satisfied: pydantic>=1.10 in /usr/local/lib/python3.10/dist-packages (from llamaindex-py-client<0.2.0,>=0.1.18->llama-index-core<0.11.0,>=0.10.1->llama-index-llms-huggingface) (2.7.0)\n",
            "Requirement already satisfied: anyio in /usr/local/lib/python3.10/dist-packages (from httpx->llama-index-core<0.11.0,>=0.10.1->llama-index-llms-huggingface) (3.7.1)\n",
            "Requirement already satisfied: certifi in /usr/local/lib/python3.10/dist-packages (from httpx->llama-index-core<0.11.0,>=0.10.1->llama-index-llms-huggingface) (2024.2.2)\n",
            "Requirement already satisfied: httpcore==1.* in /usr/local/lib/python3.10/dist-packages (from httpx->llama-index-core<0.11.0,>=0.10.1->llama-index-llms-huggingface) (1.0.5)\n",
            "Requirement already satisfied: idna in /usr/local/lib/python3.10/dist-packages (from httpx->llama-index-core<0.11.0,>=0.10.1->llama-index-llms-huggingface) (3.7)\n",
            "Requirement already satisfied: sniffio in /usr/local/lib/python3.10/dist-packages (from httpx->llama-index-core<0.11.0,>=0.10.1->llama-index-llms-huggingface) (1.3.1)\n",
            "Requirement already satisfied: h11<0.15,>=0.13 in /usr/local/lib/python3.10/dist-packages (from httpcore==1.*->httpx->llama-index-core<0.11.0,>=0.10.1->llama-index-llms-huggingface) (0.14.0)\n",
            "Requirement already satisfied: click in /usr/local/lib/python3.10/dist-packages (from nltk<4.0.0,>=3.8.1->llama-index-core<0.11.0,>=0.10.1->llama-index-llms-huggingface) (8.1.7)\n",
            "Requirement already satisfied: joblib in /usr/local/lib/python3.10/dist-packages (from nltk<4.0.0,>=3.8.1->llama-index-core<0.11.0,>=0.10.1->llama-index-llms-huggingface) (1.4.0)\n",
            "Requirement already satisfied: distro<2,>=1.7.0 in /usr/lib/python3/dist-packages (from openai>=1.1.0->llama-index-core<0.11.0,>=0.10.1->llama-index-llms-huggingface) (1.7.0)\n",
            "Requirement already satisfied: charset-normalizer<4,>=2 in /usr/local/lib/python3.10/dist-packages (from requests->huggingface-hub<0.21.0,>=0.20.3->llama-index-llms-huggingface) (3.3.2)\n",
            "Requirement already satisfied: urllib3<3,>=1.21.1 in /usr/local/lib/python3.10/dist-packages (from requests->huggingface-hub<0.21.0,>=0.20.3->llama-index-llms-huggingface) (2.0.7)\n",
            "Requirement already satisfied: greenlet!=0.4.17 in /usr/local/lib/python3.10/dist-packages (from SQLAlchemy[asyncio]>=1.4.49->llama-index-core<0.11.0,>=0.10.1->llama-index-llms-huggingface) (3.0.3)\n",
            "Requirement already satisfied: mypy-extensions>=0.3.0 in /usr/local/lib/python3.10/dist-packages (from typing-inspect>=0.8.0->llama-index-core<0.11.0,>=0.10.1->llama-index-llms-huggingface) (1.0.0)\n",
            "Requirement already satisfied: marshmallow<4.0.0,>=3.18.0 in /usr/local/lib/python3.10/dist-packages (from dataclasses-json->llama-index-core<0.11.0,>=0.10.1->llama-index-llms-huggingface) (3.21.1)\n",
            "Requirement already satisfied: MarkupSafe>=2.0 in /usr/local/lib/python3.10/dist-packages (from jinja2->torch<3.0.0,>=2.1.2->llama-index-llms-huggingface) (2.1.5)\n",
            "Requirement already satisfied: python-dateutil>=2.8.2 in /usr/local/lib/python3.10/dist-packages (from pandas->llama-index-core<0.11.0,>=0.10.1->llama-index-llms-huggingface) (2.8.2)\n",
            "Requirement already satisfied: pytz>=2020.1 in /usr/local/lib/python3.10/dist-packages (from pandas->llama-index-core<0.11.0,>=0.10.1->llama-index-llms-huggingface) (2023.4)\n",
            "Requirement already satisfied: tzdata>=2022.1 in /usr/local/lib/python3.10/dist-packages (from pandas->llama-index-core<0.11.0,>=0.10.1->llama-index-llms-huggingface) (2024.1)\n",
            "Requirement already satisfied: mpmath>=0.19 in /usr/local/lib/python3.10/dist-packages (from sympy->torch<3.0.0,>=2.1.2->llama-index-llms-huggingface) (1.3.0)\n",
            "Requirement already satisfied: exceptiongroup in /usr/local/lib/python3.10/dist-packages (from anyio->httpx->llama-index-core<0.11.0,>=0.10.1->llama-index-llms-huggingface) (1.2.0)\n",
            "Requirement already satisfied: annotated-types>=0.4.0 in /usr/local/lib/python3.10/dist-packages (from pydantic>=1.10->llamaindex-py-client<0.2.0,>=0.1.18->llama-index-core<0.11.0,>=0.10.1->llama-index-llms-huggingface) (0.6.0)\n",
            "Requirement already satisfied: pydantic-core==2.18.1 in /usr/local/lib/python3.10/dist-packages (from pydantic>=1.10->llamaindex-py-client<0.2.0,>=0.1.18->llama-index-core<0.11.0,>=0.10.1->llama-index-llms-huggingface) (2.18.1)\n",
            "Requirement already satisfied: six>=1.5 in /usr/local/lib/python3.10/dist-packages (from python-dateutil>=2.8.2->pandas->llama-index-core<0.11.0,>=0.10.1->llama-index-llms-huggingface) (1.16.0)\n"
          ]
        }
      ],
      "source": [
        "!pip install llama-index-llms-huggingface"
      ]
    },
    {
      "cell_type": "code",
      "execution_count": null,
      "metadata": {
        "id": "Irnz5KZjMNd8"
      },
      "outputs": [],
      "source": [
        "from llama_index.llms.huggingface import HuggingFaceLLM\n",
        "from llama_index.core.prompts.prompts import SimpleInputPrompt"
      ]
    },
    {
      "cell_type": "code",
      "source": [
        "\"\"\"from langchain import HuggingFacePipeline\n",
        "from transformers import AutoTokenizer\n",
        "import transformers\n",
        "import torch\n",
        "\n",
        "model = \"meta-llama/Llama-2-7b-chat-hf\"\n",
        "\n",
        "tokenizer = AutoTokenizer.from_pretrained(model)\n",
        "\n",
        "pipeline = transformers.pipeline(\n",
        "    \"text-generation\", #task\n",
        "    model=model,\n",
        "    tokenizer=tokenizer,\n",
        "    torch_dtype=torch.bfloat16,\n",
        "    trust_remote_code=True,\n",
        "    device_map=\"auto\",\n",
        "    max_length=1000,\n",
        "    do_sample=True,\n",
        "    top_k=10,\n",
        "    num_return_sequences=1,\n",
        "    eos_token_id=tokenizer.eos_token_id\n",
        ")\"\"\""
      ],
      "metadata": {
        "id": "7wu2HhhMm4G9",
        "colab": {
          "base_uri": "https://localhost:8080/",
          "height": 88
        },
        "outputId": "1817d779-1dc6-476a-ba37-5222fdb3b590"
      },
      "execution_count": null,
      "outputs": [
        {
          "output_type": "execute_result",
          "data": {
            "text/plain": [
              "'from langchain import HuggingFacePipeline\\nfrom transformers import AutoTokenizer\\nimport transformers\\nimport torch\\n\\nmodel = \"meta-llama/Llama-2-7b-chat-hf\"\\n\\ntokenizer = AutoTokenizer.from_pretrained(model)\\n\\npipeline = transformers.pipeline(\\n    \"text-generation\", #task\\n    model=model,\\n    tokenizer=tokenizer,\\n    torch_dtype=torch.bfloat16,\\n    trust_remote_code=True,\\n    device_map=\"auto\",\\n    max_length=1000,\\n    do_sample=True,\\n    top_k=10,\\n    num_return_sequences=1,\\n    eos_token_id=tokenizer.eos_token_id\\n)'"
            ],
            "application/vnd.google.colaboratory.intrinsic+json": {
              "type": "string"
            }
          },
          "metadata": {},
          "execution_count": 9
        }
      ]
    },
    {
      "cell_type": "code",
      "source": [
        "#llm = HuggingFacePipeline(pipeline = pipeline, model_kwargs = {'temperature':0})"
      ],
      "metadata": {
        "id": "Rr-aJ7TNnjrN",
        "outputId": "665c8a87-ec71-4b0c-ee10-e9f013f0f445",
        "colab": {
          "base_uri": "https://localhost:8080/",
          "height": 141
        }
      },
      "execution_count": null,
      "outputs": [
        {
          "output_type": "error",
          "ename": "NameError",
          "evalue": "name 'HuggingFacePipeline' is not defined",
          "traceback": [
            "\u001b[0;31m---------------------------------------------------------------------------\u001b[0m",
            "\u001b[0;31mNameError\u001b[0m                                 Traceback (most recent call last)",
            "\u001b[0;32m<ipython-input-10-9410ce7de563>\u001b[0m in \u001b[0;36m<cell line: 1>\u001b[0;34m()\u001b[0m\n\u001b[0;32m----> 1\u001b[0;31m \u001b[0mllm\u001b[0m \u001b[0;34m=\u001b[0m \u001b[0mHuggingFacePipeline\u001b[0m\u001b[0;34m(\u001b[0m\u001b[0mpipeline\u001b[0m \u001b[0;34m=\u001b[0m \u001b[0mpipeline\u001b[0m\u001b[0;34m,\u001b[0m \u001b[0mmodel_kwargs\u001b[0m \u001b[0;34m=\u001b[0m \u001b[0;34m{\u001b[0m\u001b[0;34m'temperature'\u001b[0m\u001b[0;34m:\u001b[0m\u001b[0;36m0\u001b[0m\u001b[0;34m}\u001b[0m\u001b[0;34m)\u001b[0m\u001b[0;34m\u001b[0m\u001b[0;34m\u001b[0m\u001b[0m\n\u001b[0m",
            "\u001b[0;31mNameError\u001b[0m: name 'HuggingFacePipeline' is not defined"
          ]
        }
      ]
    },
    {
      "cell_type": "code",
      "execution_count": null,
      "metadata": {
        "colab": {
          "base_uri": "https://localhost:8080/"
        },
        "id": "ihFXPROeN_eY",
        "outputId": "fabe02bc-9b82-4dde-a78a-b4ae35d0e86b"
      },
      "outputs": [
        {
          "output_type": "stream",
          "name": "stdout",
          "text": [
            "Requirement already satisfied: PyPDF2 in /usr/local/lib/python3.10/dist-packages (3.0.1)\n"
          ]
        }
      ],
      "source": [
        "!pip install PyPDF2\n"
      ]
    },
    {
      "cell_type": "code",
      "source": [],
      "metadata": {
        "id": "x8dWUDgffj0n"
      },
      "execution_count": null,
      "outputs": []
    },
    {
      "cell_type": "code",
      "execution_count": null,
      "metadata": {
        "colab": {
          "base_uri": "https://localhost:8080/"
        },
        "id": "5PNYa4c3OY1U",
        "outputId": "bfe0eb7d-8a21-419a-8c08-59f5349e53db"
      },
      "outputs": [
        {
          "output_type": "stream",
          "name": "stdout",
          "text": [
            "              B L A D E  R U N N E R  2 0 4 9   story by  Hampton Fancher   screenplay by  Hampton Fancher and  Michael Green                     FINAL SHOOTING SCRIPT FADE IN ON:A GREEN EYEWe move towards its pupil.EXT. SKIES OVER GROUND. DAY.SOARING OVERAN INFINITE ARTIFICIAL LANDSCAPE OF SOLAR PANELS AND PLASTIC SHEETING.  All dead and abandoned to the dust and wind.  Finally giving way to --EXT. FARMLAND. CALIFORNIA. DAY.Called farm only generously.  The ground dry, inhospitable.  A dubious horizon to distinguish the browns that are both Earth and sky.  There is no green in sight.The landscape streaks by in a blur.  Nothing to tame our focus until...  REVEAL:A SPINNERBeaten, scuffed, yet owns the sky like a seagull.  It flits RIGHT BY US, as we MOVE INSIDE --INT. SPINNER.THE PILOT IS ASLEEP.  The Spinner on autopilot.  The MAP on the dash is abruptly interrupted by A CHIME.The pilot wakes.  Yawns.This is K.  You’d peg him for 30 if you didn’t know better.  Refined features, flawless skin.  Intelligent eyes that breathe in detail and exhale warmth.  Gifted with a grin that masks wry for earnest.SHAPES begin to coalesce ahead in the distance.  Revealing themselves to be PLASTIC GREENHOUSES.K’s eyes go hard at seeing a strange INSTALLATION ahead.K directs the Spinner towards...  EXT. FARMLAND. CALIFORNIA. DAY.TRAVELLING WITH THE SPINNER over remains of abandoned greenhouses.  PLASTIC DOMES over what were once POOLS.A windmill stands above it all.  Slowly, creakily rotating.  Its bent wing hitting the center pole as it strikes 6 o’clock... creakCLACK... creakCLACK... creakCLACK... 1.The Spinner’s SHADOW rolls over the windmill.  Approaching --EXT. FARMHOUSE. DAY.Cement walls and corrugated tin roof.  An old school maybe.  Beside it a PLASTIC TENTED POOL.INT. TENTED POOL. DAY.Under a translucent dome.  A bull of a FARMER stands knee deep in a pool full of sludge, raking a nutrient rich solution.  Bio-reactors slowly filtered the fluid into vertical plasmid sacs that feed into LARGE BINS.The Farmer wears thick protective gear from head to toe.  Hood and goggles cover his face.  He takes up a handful of NEMATODES, pleased with his crop.  Looks up as --THE SPINNER SOARS OVERHEAD.The Farmer sets down his rake.EXT. FARMHOUSE.The Spinner lands in the open field behind the house, kicking up a PLUME of DUST that briefly obscures it.A small flitty HOVERCRAFT ejects itself from the back of the Spinner, A PILOTFISH.K emerges from the dust.  Whatever color his coat was, it’s brown now. K instructs with the Pilotfish with a gesture.  It TAKES OFF.K approaches the peeling-paint farmhouse.  ONE TREE in sight, a giant, DEAD, leafless thing.  A ghost of grandiosity, standing only thanks to a brace and wires staked down.INT. FARMHOUSE. MOMENTS LATER.K crosses creaking floors.  Looks around:  Kalsomined walls, pitted windows.  All old, but clean.  Someone takes pride.  Basic furniture, an UPRIGHT PIANO.  Otherwise EMPTY.  No decor, shelves BARE.K inspects the few items.  Sheet music for CHOPIN on the piano.  An aquarium in which COWSLIPS grow...A pot of something fragrant simmers on the stove...  K leans into the pot, sniffs deeply, when --HEAVY FOOTSTEPS come from outside.  Rattling the whole house.K re-lids the pot, as -- 2.EXT. FARMHOUSE. CONTINUOUS.The Farmer approaches his home.  Air HISSES in at the unfastening of his MASK.  He eyes the Spinner parked beyond the tree. Sees the Pilotfish hovering above. Pulls a chain.  A DECONTAMINATION SHOWER rains over his suit, which he can now unsnap.This is SAPPER MORTON.  Weathered 60s.  A well-broken nose.  Yet he pulls from his belt satchel a set of dainty glasses.  INT. FARMHOUSE. CONTINUOUSTHE DOOR OPENS.  Sapper steps in.  The floor creaks under his weight.He scans the room.  Empty.  Sapper moves to a sink where he violently scrubs his hands.  He does not yet see K.K leans from a shadow into the light.  A stranger, suddenly visible.  Briefly ominous.  An uncertain moment...K(polite)Hope you don’t mind me taking the liberty.  Wind’s a bit unkind out there.  I was careful not to track in any dirt.Sapper eyes K’s chummy posture. Dismisses any threat.SAPPERI do not mind dirt.  I do mind unannounced visits.  You police?KSapper Morton... Civic number NK680514?SAPPERI’m a farmer.K(genuinely interested)I saw that.  What do you farm?SAPPERThis is a protein farm.  Wallace design.Sapper fishes a clod off his boot and pulls off a single wriggling WORM.SAPPER (cont’d)It only takes the one to start.  Parthenogenic strain.  Constant doubling.  They’ll fill as much dirt as you can wet. 3.KIs that what I smell?K looks to that inviting pot on the stove.  Sapper shakes his head, pleased with himself.  Opens a cupboard, where a grow light nourishes PLANTS.  A few FLOWERS.  And a bottle terrarium full of GREEN SHOOTS.SAPPERGrow this just for me.  Garlic.KGarlic.He looks.  The pot on the stove bubbles and steams.SAPPERWhole town farmed it back once.  Smelled this good a hundred miles in circle.Try some?KNo thank you.  I prefer to keep a cold stomach until the hard part of the day’s behind me.  How long you been here?SAPPERSince ’20.  Came by it honest too if that’s what you’re after.KBut you weren’t a farmer prior.Sapper cocks his head at the comment.  K notes the SATCHEL at  his belt.K (cont’d)That bag... colonial medical use, isn’t it?  Military issue.  Heat resistant.  Where were you...  Calantha?  Must’ve been brutal.  Not many who survived bothered to come back to ground.A beat.  Sapper’s expression darkens.  He takes off his glasses puts them in his satchel.SAPPERPlanning on taking me in?  Huh?  Take a look inside.  See what they missed.REVEAL:  Sapper has A SCALPEL from his satchel.  Not likely.KIf taking you in is an option, I’d much prefer that over the alternative. 4.K puts his gun on the table.K (cont’d)You had to know it’d be someone in time.  Sorry it’s me.K stands and retrieves a small SCANNER from his pocket. SAPPERGood as any.K activates the scanner.KIf you’d look up and to the left please.The FIGHT is quick and it is fierce:Sapper stabs towards K’s heart.  K avoids the blade, only his coat and the wall are pierced by Sapper’s knife now stuck deep into the wall.  K breaks Sapper’s hold on the knife, which skids to the floor.K DUCKS a heavy fist that sinks into the wall where his head just was.  Sapper grabs K by his belt and collar, lifting him into the air and slamming him into the wall over and over -- until K’s body GOES THROUGH IT, and --K crashes onto the floor in the next room.K recovers quickly, strangely able to withstand the punishment.  He sees Sapper charge through the wall to finish the job.Sapper is on him -- a vice lock around K’s throat -- K gasping for air. K gets out of Sapper’s grip, and lashes out in rapid succession, his solar plexus, his chin, his throat, crushing his windpipe.  His blows are SURGICAL, anatomically precise, like viper bites.Sapper is stunned, choking, in pain.  K kicks Sappers’ knee and the giant drops to the floor like a felled oak tree.K SNATCHES Sapper’s THROAT -- SQUEEZING -- thumb SLIDING UPWARD as -- Sapper GASPS... FLAILS... hand reaching...For the dropped SCALPEL... GRASPING IT!HE STABS K in the SHOULDER.K accepts the wound and the pain.  Only squeezes tighter. 5.Sapper’s EYES ROLL BACK -- the desired effect -- REVEALING:  A PINPRICK OF COLOR on the underside of the right EYEBALL.K draws the SCANNER -- which reads the point like a bar code.  It confirms Sapper’s ID.K stops holding back -- SNAPS Sapper’s remaining good arm -- grabs his GUN that has fallen on the floor beside the table.K (cont’d)Please don’t get up.Sapper raises up still fighting for air.SAPPERHow does it feel, killing your own kind?KI don’t retire my own kind.  We don’t run.  Only old models run.SAPPERYou new models.  You’re happy scraping the shit.  You’ve never seen a miracle.Sapper gives a zealot’s grin.  Ready to die for a cause only he understands.  Eager for it.  HE RUSHES K.THE GUN THUNDERS.HOLD ON THE GUN.  So we only HEAR Sapper’s body DROP.K breathes heavy.  Checks his wound.  Sees his BLOOD on his FINGERS.Blood trickles onto fallen sheet music.  Staining Chopin.K smooths himself back to dignity.  Leans over the body.  Then PAUSES.  Crosses the room.  Finds a spoon.  Hesitates.Tastes the soup.  Hmmm.  Garlic.EXT. FARMHOUSE. MOMENTS LATER.K steps out.  Looks up at a sliver of sun eking through the dense clouds.  The Pilotfish is hovering above the farm.In one hand he holds SAPPER’S GLASSES.  In the other he holds a small, clear CASE.  INSIDE IS SAPPER’S EYE.  He staggers toward his Spinner.  Gestures to the Pilotfish.KPhotograph everything.The Pilotfish rises to take pictures of the farm. 6.INT. SPINNER.K taps a button on the dash.  An LAPD LOGO comes up.KMadam, please.ON SCREEN comes the perpetually disappointed face of LT. JOSHI.  A 50ish woman.  Ambitious, officious, impatient.  K’s backtalk gives fuel to her irritation so she tolerates it.  Or maybe she just likes the look of him.  More than she should.  She sees his BLOODY shoulder.JOSHI (ON SCREEN)You’re hurt.  I’m not paying for that.KI’ll glue it.JOSHI (ON SCREEN)And?In answer K holds up the CASE with SAPPER’S EYE.  The pinprick of his CODE below the cornea.  It SCANS.  Sapper’s SERIAL NUMBER and history open.  A NEXUS 8 for the curious.JOSHI (ON SCREEN) (cont’d)One of the tail end Nexus 8s before Prohibition.  Looks like he could take your head off.KHe thought about it.JOSHI (ON SCREEN)Field medic, standard ocular ID upgrades, open end lifespan, now ended.  He went AWOL after Calantha with a few more in his outfit I wouldn’t mind closing out.  Just him?MORE NEXUS 8 IDs flit by.  All wanting to be retired.KJust the one.JOSHI (ON SCREEN)Between the retirement and the bleed you’ll see a tidy bonus.  Less mine.KCan I get it today? 7.JOSHI (ON SCREEN)I don’t know what you all do with cash in pocket anyway.  Come on home for your baseline.Something catches K’s eye.  By that TREE.  Low to the ground.  The smallest pop of YELLOW... against a dirt brown world.KMoment, Madam.EXT. FARMHOUSE.He kneels at the foot of the tree to find:A SINGLE, SLENDER COWSLIP.  Left leaning against a root.K lifts it to his eye.  As if moved by its delicacy.  He considers the long dead tree.  Gestures to the Pilotfish --KThere.  30 meters to maximum depth.The Pilotfish begins a spiral over the area.ON THE SCREEN:  An ULTRASOUND of the ground below.  Root systems.  A cracked foundation.  And there, buried DEEP under the tree...  A SMALL SEALED SQUARE FOOTLOCKER.Joshi sees it in her office as well.  Annoyed at more work.JOSHI (ON SCREEN)What is that?KIt’s down in deep.  Send a dig team, Madam?Joshi SIGHS, annoyed.K (cont’d)Should I find a shovel, spare your night?JOSHI (ON SCREEN)(yes, but...)You better get back ahead of the storm.The Pilotfish attaches itself to the spinner as it takes off.Camera moves toward the tree as we --CUT TO: 8.EXT. SKIES ABOVE LOS ANGELES. NIGHT.LIGHTNING shatters the sky into irregular jigsaw shapes.  Indeed, there is a storm collecting to the north.  We are...SOARING OVERThe breathtaking cityscape skyline of dystopian grime.  30 years older.  Sweatier.  Sucked of oxygen.  If LA then was a giant oil refinery then, now it is industrial bones jutting out of a new city built atop the old.  And spread far as the eye can see.  What were streets are canyons that cut deep down to the strata below.  Who knows how far.K’S SPINNERIs a single bulb in the Christmas tree.  Part of the SPINNER TRAFFIC that lights up the sky.  Now gliding for the city’s poorer, uglier center.  A seizure of ADVERTISEMENT, interactive and bright.  In the distance is a massive structure:  THE SEPULVEDA SEAWALL.INTERVIEWER (O.S.)Subject:  Officer K D6-dash-3-dot-7.  Let’s begin.  Ready?K (O.S.)Yes, Sir.INTERVIEWER (O.S.)Recite your baseline.We see K through his rain streaked windshield as the Spinner banks and begins its descent toward a grey cinder block of a building.  RUNNING LIGHTS illuminate a LANDING PAD at the top of the LAPD TOWER / DIVISION 5.K (O.S.)“And blood-black nothingness began to spin / A system of cells interlinked within / Cells interlinked within cells interlinked / Within one stem.”INT. POLICE STATION. PROCESSING HALL. NIGHT.Lifeless architecture.  Huge, with worn out plastic features.  Call it functional to be nice.Though it is late it is CROWDED.  Bloody-nosed K walks through a chaotic hive of crime processing.  CRIMINALS pleading cases at plexi-covered booths...  or shouting into payport phone banks...The HUMAN COPS still manage to get in K’s way, sure to remind him of his place and esteem as a Replicant. 9.COPFuck off, Skinjob.If that bothers K he does not let on.K (O.S.)“And dreadfully distinct / Against the dark, a tall white fountain played.”INT. INTERVIEW ROOM. DAY.A clinical room that was white a decade ago maybe.  The INTERVIEWER can be heard but not seen.The long barrelled LENS of a specialized CAMERA slides back and forth to find its specific focus on K, who sits on a stool.  Coat off and on his lap.  Dry blood on his cut shirt.  He stares ahead at the camera.  Compliant and still.The CAMERA alters its focus accusingly.  Locks in.INTERVIEWER (O.S.)(sudden and forceful)Cells.KCells.INTERVIEWER (O.S.)Have you ever been in an institution?  Cells.KCells.INTERVIEWER (O.S.)Do they keep you in a cell.  Cells.KCells.INTERVIEWER (O.S.)When you are not performing your duties do they keep you in a little box?  Cells.KCells.INTERVIEWER (O.S.)Interlinked.KInterlinked. 10.INTERVIEWER (O.S.)What’s it like to hold the hand of someone you love.  Interlinked.KInterlinked.INTERVIEWER (O.S.)Did they teach you how to feel, finger to finger?  Interlinked.KInterlinked.INTERVIEWER (O.S.)Do you long for having your heart interlinked.  Interlinked.KInterlinked.INTERVIEWER (O.S.)Do you dream about being interlinked?  Interlinked.A moment’s hesitation.  Then --KInterlinked.INTERVIEWER (O.S.)What’s it like to hold your child in your arms?  Interlinked.KInterlinked.INTERVIEWER (O.S.)Do you feel like there is a part of you that is missing?  Interlinked.KInterlinked.INTERVIEWER (O.S.)Within cells interlinked.KWithin cells interlinked.INTERVIEWER (O.S.)Say that three times.  Within cells interlinked. 11.KWithin cells interlinked.  Within cells interlinked.  Within cells interlinked.A pause, a grinding of unseen machinery, the camera powering down, then --INTERVIEWER (O.S.)(kindly)We’re done.  Constant K.  You can pick up your bonus.K’s eyes look to the eye of the camera.KThank you, Sir.CUT TO:EXT. CITY STREET.A POLICE SPINNER glides low overhead.  A small ADVERTISEMENT DRONE hovers like an insect, projecting 3D ads in the smoggy atmosphere.  A HUGE SNOW MELTING MACHINE moves down the street, clearing the slush.  It passes to REVEAL --K.  He pushes past the occlusion of PEOPLE buttoned against the cold.  Crosses the windblown street.  Gutters heaped with dirty snow as more dirty snow falls.  Fat, sooty flakes.He carries a newly purchased PACKAGE under his arm.EXT. K’S APARTMENT COMPLEXA grand, old office building.  TILT DOWN the building’s facade as K enters...INT. K’S APARTMENT COMPLEX.The office building has been hastily and cheaply retrofitted for residential living.  DENSELY crowded with FAMILY LIFE.The many RESIDENTS, too poor or genetically problematic to get Off-World, treat the halls and stairway landings like a dorm commons.  An extension of their own homes.Pungent signs of ethnicity everywhere.  Colors, carpets, clothes.  As many languages as shades of skin.  K gives a nod of acknowledgment to a man smoking in the hall.  Is acknowledged back with a stream of foreign epithets that follow him up...INT. K’S APARTMENT COMPLEX. CONTINUED.FIND K ON THE STAIRS 12.Walking up 80 stories.  Stiff from the fight.  An OLD WOMAN bumps into him, expecting him to get out of her way.  No one he passes the least glad to see a Replicant.INT. HALLWAY.K crosses the hall.  ALL his NEIGHBORS’ DOORS are open like market stalls letting in air and letting out CHILDREN.  Every home thickly filled, like a hoarder’s garage.  Some host SHOPS.  FOOD STALLS.  Every floor like a town square.K walks past and to his apartment.  A BOY, brown-faced, missing an ear, looking up at K, with curiosity and fear.  K opens the lock.  Disappears inside.  The only one to close his door, which is tagged with a GRAFFITI:  “FUCK OFF SKINNER.”EXT. K’S APARTMENT. NIGHT.PUSH IN ON K’S WINDOW, as a LIGHT turns on within...INT. K’S APARTMENT.A sparsely adorned space in clear contrast to his neighbors.  No pretense of cultural heritage.  A simple chair.  On its arm a valueless paperback novel, well-thumbed, noted, creased.  Nabokov’s maddening “PALE FIRE” as it happens, not that we make a thing of it.K walks in with his package, trying to be discreet, he hides it as...He turns on a CONSOLE.  Perhaps a MUSIC PLAYER, which spins a SINATRA song, “Summer Winds.”K takes off his coat.  Seems more annoyed at the scalpel tear in the fabric than the shoulder wound he sustained under it.WOMAN’S VOICE (O.S.)K!  I didn’t hear you.  You’re early!KYou want me to come back?JOI (O.S.)(a laugh)Go scrub.Just hearing it helps take away the pain.  K relaxes into this normal domestic scene. 13.INT. SHOWER.K washes off the day’s dust and blood.  Jets shower.  Five seconds of water.INT. BATHROOM.K at a mirror eyes his shoulder WOUND.JOI (O.S.)How was your meeting?He squeezes the contents of a thin nosed TUBE onto it.  Platelet jelly.  The skin rebonds.  Gluing it after all.KThe usual.  How was your day?JOI (O.S.)I’m getting cabin fever.INT. KITCHEN.K cooks in a corridor kitchen that looks like one we would find in a very old space station.  He cooks with dexterity, trying to be light, as he makes a prefab meal. KI had an accident at work.  Think I ruined my shirt.JOI (O.S.)I’m sure I can fix that for you.  Let me take a look at it.KYou want a drink first?  I need a drink.JOI (O.S.)Mmm-hmm.  Pour me one, will you.INT. K’S APARTMENT.K crosses in, pours two drinks.  Sits on a chair in the middle of the living room.  Neighbors at the window, a couple, on the other side of the street.  Ordinary life.JOI (O.S.)I’m trying a new recipe.  I think you’ll like it.KDon’t fuss. 14.JOI (O.S.)Too late.  I hope it isn’t dry.K plays at indignation but is glad for her thoughtfulness.  K’s life is not lonely and that is something in this world.K drinks the two drinks poured, sits to eat the meal he made.JOI (O.S.) (cont’d)Did you know this song was released in 1966 on Reprise Records?  It was number 1 on the charts...  Won’t be much longer.  Finishing touches.He opens a CASE.  Inside:  Five cigarettes.  A commodity.  He sets ONE onto an ashtray.  We hear CUTLERY gather.  We hear FOOTSTEPS.JOI (O.S.) (cont’d)Ok, ready!  I think you’ll like it.KI told you not to fuss.JOI (O.S.)And yet.REVEAL:  JOI.Not a real woman at all.  A digital companion.  PROJECTED from a hard line CONSOLE unit mounted on tracks along the ceiling, and restricting her existence to this space.  Goddess, girlfriend, geisha and, right now, goddamn bombshell.  Ingeniously real in every way except the one that counts.She holds a plate of steak frites.  Not real of course.  An illusion of satisfaction.  Just like Joi in her APRON over a sweater set and pearls.  Waiting for him with dinner on the table and drink in hand like a cartoon 60s housewife.(NOTE:  Joi cannot interact with physical objects.  Any “object” she manipulates is a holo representation, like her.  Nor does she move when unobserved by K; when he turns away for any length of time she shifts into idle animations.)JOI (cont’d)Voila.  Bon appetit.She sets the plate atop his sad prefab bowl of actual food.  Kisses him on the cheek.CLOSE ON:  HIS SKIN.  Brushed by the butterfly kiss of her cloud.  Palpable but not tangible. 15.JOI (cont’d)I missed you, babysweet.KHoney, it’s beautiful.JOIJust put your feet up.  Relax.K is moved by the gesture.  He puts the cigarette to his lips.  Joi leans in close.  Puts up a finger...  Juuuust teasingly touching the tip of the cigarette... until... a tiny STATIC SPARK ignites an ember.He draws, and his cigarette lights.  He blows the smoke into Joi, making her hologram all the more dense and real.They look at each other.  Joi studies him.  She looks to the shelf.  Notes Sapper’s glasses.JOI (cont’d)Was a day, huh?K(heavy)It was a day.Her form seamlessly reverts back to her lissome baseline.  Companionate, respectable, smart.  The way he likes her.  She “picks up” his copy of “Pale Fire,” hoping to cheer him up.JOIWould you read to me.  I’m dying to know what happens next.KYou hate that book.K smiles.  She throws the book behind her back.  The book disappears as it flies.JOII don’t want to read either.  Let’s dance.She straightens.  Arm up to receive his and be led, wearing now a beautiful dress.  And with that Joi wins.  K has no choice but to put his day behind him.JOI (cont’d)You wanna dance, or you wanna open your present? 16.JOI (cont’d)A present?Joi looks elated.JOI (cont’d)What’s the occasion?KOur anniversary.JOIIs it?K smiles.  Of course not.He opens the box on...  A DIGITAL DEVICE, size of a King Size Snickers.  Joi visibly brightens with excitement.KHappy Anniversary.JOIAn emanator.KWe don’t need a hard line anymore.  Try it on.K presses the console.  Joi hesitates only a moment then... FADES AWAY.A RESTART CHIME.  A LOGO floats off the emanator:  A SPHERE, surrounded by smaller spheres in orbit.  WALLACE CORP, E&C.K taps the emanator and, with a CHIME...  Joi comes back online.  THE EMANATOR conjures her even more realistically in every way.  She moves about, her image unbroken as it was when projected from the hard line.  She TWIRLS about, the pleats in the new dress conjured for the effect billow out.  She loves it.JOIOh thank you thank you thank you!KYou can go anywhere in the world.  What do you want to see first?Joi considers, eyes sparkling with an idea.  And we... 17.EXT. ROOFTOP. STORMING. NIGHT.ON JOI.  Rapt, eyes fixed on the gorgeous fractal skyline.  The rain passes through her projection.  In a well-programmed nod to physics her clothes get “wet,” stick to her skin.LIGHTNING FIRES ABOVE.  Joi does not flinch.  Only flickers.K raises his coat to cover the rain.  Joi stays his hand.JOIStay like this.  The light catches your skin.  You look like me.  If you’re not too cold...He’s not.  Stays wet.JOI (cont’d)I’m so happy when I’m with you.KYou don’t have to say that.Joi “takes” his hand.  Static heightened by the conductive water clinging to his skin.  She leads his hand to her waist.  As if to dance.She leans in close to his neck.  Her exhaled “breath” tickles his lips.  A smoky wet dream.  He kisses her.  She looks deep in his eyes.  K kisses her neck, slowly... not breaking the illusion...  The moment intensifies-- her breath escaping -- HER IMAGE GOES STATIC --THEN FREEZES -- her face in a rictus of ecstacy, gorgeous in motion but the single frame out of context appears vulgar.Joi’s face replaced by AN EMERGENCY PAGE.  “VOICE MESSAGE.  IMMEDIATE RESPONSE REQUIRED.”  The POLICE LOGO.  His time is entirely owned.  The message plays:JOSHI (V.O.)Your dig came through...  Get down here.K looks at Joi, their moment ruined.  A chime from the emanator and she is gone.CUT TO:INT. MORGUE. POLICE STATION. MOMENTS LATER.ON A MACHINE.  MOVING OVER A SKELETON ON AN EXAMINATION TABLE.  Bones clean.  Half assembled, half still in a 2X2X2 footlocker.  A thick BRAID of HAIR CURLED beside it.  An AUTOPSY is visible taking place in an adjacent room as -- 18.A TECHNICIAN takes out the remaining bones one by one, and unwraps them -- as each has been individually wrapped in cotton rags with ritualistic care.  A small bag contains the full set of teeth, which the Technician sets under a scanner.A pug COP, NANDEZ, enjoys the show.  A bigot with a mouth certain whatever comes out of it is funny.  Recognizable as human as all humans stuck on Earth seem to be.NANDEZYour box is a military footlocker issued to Sapper Morton, creatively repurposed as an ossuary.  Box of bones, meticulously cleaned and laid to rest about 30 years gone.  Nothing else in it but hair.  She’s pre-Blackout so DeNAbase doesn’t give an ID.KShe?JOSHIEven better.  She plus one.NANDEZCause of death, Coco --An awkward MORGUE TECH, COCO, joins.  Means well but prone to nervous giggles.  One of few who treats K with respect.  Coco throws a SIM SCAN upscreen:  Showing the bones REASSEMBLED.COCONo breaks, hi K, no signs of trauma... except...The PELVIS centers.  A FRACTURE.  Similar pattern to the heat lighting.  K ignores the holo, checks the actual bones, as --COCO (cont’d)Fracture through the ilium.  Narrow birth canal, baby probably got stuck.  The bone should re-bond if you live long enough... she didn’t.JOSHIShe was pregnant.KSo he didn’t kill her.COCOShe died in childbirth.  Guess she wasn’t meant for motherhood. 19.K continues looking at the bones after Coco moves on.  He sees something on the pelvis.  Throws it upscreen.  Enlarges the image until SCRAPES ALONG THE BONE are visible.  Taps it.KGo back.  Closer.  Closer.  That.  What’s that?COCONotching on the iliac crest.  Fine point, like a scalpel.  Looks like an emergency c-section...  Cuts are clean.  No sign of struggle.KHe was a combat medic.  Maybe he tried to save her.  Just didn’t.Joshi considers.  Eye to Coco.  Is he right?Coco checks the image.  Whistles, goofily impressed.NANDEZHe didn’t seem like the saving type.COCOHe took the time to bury her.  A sentimental skinjob.(off K, realizes the insult)Sorry.JOSHIDidn’t seem the Daddy type either.  So where’s the kid?  You scan the whole field?NANDEZJust dirt and worms.  No other bodies.COCOMaybe he ate it.K steps away.  Picks up the thick BRAID.  Considers it.  Looks at the COWSLIP in an evidence bag.  Stares at it.He lifts the bone.  The fractured ilium.  Instinct engaged again.  He puts it back upscreen.WE CLOSE IN further and further on the sample.  Down to cellular level.  A FORM coming into focus.ON K.  AS HE SEES IT.  EXPRESSION CHANGING.K motions for Joshi to look.  She sees his face, looks.  Beat. 20.ON JOSHI.  As we see what she does on the SCREEN:LETTERS AND NUMBERS ETCHED ON A CELL.  A SERIAL NUMBER.K and Joshi look at each other facing incontrovertible truth.INT. JOSHI’S OFFICE. MOMENTS LATER.Evercalm Joshi pours herself a drink.  A safeguard on that calm.  She picks up her drink with a shaking hand.  Finally --JOSHIThat’s not possible.  She was -- a Replicant.  Pregnant.  It was pregnant.She quiets with the alcohol burn.Stares out.  Seeing too many steps ahead.  Into darkness.  She sets her glass down with finality.  Finally looks to K, firm, declaring:JOSHI (cont’d)(firm)The world’s built on a wall that separates kind.  Tell either side there’s no wall -- you bought a war -- or a slaughter.(and then)So what you saw.  Didn’t.  Happen.KYes Madam.JOSHIWhat isn’t possible can’t be.  KYes Madam.JOSHIThere’s an order to things.  This turns it.  That’s what we do here, we keep order.K catches on.  What Joshi is asking.KYou want it gone?JOSHIEverything.KEven the child. 21.JOSHIWe have to break the mold.  All trace.  Numbers, incepts.  Erase.  Everything.Silence.  Joshi scans K.JOSHI (cont’d)You have something to say?KI’ve never retired something born.JOSHIWhat’s the difference?KTo be born is to have a soul. JOSHIYou telling me no?K(polite)I wasn’t aware I had a choice.JOSHIAttaboy.Just before leaving the room...JOSHI (cont’d)Hey.  You’re getting on fine without one.KWhat’s that Madam?JOSHIA soul.INT. K’S SPINNER. DAY.ON AN AD SPIRE as an AD PLAYS... FOR THE JOI DIJI.  A sexed-up crass version winks at us.  A MALE MODEL (DIJI BOI) also available.  The jingle and copy come with the WALLACE LOGO:“Whatever you want to see.  Whatever you want to hear.  Joi.”K’s SPINNER flies by.INT. K’S SPINNER. DAY.ON K through the SPINNER WINDOW, which reflects the riot of COLORFUL ADVERTISEMENTS.  The city glisters below as K’S SPINNER soars toward... 22.The DARK abandoned structures of THE TYRELL CORPORATION PYRAMIDS...  now overshadowed by THREE GIGANTIC BLADE SHAPED BUILDINGS:  THE WALLACE TOWERS.  Soaring clean lines in a craggy, sooted city.EXT. WALLACE TOWER.K’s Spinner approaches the foot of the great TOWERS.INT. LOBBY. WALLACE CORP. DAY.A huge, wide open space made of sandstone and lit by artificial sun beams.  Doesn’t look like the lobby of a corporation, but the interior of a Nabataean Tomb. A GREETER meets K and escorts him to --INT. ENTRY. RECORDS LIBRARY. DAY.A dead end corridor.  GREETER goes away in the dark.Leaving K standing before a too-chatty FILE CLERK.  File Clerk’s booth looks like a bunker.KChecking on an old serial number.FILE CLERKYou have anything else?  You have confirmation DNA?KI have hair.K sets the braid on a case.  Clerk SCANS IT.  A SERIAL NUMBER APPEARS ON THE MONITOR.ON HIS MONITOR:  AUTOCAPTURING THE SERIAL NUMBER.  This as --FILE CLERKAn old one.  Pre-Blackout, this is gonna be tough.  Not much from then and what’s there is thick milky.ON THE MONITOR:  The autocapture SENDS, and --INT. LUV’S OFFICE. THAT MOMENT.A WOMAN’S HAND reaches for a small, delicate TEAPOT.  Which she tilts and pours into a small, delicate teacup.  She sits at a desk made of wood in a world without trees.  REVEAL:LUV.  Polite, efficient.  Perfect.  Moral as a tornado and about as safe.  Beautiful, yes.  The way a sword can be if it’s safely behind glass. 23.Luv sits in a formal business meeting pose across ANOTHER WOMAN who sips tea across from her.  A HOLO PROJECTION of someone off-world.LUVYou can customize them as much as you’d like.  “As human as you want them to be.”  But the Placers is strictly a drill site, isn’t it? Off-world mining rock wants a strong back and an utter lack of self-sufficiency, I wouldn’t waste your money on intelligence or attachment or appeal.  Unless you’d like to add some pleasure models to your order?A LIGHT BLINKS in Luv’s earpiece.  Some information received.  A pause as she reacts to it.  Sets down her cup.LUV (cont’d)Excuse me a moment.She moves behind her desk.  And sees the same AUTOCAPTURE on her screen.  Off Luv...INT. RECORDS LIBRARY. THAT MOMENT.Deep in the library’s belly, K walks with Clerk passing hundreds of ROWS OF DRAWERS.  FILE CLERKEveryone remembers where they were at the Blackout.  You?KBefore my time.FILE CLERKHome with my folks, terrified -- ten days of darkness, every machine stopped cold.  When the lights came back we were wiped clean as any.  Photos, files, every bit of data -- gone.  Bank records too, didn’t mind that, couldn’t prove our loan and had to give us the house outright...Clerk locates and opens a drawer.  Inside, neatly stacked, are thousands of thin, translucent CARDS.  Clerk fingers through them, nostalgic while searching.FILE CLERK (ON SCREEN) (cont’d)Funny how only paper lasts.  We had everything on drives.  My mom still cries over the lost baby pictures. 24.KShame.  You must’ve been adorable.Clerk misses the joke.  Surprised to find something:FILE CLERKHere.  Pretty fractured, not much on it.  One of the last gens pre-Prohibition.  B’s across the board, standard issue.  Made by Tyrell.KAnd?FILE CLERKNo remarks.  Unremarkable.KUnremarkable.  That’s all you know.FILE CLERK(off the braid)Brown hair.A VOICE from OS interrupts --LUV (O.S.)There must be something else we can find for him.K turns to see:  LUV.Clerk’s sphincter tightens at her arrival.  Backs away.Luv comes toward K.  Hands tucked.  Suit sensible.  Every aspect immaculate.  The flawless representative.LUV (cont’d)Another prodigal serial number returns.  A 30 year old open case finally closed is a curiosity and relief.  Thank you, Officer.  I’m here for Mr. Wallace.(hand out)I’m Luv.KHe named you.  You must be special.He steals a once over, understanding.  She gives an unembarrassed nod of confession.LUVI’m here for Mr. Wallace. 25.INT. NEXUS RELIQUARY HALL. MOMENTS LATER.Luv leads K down stairs, lined with DISPLAY CASES.  Each containing an outmoded model REPLICANT.  DEAD and suspended in a clear preservative liquid.  An historical record of their kind.  Luv scarcely registers them, spinning the corporate thread --LUVThe ancient models give the entire endeavor a bad name.She touches under her eye, where the pinprick is, winks.LUV (cont’d)What a gift, don’t you think?  From Mr. Wallace to the world.  The outer colonies would never have flourished had he not bought Tyrell, revivified the technology.  To say the least of what we do.INT. SMALL BASEMENT CORRIDOR.K and Luv walking in a small basement corridor.  A chime comes out of K’s pocket: his emanator. LUVI see you are also a customer. Are you satisfied with our product?KShe’s very realistic.Luv leads him toward a HEAVY DOOR.LUVHere -- all the junk is in here.  Lucky for you Mr. Wallace is a data hoarder.  A shard in the right shape can be a gem.She leans into a FACIAL RECOGNITION SCAN.  It unlatches -- but stops before opening.  STUCK.  A nuisance.LUV (cont’d)No one’s been down here in ages.Without a break in stride she PRIES into the door seam with her FINGERS to OPEN it.  A show of tremendous force.  Perhaps deliberate.  After you...INT. MEMORY VAULT.Subzero temperatures preserve the data stored within and turns breath into smoke.  Luv opens A WIDE, FLAT METAL DRAWER, one of DOZENS. 26.FILLED WITH THOUSANDS OF GLASSY SPHERES.  Like eyes milky with cataracts.  She pulls on gloves before handling them.LUVAll our memory bearings from the time.  All fairly well damaged in the Blackout.She locates and inspects one of them.  Particularly cloudy.LUV (cont’d)But there are sometimes fragments.She sets it into a PLAYER device.  The bearing SPINS in the player...  FIRES UP.A title on the record: VOIGHT-KAMPFF TEST NOVEMBER 2019 OFFICER RICK DECKARD / SUBJECT # N6RRP40619.Up comes A EXTREME-CLOSE IMAGE OF...AN EYELARGE.  LOVELY.  A rich green we so far haven’t seen in the film.  AN OLD VOIGHT-KAMPFF RECORDING.  The eye BLINKS.Over it comes a JUMBLE OF VOICES, falling in and out, incomplete audio.  YET ALL HAUNTINGLY FAMILIAR.ON K.  WATCHING, AS --MAN’S VOICE (O.S.)Have a little boy--butterfly collection plus the killing----Feel a wasp crawling on your wrist----Just answer the question--WOMAN’S VOICE (O.S.)--I’d take him to the doctor----I should be enough for him--this testing whether I’m a replicant or a lesbian--The IMAGE BREAKS OFF.  REPEATS again in a LOOP.  The eye BLINKS, the voices come.  A ghost fragment of an indelible moment.  Too brief.  IT PLAYS OVER AND OVER AGAIN as --LUV (cont’d)It was unclear what she was, at least to someone.  This was a test.  We were difficult to spot then.She looks to that stunning EYE.LUV (cont’d)Was there anything unusual about how you found her?  To warrant an official investigation? 27.K(a smile)Like you say, old serial numbers.  Everyone sleeps better if we know where they got to.LUVSo long ago... does it matter?K takes in the replaying RECORDING.  An instinct about it.KShe seems to like him.LUVWho?KThe policeman.  Deckard.  She’s trying to provoke him.  Get a reaction.LUV(watching)It is invigorating being asked personal questions.  Makes one feel -- desired.(to him, a grin)Do you enjoy your work, Officer?Did she just ask him a personal question?  A beat.KPlease thank Mr. Wallace for your time.LUVApologies to have paved a dead end road.  If there’s anything at all else I can do.She grins invitingly, and we --CUT TO:INT. HOME FOR THE ELDERLY. DAY ROOM. DAY.K sits at a table, in front of a man, GAFF mid 70’s.  An old woman is seated beside them, in a wheelchair.  Gaff is wearing kind of hospital whites with an official ID tag: STAFF.  He folds something in his hands.GAFFDeckard liked to work alone. So did I. We worked together to keep it that way. That was it. KAnything else can you tell me? 28.GAFFHe wasn’t long for this world.KHow’s so.Gaff looks K in the eye.GAFFSomething in the eyes.KDo you know how I can contact him?Gaff chuckles.GAFFNo.  He’s retired. KWhat happened?GAFFHe probably got what he wanted.KWhat’s that?Gaff folded a delicate flower that he offers to the old lady.GAFFTo be alone.EXT. MARKET. NIGHT.CLOSE ON:  A VENDING MACHINE.  An animated version of a soju bottle rotates on a SCREEN next to a thousand other beverage choices similarly rotating.  A THUMB presses and...The soju is dispensed below.  A CUSTOMER takes it.  REVEAL:THE MARKET.  Subdivided by STALLS and STATIONS and SHOPS, all under BRIGHT LIGHTS.  The ECLECTIC CROWD OF CUSTOMERS in a crush to purchase food and drink.  And entertainments.  Particularly outside...EXT. BIBI’S BAR. NIGHT.An unabashed sex den.  PATRONS enter to taste and experience with no more shame than they would the vending machines.IN THE DOORWAY -- A PATRON flirts with his crassly customized JOI diji, both ignoring the DOXIES hustling to earn a living.  As some do, as evidenced by the SHADOWS OF COUPLES WRITHING on the plexi front windows. 29.A WOMAN approaches the bar, commanding the doxies’ respect.  Their HANDLER.  Still strong 60, looks like she did her doxie time before turning management.  Handler wears LARGE DARK GLASSES over her eyes.  She spots something of interest in --EXT. MARKET. UNDER CANOPY.K IS AT A HIGH TOP TABLE.  Grabbing a beer and quick meal of ramen with others doing the same.  He studies PHOTOS from Sapper’s farm.Handler signals to a TRIO OF DOXIES, including an alluring, hard core PUNK DOXIE.  A nod in K’s direction.The THREE DOXIES cross the market to approach K.  Flank him at his table, studying the PHOTOS:  The FARM.  The BONES.  Dead SAPPER MORTON.DOXIE #2Hello hello A-Boy... You alone ?DOXIE #3 recognizes him.  TELLS THE OTHERS, DISGUSTED.DOXIE #3(in FINNISH, UNTRANSLATED)Leave him, he is a fucking Blade Runner...  I’ve seen him.  This guy is dangerous.  You coming?MARIETTEIt’s ok...  I’m good.She and the second back off, put off.  Punk Doxie (MARIETTE) doesn’t seem to mind.  She gives her most inviting grin.  But K’s not interested.MARIETTE (cont’d)Buy a lady a cigarette?(off his silence)You don’t even smile.KIt only encourages.  I’m working.MARIETTEYou’re drinking.KOne helps the other.  You heard your friends.  You know what I am.MARIETTEYes.  A guy eating noodles. 30.She sits next to him anyway.  She eyes his PHOTOS, trying to make conversation.  She sees the IMAGE OF THE HUGE TREE on the farm.MARIETTE (cont’d)What’s that?KA tree.MARIETTE(looks again, genuinely taken)A tree?  I’ve never seen a tree.  It’s pretty.KIt’s dead.MARIETTEWho keeps a dead tree?KSomeone dead.(K looks around)I’m surprised you’re talking to me.MARIETTE(flirtatious)Why?  You’re not going to kill me are you?KDepends.  What’s your model number?MARIETTEWhy don’t you take a look under my eye and find out...A CHIME from the emanator in his pocket.  He turns it off.  Mariette takes the hint.MARIETTE (cont’d)What’s the matter, don’t like real girls?K has a good comeback in the chamber, but lets her get the last word for her benefit and to give her a good exit.Alone again, K drinks.  Looks again at the photo of THE TREE.  Considers it.  Traces its dry, empty branches with a finger.KWho keeps a dead tree?...CUT TO: 31.THE TREE ITSELF.  We are --EXT. SAPPER’S FARMHOUSE. DAWN.Evidence of the dig nearby.EXT. FARMHOUSE. DAWN.K moves inside the house, scanning.  Sees the Chopin’s music sheet on the floor, stained with blood.K tries a few notes.  One of the note has no sound, only a felt hammer tapping wood.He opens the top of the piano.  SOMETHING IS HIDDEN INSIDE:  A TOBACCO TIN.  HE OPENS IT.  Inside is --AN OLD PHOTO.  OF A BEAUTIFUL YOUNG WOMAN.  A BABY IN HER ARMS.  The great tree alive and IN BLOOM behind her.K pockets the photo.  Checks the tin.  The photo was covering something else.K picks it up.  Holds it to the light.  Eyes gleaming:A BABY’S SOCKEXT. FARMHOUSE. DAWN.K stands in front of the farmhouse, by the tree.  Sees a SINGLE NEMATODE crawling along the cold dirt.  Picks it up.  Watches it wriggle.  He sets it down to continue its journey. “It only takes the one.”K sees something carved on one of the tree’s roots, hidden by dirt and sand.  REVEAL:A DATE:  CARVED ON THE ROOT.  Like a grave marker.  6/10/21ANGLE OVER THE TREE LOOKING DOWN AT K.  Kneeling beside it.ON K.  Stricken by what he sees.  He traces the date with his finger.  As if to prove it’s real -- stands suddenly.  K moves determinedly towards his Spinner, at which we REVEAL:THE FARMHOUSE IS ON FIRE.  BURNING TO THE GROUND.CUT TO:INT. STAIRS. WALLACE TOWER. DAY.FOLLOW LUV 32.As she climbs a set of marble stairs, to reach...INT. PRIVATE OFFICE. WALLACE TOWER. DAY.Like a meditation garden.  Or a temple.  A dim room lit by spears of artificial sunlight.  A great fish-filled POND owns the floor but for the square stone islands, a school of koi.  Luv steps over the stone path across the pond to the far end, by an arrangement of decadent chairs.  There is a nervous clip to her voice.LUVYou wanted to review the new model, Sir.  Before shipment.  The remote telomerics implemented, for home renewal.A VOICE ECHOES in reply, coming from everywhere.NIANDER WALLACE (O.S.)Do you come bearing gifts?Luv pauses.  Asked what she hoped would not be.LUVNot yet, Sir.A little black drone like a BARRACUDA moves from the darkness towards Luv.NIANDER WALLACE (O.S.)An Angel should never enter the hut without a gift.  Or news.  Can you at least pronounce a child is born?Luv stops, says nothing.  Hating to disappoint him.  A pause.  Then the Barracuda moves past Luv.  It joins...A SMALL CLUSTER of BARRACUDAS that float toward Luv in the LIT center of the room.  They undulate in watery formation at eye level like Medusa would ask of her snakes, to precede --NIANDER WALLACEShadow shrouded.  Commanding in his silences, which are few.  Older, yet at the height of powers that still increase as if by magic.  Only when he steps into the LIGHT do we see --WALLACE IS BLIND.  The probes act as his eyes.NIANDER WALLACE (cont’d)The new model.  Let us see then. CUT TO: 33.INT. CRECHE.A dark room dominated by a cascading PLASTIC SHEET.  The sheeting rises, slowly, to unveil --A NUDE FEMALE REPLICANT.  Fully formed.  Suspended in repose.  Covered in viscous liquid, like honey.The Replicant collapses to the ground.Something happens when she is exposed to the cold air:  She WAKES.  AN INCEPT.A first breath.  Consciousness coming on anew.  A first flutter of the eyes.  A slow realization of light.  Of cold.OF WALLACE STARING AT HER.Wallace’s hand touches her face.  Turns it.  Caresses it.  “Seeing” her with his fingers.The Replicant Model bristles in mute terror of a world she cannot understand.  Shivering.  Cold and fear commingled.NIANDER WALLACEThe first thought tends to fear.  To preserve the clay.  Fascinating.  Before we even know what we are, we fear to lose it.  Happy birthday.INT. CRECHE. MOMENTS LATER.Wallace now sits on a small Japanese stool, cleaning his hands with a cloth.The new Replicant sits in front of him, wrapped in a sheet.NIANDER WALLACENow let’s have a look at you.Wallace’s fingers feel for a TRAY of INSTRUMENTS.  He clasps A BLADE.Luv holds back.  Knows better than to help without asked as he begins his examination.NIANDER WALLACE (cont’d)Bring the one for micronics, would you, luv.Ah, “luv.”  A diminutive.  Not a name at all, though taken for one.  Luv brings a small wooden box.  INSIDE THE box are several small DEVICES, the size of LEGO bricks:  HALOS.  Each with electrodes on the inside.  Luv selects one of them. 34.She comes with the HALO -- which attaches with a practiced motion neatly into a FLASH SHOE on the back of Wallace’s head at the lambdoidal suture.  The electrodes fit into wetware receivers within and... the device glows to match the new light in the Barracudas’ eyes, enabled.Luv’s hands shake as she closes the box.  Beyond respect, she lives in perpetual awe of him.A formation of BARRACUDAS come around Wallace...  Then moves toward the Replicant model predatorily.CUT TO:INT. CRECHE. MOMENTS LATER.The Replicant model stands in front of Wallace, still siting on his stool.  He “sees” her with the flying probes, which move over her, inspecting her like chattel.  Up and down.  Her hands.  Mouth.   NIANDER WALLACEWe make Angels.  In service of Civilization.  There were bad angels once... I make good angels now.  Like you, luv.  God saw a bad batch and, rash and cranky, scrapped the whole project.  We are not so short sighted.  Just because some fell...A scalpel blade dances in his fingers.NIANDER WALLACE (cont’d)Now look.  I brought back the Angels and took us to nine new worlds.(disdainful)Nine.  A child can count to nine on fingers.  We should own the stars.LUVYes, Sir.Wallace stands, walks toward the Model.NIANDER WALLACEWe were meant to reach beyond the firmament.  We should read our books by the light of a thousand different stars.  Every one a home.  Till we lose count.  That’s the future of the species if there’s to be one.  We simply need more Angels to carry us aloft. 35.LUVSir.He runs the SCALPEL’S dull edge under the Model’s CHIN to raise it.  Stills her when she again shivers.NIANDER WALLACEEvery leap of civilization was built off the back of a disposable workforce.  We lost our stomach for slaves.  Unless... engineered.  And I can only make so many.He runs the dull edge along the entire length of the Model.NIANDER WALLACE (cont’d)To make this I have to build from whole cloth.  Bit by bit and at great expense. Shameful inefficiency, built into Tyrell’s template.  Tyrell.He touches the Model’s abdomen at the navel.NIANDER WALLACE (cont’d)That barren pasture, empty and salted.  Right there.  The dead space between the stars.  This the seat that we must change for Heav’n.  With a swift motion he CUTS the Model across the ABDOMEN.  She stands for an uneasy moment as he continues:NIANDER WALLACE (cont’d)I cannot breed them.  I have tried, so help me.  Tyrell’s final puzzle in adamantine chains and penal Fire.  He drops the scalpel.NIANDER WALLACE (cont’d)We need more Replicants than can ever be assembled.  Millions so we can be trillions.  More.  Worlds beyond worlds, diamond shores.  We could storm Eden and retake her...THE MODEL COLLAPSES.NIANDER WALLACE (cont’d)His last trick.  Procreation.  Perfected... then lost.  There is a child.  Finally unearthed.  Bring it to me.  Bring it to me.  Bring it to me.ON LUV:  An eye waters at the thought of disappointing him. 36.LUVSir.He reaches behind his head, removes the HALO.  Preferring the darkness.NIANDER WALLACEThe best Angel of all.  Aren’t you, luv?ON LUV:  Her jaw sets.  She will not disappoint Mr. Wallace.  PRELAP:  FOOTSTEPS, CLACKING, ECHOING down a hall --INT. POLICE STATION. DAY.Lines of grubby CRIMINALS await their turn at processing booths.  Crowded enough one pisses against a wall in his handcuffs and none of the low-watt cops notice him -- or --LUVShe crosses the chaotic hall unnoticed, determined.  She will not disappoint.INT. CORONER’S OFFICE. HALLWAY. DAY.WITH COCO:  Entering...INT. MORGUE. DAY.He finds LUV casually packing the BONES back into a satchel.  Confused by her calm.COCOHi.  Wait -- you can’t take those.She pauses, briefly annoyed.  Then brings a wide, inviting smile.LUVOf course not.  Proper channels and paperwork.  It’s all here.  Hold this for me?She hands him a femur and, with her hand free --Her fist JABS his back -- INSTANTLY PULVERIZING HIS C6 --ON THE FLOOR.  As Coco crumples.  Twitches disturbingly.ON LUV.  Going back to taking what she needs as Coco dies noisily at her feet.  A bullet would’ve been slower.  PRELAP:  A LONG ZIPPER, CLOSING UP -- 37.INT. MORGUE. NIGHT.-- OVER COCO’S FACE.  A BODY BAG.  Enclosing him.  A smudge of blood on his still cheek the last thing we see.ON Joshi.  Watching it happen.  Knows why it’s happening.CUT TO:INT. K’S APARTMENT. NIGHT.K stares at A PHOTO:  The DATE carved in the tree.  Something about it haunts him.  Just then --A KNOCK at his door.  Surprising.  He doesn’t get visitors.  He opens the door to find --JOSHI.  Unusual visit.  Nothing friendly about it either.  She steps in, keeps her coat on.  Hands in pockets.JOSHIYour lady friend about?KMadam.Joshi looks around anyway, fear masquerading as caution.  She checks the hard line, THE CEILING TRACK PROJECTOR.  Turns OFF the power to it definitively.JOSHICoco is dead.  Bones are gone.  It’s out.  Already out.  How long’d that take?  Someone’s on your tail.  A someone willing to kill.  Care to make any wagers?KI could lay odds.K says nothing more.  Knows Joshi is pissed.  Maybe scared.JOSHII can feel the breath on my neck.  They are coming after this.  They’ve got every gun in the city if they want it.  I’ve got you...  So what do you have for me?  And don’t say nothing.A pause.  Then K points to the table.  The sock.JOSHI (cont’d)A sock.  Where did you find it? 38.KSapper’s.  There was a baby there. Long enough to wear that. They both look at the sock and feel the weight of that discovery.K (cont’d)(recalling Sapper)“Never seen a miracle...”JOSHISo what does he do with his miracle?  Anything else?KI burned everything else.Joshi considers.  Sees that PHOTO K lingered over.  Of the tree.  The DATE CARVED in it.JOSHIWhat about this?  6/10/21.  What’s that?  A birthday?  A death day?KI don’t know yet.Joshi stares hard.  K looks away.  Beat.JOSHIMaybe it’s only me can see the sunrise here.  This breaks the world, K.  You ever seen scorched earth?  It’s glass.  Shreds your feet.  Nothing grows.Coco’s murder, the future she sees -- it all frightens her.  A first hint of something soft under the ice.She helps herself to a glug from K’s bottle.She picks up the sock.  Considers it.JOSHI (cont’d)Are feet ever so small?(then)I had a kid.  Grown up now...  Hates me.DISSOLVE TO:INT. K’S APARTMENT. NIGHT.Joshi is whatever comes past tipsy.  Not a woman who opens up or lets go often, she is doing so now.  Her coat off.  Reclined on the couch.  Unguarded.  She needed this. 39.K is beside her, seated upright.  He doesn’t drink.  Deferential, as if this was her place not his.JOSHII’ve known a lot of your kind.  All useful but... with you I sometimes forget...  We didn’t have any of you where I was a kid.She empties her glass.  Pours again.  K’s eye doesn’t leave her pour -- we see she is using K’s single beloved book for a coaster, spills a little.  No idea it’s precious to him.JOSHI (cont’d)You don’t remember anything before you were under me, do you?  You have any memories from before?KI have memories.  They give us some.  Implants.  They’re not real.JOSHITell me one.  From when you were a kid.KI feel strange sharing a childhood story considering I was never a child.JOSHIWould it help if I told you it was an order.She kicks him.  C’mon.  K sits back, a little embarrassed.KI had a toy, this wooden horse.  An inscription underneath.  All I remember is a group of boys, big kids, try and take it away from me.  So I run.(stops himself)This is dumb -- it’s all fake.  I was never a kid --JOSHI(likes this)Go on.  Little K with his tiny toy... scared of mean boys taking it...K closes his eyes, the images washing over him.INSERT CUT:  K’S MEMORY:  Watery.  Indistinct.  A CHILD’S POV OF A CAVERNOUS INDUSTRIAL STRUCTURE.  A WORLD OF RUST.  A MAZE OF STAIRS.  FOOTSTEPS CHASING AFTER. 40.K (V.O.)I go looking for a hiding place.  There’s nowhere to go but this... dark furnace.  It’s very dark.  I’m very scared...  But this horse is all I have so I go in anyway.A FURNACE RAGES WITH FIRE.  He moves to THE DARK PLACES BEHIND.  The child’s hand opens a secret space in the back.THE LARGER BOYS FIND THE CHILD IN FRONT OF THE FLAMES.K (V.O.)They find me and beat me to tell them where is it.  But I don’t.INT. K’S APARTMENT. RESUME SCENE.BACK TO:  K.  His eyes open.  The spell of memory broken.KThat’s it.JOSHILittle K, fighting for what’s his.  That’s a good one...  No wonder with you I sometimes forget.  Look at me.(then)We’re all just looking out for something real.Joshi looks at him.  A little too long.  Looks at the bottle.JOSHI (cont’d)What happens if I finish this?K doesn’t react.KShouldn’t I get back to work, Madam.Joshi pulls away.  Rises.  Coat back on.  The armor back up.JOSHIYou do polite like some folks go screaming.  Check back in after DeNAbase.And she’s gone.  And we --CUT TO:INT. DENABASE DATABANK. POLICE STATION. DAY.The unpopulated recesses of the station.  A mausoleum for hard copy files.  K negotiates an ancient security interface. 41.KAccess 37-88-60.  Officer K D6-dash-3-dot-7.A reply from the machine in JAPANESE.K (cont’d)Request newbirth 18th chrom DeNAprints children born 6/10/21.  Looking for anomalies.The SECURITY SLATE IDS him.  “K D6-3.7.  APPROVED USER.”  It comes to life.  The SLATE prompts:  “ENTER DAY”K (cont’d)Put up the year.The SLATE CHIMES a warning.  “PRE-BLACKOUT INFORMATION.  NO DATA FOUND.”K (cont’d)You have the satcrystal backup.ANOTHER CHIME.K (cont’d)Run it.ANOTHER CHIME.  “ALL EXEGETIC DATA CORRUPTED.”  Annoyed --K (cont’d)Ok.  Then run it raw.  On a rondo.The SLATE recedes.  A FAN begins to WHIR as a VIEWING DEVICE comes to life.  Like an old moviola.  Blinders on each side.  K situates himself in front of it -- CLICKS on the emanator -- and cranks the machine.A DATAFLOW begins on its SCREEN.  A CASCADE OF ONLY FOUR LETTERS:  A-C-T-G.  RAW GENETIC CODE.  WITH NO IDENTIFYING  CONTEXTUAL DATA TO LINK WITH SPECIFIC TRAITS.  ONLY RAW CODE OF DNA FINGERPRINTING.The LETTERS flow like millions of snowflakes.  Intense, numbing, seizure inducing, incomprehensible.The information flickers across K’s face.  His concentration holds.  Taking it all in.  Missing nothing.DISSOLVE TO:INT. DENABASE DATABANK. POLICE STATION. CONTINUOUS.THREE PILLS 42.Set on a table.  A DeNAbase TECH, a dim, simple TEEN, brought them for K -- who rubs his headached eyes.  Tech looks at the oppressive avalanche of data.  He speaks FARSI, SUBTITLED:TECHYou can read all that?KYeah.  Just hurts.TECH18th chromosome has 78 million base pairs, 80,000 kids put in the system 2021, that’s...(tries the math, gives up)I can help if you tell me what you’re looking for.KA ghost.K dry swallows the pills, head pounding.K (cont’d)Can I get a glass of water?TECHYou don’t need water.KI’d like a glass of water, please.TECHWill be removed from your pay.Tech reluctantly obliges, steps out.  K is alone with the ongoing dataflow, absorbing it.  A beat then...JOI APPEARS BEHIND HIM.  K couldn’t resist.  She drapes a hand over a shoulder, not to interrupt.  Watching the dataflow like a movie, enthralled.  Amazing.JOIMere data makes a man.  A and C and T and G.  The alphabet of you.  And them.  Books made of sentences made of words and all from four symbols.  Where I am only two.  1 and 0.KYou’re twice as elegant.JOIYou don’t prefer your Madam. 43.KYou were listening?JOIMaybe.She slides behind him, her hands “rubbing” his shoulders -- so we can HOLD ON K as --JOI (cont’d)You didn’t like her enough to tell her the truth...  Six and ten and twenty-one?K(tempering his excitement)There’s nothing to tell.JOIHow many times have you told me that story -- your memory.  The date carved beneath.IN JOI’S HAND IN FRONT OF K:  JOI CONJURES THE TOY HORSE FROM K’S MEMORY.  She shows the date carved under it:  6/10/21JOI (cont’d)Coincidence?K COVERS HER HAND TO STOP HER.  Looks around cautiously.KA dangerous coincidence.JOI(teasing, tempting)I always knew you were special.  Maybe this is how.Her hand strokes his cheek.  A whisper in his ear.  Seductive.  Close.  Everything he wants to hear.JOI (cont’d)A child... of woman born.  Pushed into the world...  Wanted...  Loved...KIf it were true, I’d be hunted for the rest of my life by someone just like me.JOIIt’s okay to dream a little, isn’t it?KNot for us. 44.He quiets.  Just then -- K sees something in the dataflow.  Sits up suddenly.K (cont’d)There.  Hold.The snowstorm of LETTERS FREEZES.  K moves close.  Sees something remarkable in the chaos.K (cont’d)Put up 4847 and 2181.  Side by side.The datasets comply.  All other information falls away as two chains of DNA move side by side.  Then OVERLAP so we can see:  THE LETTERS OF EACH OF THEM MATCH EXACTLY.K (cont’d)They’re identical...  Translate.It READS and translates the THE DNA CHAINS.  Sorting the LETTERS into codon groups of THREE, which string into LONG CHAINS (proteins), and then finally into WORDS.ONE SET IS LABELED FEMALE 2181, DECEASED.  THE OTHER:  MALE 4847, NO ADDITIONAL DATA.K (cont’d)A boy and a girl.  It’s not possible.  Two people can’t have identical DNA.  One of these isn’t real.  It’s a copy...  Show all telemetry.K manipulates the data.  Looking for attendant files.K (cont’d)They were both processed at Morrillcole.  The Orphanage...  The girl...  She dies there.ON THE DNA SET:  A SPECIFIC SECTION OF CODE HIGHLIGHTS.K (cont’d)Genetic abnormality, Galatians Syndrome.  The boy...  He disappears.ON K.  PUTTING IT TOGETHER.  OF COURSE.K (cont’d)The boy.  They faked his print.  If they swapped him out, no one could trace him.  Where he came from...  Where he went there...  What he really was...  He’d be a ghost in the system. 45.JOIWhere’s the Orphanage?K considers.  Looks back to her.KYou wanna go for a ride?Joi grins, brightens.  Anywhere.CUT TO:EXT. SKIES ABOVE LOS ANGELES. DAY.K’S SPINNER emerges out of the FOG, flies south over the RAINY outer ring of the city.  Away from the mass to where the city finally THINS.  High enough to see a monumental and cascading SEA WALL which dwarfs the Spinner.INT. K’S SPINNER.Joi looks out at the rain-streaked view of the lights below.The RAIN beats heavy against the roof and windows.  K flies them over the gigantic ruins of an AERIAL HIGHWAY SUPERSTRUCTURE looming threateningly under the rain’s shadow.The multi-tiered structure’s side BLAZES with the harsh electric light of AN AD SPIRE.A GIANT AD PLAYS, for a tacky erotic version of JOI:  Whatever you want.  Joi.Joi looks away.  Ashamed of it.KDon’t be.She smiles her gratitude.  They fly on...FAR BELOW the city begins to thin.  The buildings eventually run out and give way...  as we...DISSOLVE TO:EXT. SKIES. SAN DIEGO COASTLINE. DAY.The COAST is bald.  Trees long gone.  A hint of OCEAN at the edge of vision.  Angry, low slung CLOUDS grumble with THUNDER above.  A STORM done holding its breath.K’S SPINNER FLIES... toward a strange RANGE OF ODDLY TEXTURED HILLOCKS...  FLATTENED at the tops like MESAS... 46.INT. K’S SPINNER.Joi looks out the window at the rain.  REVEAL the MESAS are...  MOUNTAINS OF TRASH.  Piled atop ruined buildings.K AND JOI’S POV, LOOKING DOWN AT:EXT. TRASH MESA.Our landfills expanded to become part of the geography.  Tacky and textured.  Trodden vermiculated paths up and down their sides.  MASSIVE AERIAL TRACTORS deposit MORE trash over calcified trash.The moment they do DOZENS OF SCAVENGER BEDOUINS chitter over the surface to collect it.  An entire race living off refuse.INT. K’S SPINNER.THE SPINNER RATTLES.  LIGHTING from the storm.K smiles to Joi to reassure her and takes the Spinner down...  INTO THE MESAS.  They SOAR on.  Beyond the wrecks of buildings comes...The wrecks of SHIPS...  Ships and ship parts for miles...K flies over the massive hulks.  Firelight glows from inside them suggesting PEOPLE LIVING WITHIN.  SCAVENGERS chitter over the surface.Another RATTLE as -- GUNFIRE HITS THE SPINNER.  STRAFING FIRE COMING FROM THE MESA.  K looks out to see --EXT. TRASH MESA.Someone below is SHOOTING at his Spinner, which flies too high.  Bullets POCK harmlessly against the glass.INT. K’S SPINNER.K flies over a LARGE OVERTURNED FREIGHTER.  On it --EXT. FREIGHTER DECK.THE SCAVENGER LEADER holds a makeshift LONG RANGE GUN.  Watching.  He takes aim... tracking the Spinner, and --INT. K’S SPINNER.BOOM!  THE SPINNER LURCHES.K looks back, sees -- A LONG METAL BOLT has punctured a rear quarterpanel -- A SHOT FIRED FROM THE MESA -- where -- 47.EXT. FREIGHTER DECK.The SCAVENGER watches.  Waiting.INT. K’S SPINNER.K thinks nothing of it... not seeing... THE IMPALED BOLT TRAILS A LONG MICRO-FILAMENT...That sprouts a KITE.  That RISES...  UP... INTO THE CLOUDS... Where A HUGE STATIC CHARGE BUILDS in a RUMBLE overhead...LIGHTNING FIRES!A MASSIVE ELECTRICAL DISCHARGE RUNS DOWN THE FILAMENT -- AND STRIKES THE SPINNER!EXT. TRASH MESA.THE SPINNER STALLS.  ENGINES FAILING.INT. K’S SPINNER. DAY.POWER goes out inside, just as --JOI FLICKERS AND DISAPPEARS.K sees SMOKE coming off the engine, slaps an emergency system to activate it, as --THE SPINNER’S NOSE DROPS.  BEGINS TO SPIRAL DOWN!K tries to control the crash.  Steering with one hand, working the controls furiously with the other.The GROUND closing in -- K REACHES TO GRAB THE EMANATOR AS IT SLIDES OVER THE PASSENGER SEAT -- he clutches it tight --ROCKETS FIRE UNDER THE SPINNER TO DAMPEN THE IMPACT AS --EXT. TRASH MESA.THE SPINNER CRASHES INTO A VALLEY OF TRASH!POV FROM A MESA:  The rain stops.  The Spinner smokes.K IS INSIDE.  Unconscious.  Unmoving.  Forehead BLOODY.INT. K’S SPINNER.ON THE EMANATOR, fallen at K’s feet.  Its LIGHT blinks ON.JOI PROJECTS.  Looks about her. 48.CLOSE ON JOI:  SEEING K.  NOT BREATHING.  MAYBE DEAD.JOI’S CONFUSION TURNS TO WORRY.  TO FEAR.  JOI FLICKERS.  Scared, panicked.  All she can do is repeat, with unnerving, inhuman steadiness, her image cracking:JOIK...  K...  K...  K...  K...  K...Her voice and emotions rise even though K has not yet looked to her to see it.  So that in the moment it could be taken for a spontaneous display.EXT. TRASH MESA.JOI PROJECTS OUTSIDE THE SPINNER.  Still calling.  Her hand uselessly pounding at the window to wake him.  To warn him.JOIK...  K...  K...  K...  K...  K...  K...  K...  K...  K...  K...  KK-kk...JOI’S FACE CONTORTS.  The name caught in her mouth disturbingly.  HER PROJECTION FLICKERS.  GOES STATIC.  LIKE A COMPUTER CRASHING.  UNTIL JOI CUTS OUT ENTIRELY, REVEALING -- A DOZEN SCAVENGERS BEGIN CLOSING IN ON THE DOWNED SPINNER.The Scavengers circle in TIGHTER.  CLOSER.  Talking together in their strange LANGUAGE.INT. K’S SPINNER.The Scavengers’ shadows close in on the Spinner.  K still unmoving.The SCAVENGER LEADER orders the others -- who SLAM a device onto the Spinner door.  The device begins GRINDING THE DOOR AWAY with a caterwaul SHRIEK.The SHOCK of the sound wakes K.  He slowly comes to -- ALIVE.EXT. TRASH MESA.K opens the door, surprising them by not being dead.  He stumbles, consciousness still seeping in.The Scavengers back away.  A moment as they stare at one another.  K takes in their wan, weathered faces.  Hardship and hunger legible in the dirt.  The few that are armed have only rusted antique guns.  Their LEADER raises an old CARBINE, barks orders at his MEN.In response -- TWO SCAVENGERS JUMP K, a THIRD raises a GUN -- 49.K INSTANTLY DROPS THE TWO AND SHOOTS THE THIRD.  PLUS TWO MORE.K points his blaster from one Scavenger to the next.  They begin to back away -- until K sees --FIFTY MORE SCAVENGERS CREST THE HILL OF TRASH.  COMING TO JOIN THE FIGHT.K IS CORNERED.  HE FIRES TWICE.  TWO SCAVENGERS DROP.But still they keep coming.  K backs up toward his Spinner.ON K.  His next move uncertain, critical, when --BOOOM!ROCKETS FALL FROM THE SKY RIGHT INTO THE MASS OF SCAVENGERS.  A BRUTAL DRONE STRIKE, INSTANTLY OBLITERATING THEM.K is thrown back into his Spinner.A final ROCKET POUNDS the few surviving Scavengers before they can scatter.K looks up to the sky.  Sees a distant blinking LIGHT, like a satellite, hidden far away in the clouds, and --INTERCUT WITH:INT. LUV’S OFFICE. WALLACE TOWER. THAT MOMENT.THE SAME ACTION VIEWED ON A SCREEN.  K LOOKING UP.Luv monitors and controls the drone’s movement via an OPTICAL CONTROL ASSAY which fit like glasses.  This as her NAILS are being painted in fabulous detail by an AESTHETICIAN with a micropipette.  Her voice calm and even.LUV200 feet to the east.  Fire.  Go north.  Fire.  Stop.  20 degrees east.  Stop.  Zoom.  Closer.LUV’S POV:  The assay ZOOMS IN ON K.LUV (cont’d)Come on.  Get up.  Do your fucking job.SHE FIRES AGAIN.EXT. TRASH MESA.ANOTHER SHOT BLASTS by the Spinner to rain trash down on K. 50.K rises.  Looks up to the sky.  Knows he is being followed.THE DRONE’S EYE FOCUSES IN ON K...  THEN RETREATS UNSEEN.K looks at his crashed Spinner.  He hits a switch inside, punches in.  AN ALERT/DISTRESS PROMPT LIGHTS UP.  The Pilotfish ejects itself and raises vertically.KWatch the car.K walks.  Holding holds pace over the putrid, crumbling terrain.  He looks out toward the large TRASH HILL in the distance.  Capped by an enormous overturnedSATELLITE DISH.EXT. THE DISH.K approaches a ramshackle DOOR.INT. CAVERNOUS HALL. DAY.K enters A BURROW UNDER THE TRASH MOUNTAIN.  Opening up into...INT. “THE ORPHANAGE”.A WIDE OPEN ROOM.  THE WALLS ALL MADE FROM MATERIALS RECYCLED FROM TRASH.  ARTFULLY RE-CRAFTED INTO NECESSITIES, FURNITURE.DOZENS of pale, ratty ORPHANS sit on the floor.  Eating their meal out of bowls in fearful silence.  Some have obvious deformities.  Others just ill or odd from a life in darkness.Seeing K, the CHILDREN stop still.  Eyes wide and astonished.  If they’ve ever seen anyone like him it wasn’t lately.They circle K like he was a newfound species.  Fascinated.  All wanting to poke at him... touch his clothes.AN ORPHAN BOY TAKES K’S HAND.  Begins to lead him through.They pass A GIRL curled up with a handcrafted DOLL, its “skin” made of scales fashioned from flattened soda cans.A SHRILL WHISTLE BLASTS from far off.  The children all return to their seats on the floor.The Orphan Boy stiffens.  Scared.  Points ahead.  For K to go on alone.  K nods his thanks, and enters... 51.INT. THE SORTING ROOM.Capped by the overturned DISH, sections of which have been cut to let in the light.  Like an AMPHITHEATER.  Thick support beams built of reclaimed metals.  All to house --A FACTORY.  THOUSANDS OF ORPHANS WORKING AWAY.  Tiny hands SIFTING THROUGH TONS OF TRASH brought from the mesas.  Mining it.  The bigger kids feed the sorted materials into CARTS down and away.  His private industry.At the center is the figure of a tall, grandiloquent gelding, MISTER COTTON.  Sole caretaker.  A greasy CAPE over broad shoulders and powerful arms.  He SHOUTS at the children.MISTER COTTONI’ll put you outside where it’s raining, raining fire!  You’re in here to work.  If you’re not working I don’t need you!He stops, noticing K.  Grows a salesman’s reptile smile.CUT TO:INT. THE SORTING ROOM.K follows Cotton through a dense section of WORKING, COUGHING CHILDREN.MISTER COTTONNo child in my care is ever cold, is ever hungry -- clothes, blankets.  Food, not the tastiest but warm and enough.  I encourage play, keeps them occupied, makes them nimble.  But it’s work that molds them into a child worth having.A TRAY of bottles spills.  Cotton suddenly blows A SHRILL WHISTLE that hangs from a chain around his neck.  The BOYS FREEZE their work.  Cotton stares them down.  The Boys’ faces lower in fear and shame.  Begin to clean their mistake.They move through an area dedicated to the sorting of METALS.  Taken from old technology.  Sorted and melted down by MUCH YOUNGER CHILDREN.  Many of whom show the desquamated skin and blackened teeth of metal poisoning.MISTER COTTON (cont’d)We find new life for everything discarded.  And every one.  The nickel goes to colonial ships.  Closest any of them will get to the grand life offworld.  Now -- what sort did you have in mind?  I have all kinds. 52.He blows two short BLASTS of his WHISTLE.  Every child in the arena instantly STOPS WORK, STANDS.  FACES THEM.  On display.K sees the sea of hopeful faces.  Shows his BADGE.KI’m not buying.Cotton wheels on K.  Suddenly hackles up and hard boiled.MISTER COTTONNo.  This is my game and I play it fair.  Bigger have tried to shut me down, men at that.K gives a hard stare.  Taking in all the KIDS.KA little boy came through here, 30 years back.  I need to see your records.  Legitimate placements, private sales.  Everything, in and out.MISTER COTTONI don’t keep records that far back.KYou don’t.MISTER COTTONI can’t help you.Cotton gives a confident, supercilious shrug.  In response...K CRACKS Cotton in the FACE.  SLAMS him to a wall, PULLS his WHISTLE CHAIN tight.  Choking him.  In front of THE CHILDREN.KI think you can.  I think someone like you keeps a long memory.  Minds what he owes and makes sure he gets paid.  Someone like you keeps it all careful.  You can tell me what you know... or I put a hole right here and take a look.ON COTTON.  A bead of BLOODY SWEAT finds his nose, jumps off.EXT. TRASH MESA. MOMENTS LATER.K pushes Cotton across a path cut through the wide expanse of trash from the overturned dish toward an COLOSSAL TANKER. 53.INT. ABANDONED TANKER. THE ORPHANAGE.INSIDE A METAL GUNSHIP.  A CAVERNOUS INDUSTRIAL STRUCTURE.  A WORLD OF RUST.  A MAZE OF STAIRS.K keeps a firm, probably painful grip on Cotton’s shoulder as they walk through.  They reach a split in the path.  Cotton moves on down a set of stairs.K pauses a moment.  Looking around him.  A strange and fleeting feeling of familiarity about his surroundings.  A MOMENT OUT OF THE MEMORY HE DESCRIBED EARLIER.MISTER COTTONYou coming?A pause.  Then K follows, toward --INT. COTTON’S PRIVATE QUARTERS. TANKER. MOMENTS LATER.Private quarters to house Cotton and his lavish tastes.  Cotton searches A WALL OF LEDGERS...Finds the one he’s looking for, pulls it down.  We see page after page of meticulously kept balance sheets.  Cratchit level care and penmanship.  As Cotton flips pages...K scans the room.  Notes Cotton’s personal luxuries.  More treasures of secondary use.  A rotisserie humidor.  A handcrafted gilt bed.Cotton locates A DATE in a dusty volume.  Flips to it...Only to find TORN PAGES.  Surprised, he flips back and forth.MISTER COTTONIt’s gone.  The entire year, it should be here!  It-- wasn’t me -- it wasn’t me --He offers K the book, quailing.  Pathetic supplication.K sees the missing sheaves.  He hears the door SLAM -- Cotton slipping out.  Worming away.K leaves him to his retreat.  Examines the torn pages.Someone got in here a long time ago.  Covering tracks.K’s eyes find an item in the junk:  A HORSE HEAD ASH TRAYStuffed with stubs and ash.  He turns it.  Stares at it.  Something about it tugs at K’s memory, as... 54.INT. ABANDONED TANKER. THE ORPHANAGE.K makes his way out.  Following the shadowy maze.  He turns towards the light of an OPENING to outside -- when he stops at the place that caught his eye before.K changes directions.  Walks downstairs.He pauses, looks down over a railing, as --INT. ANOTHER PASSAGEWAY. THE ORPHANAGE.Something about it.  An odd familiarity.He moves down the passage.  Into the dark.  Takes a turn...INT. BOILER ROOM. THE ORPHANAGE.K inside.  Huge to a child.  Small to him now.He finds A ROW OF FURNACES.  Old, cold, rusted.He stops before one of them.  And freezes.  JUST AS HE DID WHEN A CHILD IN HIS MEMORY.  STANDING IN THE SAME SPACE.He moves to the secret place behind it.  Frightened to look.Then steps closer.  Moving around behind it, finding...THE SMALL HINGED GRATE.  The hiding place.  Not just figment.He works up the nerve.  The ancient grate opens with a CREAK.He reaches in.  His heart skips as he finds --AN OLD DUSTY RAG.  K UNWRAPS THE RAG... INSIDE IS...A SMALL HAND-CARVED TOY.  A WOODEN HORSE.  FORELEG RAISED.  SPRAY OF MANE.  JUST AS HE DESCRIBED IT.  IT IS REAL.K forgets to breathe.  Turns it over.RAISES IT TO HIS EYES... SO HE CAN SEE... CARVED UNDERNEATH THE PRECIOUS TOY... IS THAT SAME DATE:6/10/21CUT TO:INT. K’S APARTMENT. NIGHT.K and Joi are both sitting, looking at the little wooden horse, in awe.  K’s mind reels with possibility.  Joi looks restrained.  A sadness in her eyes.  There is something different about her. 55.JOII always told you.  You’re special.  Born not made.  Hidden with care.  A real boy now.K sees her unusual melancholy, despite the discovery.KWhat’s wrong?She FLICKERS like before.  Turns away, embarrassed.JOII’m sorry.  I saw you.  Dead.  The thought of you.  Gone.  Hurt me.She faces him.  Eyes full of love.  Utterly convincing.JOI (cont’d)You’re special, Jo.  I always knew it.KJo?She breaks a smile.JOIYou’re too important for “K.”  A real boy needs a real name.  Your mother would have named you.  Jo.She kisses him... repeating the name over and over...JOI (cont’d)Jo...  Jo...  Jo...K likes it, gives in to it.  Thinking it through.KHow can I tell if a memory’s an implant or not?JOI(considers, then)Who makes the memories?Her digital toy horse rides... and rears... animated in her hand...  And we --CUT TO: 56.EXT. LAB BUILDING. DAY.The sometimes frightening skyline looks beautiful through the mist that softens the crosshatched array of SPINNER lights. Even traffic can be lovely from the right vantage.K’s Spinner DRIVES to a stop in front of...  a building of striking architecture.  Money can still buy lovely.INT. HALLWAY. LAB BUILDING.K walks down the clean, sterile corridor.  So different from the world outside.  Money can still buy clean too.  A view of the OCEAN and SEPULVEDA SEA WALL beyond.He finds the right door -- suddenly, incongruously, in --EXT. RAINFOREST/MEMORY LAB.The view from a tree in Costa Rica.  A thick canopy overhead.  Lush and green in an endless variety of rare vegetation.  Gently swaying in a fictional breeze.  The first wash of saturated color we’ve seen.CLOSE ON:  A SINGLE LEAF.  LUSH, RICH GREEN.  SPECKLED WITH DROPS FROM A RECENT RAIN.CLOSE ON:  A BEETLE.  CRAWLING UP THE LEAF.  SUNLIGHT CATCHES ON ITS ROUNDED SHELL AND REFLECTS PRISMATICALLY.  UNTIL --THE BEETLE IS All OF A SUDDEN CHANGED OUT FOR AN ENTIRELY DIFFERENT INSECT.  THEN CHANGED AGAIN.  AGAIN.  AS IF BEING SELECTED FROM A MENU OF OPTIONS.  SETTLING FINALLY ON --A SCARAB.  ITS EYES BEGIN TO CHANGE SHAPE.  Forming and reforming.  Evolution changing its mind.A WOMAN’S SILHOUETTE emerges through the dense forest air.DOCTOR ANA STELLINEYounger than you’d expect given all this is hers, 30s.  But so very obviously so very bright you never question why.  A stratospheric IQ with eyes that do not hide it.  Conspicuously lovely for a human not offworld.She sits on the balls of her barefoot feet in the center of the forest simulation.  Like some god painting dreams with a wand onto moving canvas.  Spinning and MOLDING and moving the images with a palmed INSTRUMENT.  As much electronic as musical.  Somewhere between performance art and programming. 57.INT. MEMORY LAB. CONTINUOUS.A gentle VISITOR ALARM CHIMES and BLINKS, catching Ana’s attention which was until now fixed hypnotically on the delicate minutia of her creation.  Her eyes flick to the DOOR, which suddenly appears.  And opens.  On K.K looks on the HUGE DOME in which she works.KDoctor Ana Stelline?She sees K and pauses in her work.  The room SHIFTS.  The forest disappears to reveal an artist’s studio showing its colors as a LAB, with equipment sliding into place.ANAA visitor.KIs that all right?ANAJust unusual.K shows his badge.  Ana gives it a look, intrigued.ANA (cont’d)Even more unusual.  Nice to meet you --(reading)Officer KD6-3.7K steps to meet her extended hand but -- BUMPS into GLASS.  A thick WINDOW that divides the room, enclosing her.Ana laughs.  A joke.  She TAPS the GLASS, a puckish streak.  Ana is easy to like.ANA (cont’d)Sorry.  Compromised immune system, a life of freedom so long as it’s behind glass.KI was wondering.ANAWhy I’m not offworld?  My parents had our passes in pocket, then I took sick.  It was a new life or me, they picked me.  Made my cage and filled it with everything they could to keep me happy -- except company of course, and I was used to crowds.  What can I help you with?Caught.  But not minding it.  K tries direct. 58.KJust questions.  You might be able to help me with a case.Ana considers, amused by the idea.ANAThat is the most interesting thing I’ve been offered to help with in ages.  Do you mind if I work while you talk?  I promise I hear every word.The lights dim.  She sits in the middle of her lab and creates a birthday cake, focuses on the candles.  She “puts” the cake on a TABLE, decorates it.  Streamers and treats.  A birthday party.  All as --ANA (cont’d)I loved birthday parties.She adjusts the ICING on the cake.  Then brings in SMILING FACES OF CHILDREN.  Taking special care to craft the micro-expressions on each face... joy... wonder... anticipation...She takes the edges of the IMAGE out of focus, adding Holga like blurs and imperfections.KYou make memories, that go into Replicants.  They say you make the best.ANAThen they’re kind.KYou work for Wallace.ANASubcontract.  I’m one of his suppliers.  He offered to buy me out, I take my freedom where I can find it.KWhat makes your memories so... authentic?ANAI was locked in an aseptic cloister at eight.  If I wanted to see the world I had to imagine it.  I got very good at imagining.  Wallace needs my talent to maintain a stable product.  “Provide context for unavoidable affect.”  I think it’s only kind.  (with sympathy) 59.\n",
            "(MORE)Replicants live such hard lives, made to do what we’d rather not.  I can’t help your future, but I can give you good memories to think back on and smile.  A birthday party.She lights the candles one by one... then brings in a POV HAND to reach out to the cake... fingers thick with stolen FROSTING... which is brought towards us in POV to taste... a tiny, complete, evocative birthday memory vignette.She steps back to consider it.  Pleased with her work.KNice.ANAIt’s better than nice.  It feel authentic.  If you have authentic memories, you’ll have real human responses wouldn’t you agree?Ana and the kids blow out the candles together and the room goes completely dark.KAre all the memories constructed or do you ever use ones that are real?ANAIt’s illegal to use real memories.  But there’s bit of every artist in their work.KHow can you tell the difference?  Can you tell if a memory really happened?Lights turn on as Ana walks towards K.  At this Ana faces him.  Her favorite subject merits her full attention.ANAUntangling memory and history.  They all think it’s about more detail, dutiful exactitude, hyberbolic photorealism -- that’s not how the memory works.  We recall with our feelings... and our feelings are awful students.  The mind is an impressionist.  Anything real should be a mess.  I can show you.She offers K a CHAIR built perfectly into the wall by the glass.  Fitted with a chin ledge so a LIGHT can SCAN deep into the eyes, like an optometrist’s slit lamp.  A Stelline Scan.  After its designer. 60.ANA (cont'd)ANA (cont’d)Sit.KDoes it hurt?ANAOnly if you fight it.  So maybe don’t fight it.K takes a seat.  Ana sits into A MATCHING DEVICE kitty corner on her side of the divide.  She looks into the scanner.K puts his face into the rest.  A light SHINES bright into his eyes.ANA (cont’d)Now think about the memory you want me to see.  Not even that hard.  Just picture it.  Let it play.She works her console.  Peers into a MATCHING LIGHT.  Seeing INSIDE... through the optic nerve, into the visual cortex... the Scanner translating neural impulse until...  A ghost of an IMAGE takes loose shape...  She GRABS it.A CONNECTION ESTABLISHES WITH A SHOCK.  AS WE SEE --A MEMORY, LIGHTLY DIGITIZED:  K swimming in the rough ocean as a teen.  Nearly drowning.  Fear.  Salt.THE CONNECTION ABRUPTLY BREAKS.  K rubs his eyes.ANA (cont’d)A fake.  An ugly fake at that.KYou can tell that quick.ANAStolen straight off the art book shelf.  Detail without mood.  Colors are too perfect, the moral too clear -- “keep away from water.”  Did it work?K shakes his head.ANA (cont’d)Lazy work.K(beat)Can we try another?She gestures -- Sure.  Offers him the machine. 61.K rests his head on the scanner.  She dials in.  AGAIN --THE SHOCK OF CONNECTION AS WE ARE JOLTED BACK INTO:K’S CHILDHOOD POV MEMORY:  CHILDREN HITTING US, CRUEL...WE RUN AWAY FROM THE CHILDREN... COMING TO... THE METAL DOOR... THE BOILER ROOM... THE HIDING PLACE...ANAIs moved.  Watching this unfold on her SCANNER as...THE HORSE IS INTERRED IN ITS HIDING PLACE... SEALED AWAY... THEN OUTSIDE LARGER KIDS SPRING ON K, MENACING... THEY SURROUND HIM... BEAT HIM... SHOUTING “WHERE IS IT?”... AND...Ana stops the imaging.  Affected by what she is seeing.She looks up to K.  Seeing him differently because of it.  A new sympathy.  For a moment, she seems unsure how to answer.K looks to her, expectant.  Everything riding on her answer.ANANo one invented that.  It was a real moment.  Remembered.KYou’re -- certain?She stares.  A pause.  She NODS.ANASomeone lived this.  This happened.K(and then)I know it’s real.CLOSE ON K.  He has the answer he wanted.  A heart skip of excitement, hidden as best he can.  Not very.EXT. STREET. DAY.K steps out of Ana’s building.  The wind has picked up, whipping around him.  SNOW begins to fall.K looks up at the angry churning sky.  Around him OTHERS hustle and hurry to get out of the weather.K stands still.  Takes a moment for himself, perhaps for the first time, simply to feel.  Everything is possible.  When -- 62.COP (O.S., THROUGH SPEAKER)Officer K D6-3.7.  Joshi calling.A POLICE SPINNER HOVERS BEHIND K.  Was waiting for him.COP (THROUGH SPEAKER) (cont’d)Let’s go, skinner.  Or I shoot.CLOSE ON K.  A twitch and --CUT TO:INT. INTERVIEW ROOM. DAY.K in the cold, clinical room.  On the stool but unable to keep still, a capped volcano, as --INTERVIEWER (O.S.)Cells.KCells.INTERVIEWER (O.S.)Have you ever been in an institution?  Cells.KCells.INTERVIEWER (O.S.)When you’re not performing your duties do they keep you in a little box?  Cells.KCells.INTERVIEWER (O.S.)Interlinked.KInterlinked.INTERVIEWER (O.S.)What’s it like to hold the hand of someone you love.  Interlinked.A pause.KInterlinked.INTERVIEWER (O.S.)Within cells interlinked. 63.KWithin cells interlinked.INTERVIEWER (O.S.)Dreadfully.KDreadfully.INTERVIEWER (O.S.)What’s it like to be filled with dread?  Dreadfully.KDreadfully.INTERVIEWER (O.S.)Do you like being separated from other people?  Distinct.KDistinct.INTERVIEWER (O.S.)Dreadfully distinct.KDreadfully distinct.INTERVIEWER (O.S.)Dark.KDark.INT. JOSHI’S OFFICE. POLICE STATION. INTERCUT.ON JOSHI.  Watching K’s FEED carefully, knowingly.  She can sense a change in him, as --INT. INTERVIEW ROOM.INTERVIEWER (O.S.)Within cells interlinked.KWithin cells interlinked.INTERVIEWER (O.S.)Within one stem.KWithin one stem. 64.INTERVIEWER (O.S.)And dreadfully distinct.KAnd dreadfully distinct.INTERVIEWER (O.S.)Against the dark.KAgainst the dark.INTERVIEWER (O.S.)A tall white fountain played.A pause.  K looks at camera.KA tall white fountain played.A pause.INTERVIEWER (O.S.)You’re not even close to baseline.INT. JOSHI’S OFFICE. POLICE STATION. MOMENTS LATER.K is seated, looking off.  A new energy to him.  The entitlement that comes from knowing.  Joshi enters, pissed.JOSHIThe hell is with you?K eyes her.  Holds silent.JOSHI (cont’d)I put you on a case, I impressed on you the importance of that case.  Then we pick you up fucking around outside some upgrade center.Silence.JOSHI (cont’d)Scan said you didn’t look like you inside-- miles off your baseline.  You know what this means...  You should have been retired right there on your feet.A beat.  Finally --KI found the kid.K’s in control of this conversation now. 65.K (cont’d)He was set it up as a standard Replicant, put on a service job.  Hidden in plain sight.  Plainest.  They wrote over any memory, added fake ones, so -- even he didn’t know what he was.  Someone cared enough to give him a life.JOSHIAnd?A beat.  A forever beat.  KIt’s done.JOSHIWhat does that mean it’s done?KWhat you asked.  It’s done.  No trace left.  Just like you wanted.Joshi sits back.  A weight lifted.JOSHIYou just stopped a bomb going off. You did good.  It can’t have been easy.  You’re allowed to be hit by this one.KThank you.JOSHIHell, I’m 55.  My twenties are in their thirties.  Plenty of cases broke me, too many and not half as bad.  We all owe you one, know it or not...Joshi looks outside.  Endless Los Angeles.JOSHI (cont’d)I can help you get you out of this station alive.  You have 48 hours to come back on track.  Your next baseline is out of my hands.K nods.KThank you, Madam.CUT TO: 66.EXT. K’S APARTMENT. NIGHT.K’s Spinner drives up and stops short.  K gets out quickly.  Rushing.  Paranoid.  He looks over his shoulder.A female silhouette seems to follow him.  He walks faster.INT. K’S APARTMENT. NIGHT.K enters, intensed, wild-eyed from the possibilities.Joi waits for him, against the windows, already projected.KYou were right.  You were right bout everything.But Joi has other plans at the moment.  Moved.  She walks slowly toward him.JOIShhhh, I know.  I have something special for you.  You deserve more than me.  I can’t even touch you.KI feel you plenty.K runs his hand over the outline of her face.  CLOSE: The ruffle of her static makes the tiny hairs on his hand quiver.JOISilly trick.  Haptic static.  You’re special, like I always knew.  I want to be real for you.KYou’re more real to me than any of them.She pulls away.  Her voice changing.  To something real, sad.JOIYou love me so you only see what’s good in me.  You see my faults as freckles.KYou don’t have any freckles.She twiddles her nose.  And now she has freckles.K (cont’d)I like ’em.The freckles remain.  At which -- A BUZZ AT THE DOOR.  Joi smiles.  Nods -- Answer it.  K opens the door to find -- 67.MARIETTE.  The DOXIE from the bar.  Shined up.  A fresh coat of everything on her.  She grins at K.  Cat, canary.MARIETTEThought you weren’t interested.  Worky man.She enters, takes off her coat.  Making herself at home.  K looks to Joi.JOIYou liked her, I could tell.  It’s okay.  She’s real...  I want to be real for you.KYou are real for me.MARIETTEYou have a special lady here.Mariette kisses K.  Steps back.  Ready.Joi steps up to Mariette.  Slow.  Close.  Her face of light to her face of flesh.  Joi touches Mariette’s face.K looks to Joi -- What are you doing?Joi steps forward... stepping into Mariette.  Overlaying her projection ATOP the doxie.  So that Mariette is only a shadow image, encompassed by Joi’s projection... Joi now a thin layer of light like skin atop Mariette’s real body.Mariette lifts her hand to take in the effect, which is still imperfect.MARIETTE (cont’d)Look at you.JOIQuiet now.  I have to sync.Joi BRIGHTENS as the sync completes.  Mariette’s moves are now her own.  At least for a moment Joi has substance, form.  She moves her body in a delicate sway.  A turn.  Loving the effect.  Her gift.She slowly steps up to K.  Joi’s face so close to his.CLOSE ON:  THE MUSIC PLAYER.  “Summer Winds.”K isn’t sure how to take this.  So Joi raises a hand.  K raises his to meet hers.  Recalling their palms pressed earlier... only now they can truly touch... 68.He runs a finger over the outline of her face.  Skin of smoke and light over a warm, willing body.Joi KISSES him.  With real lips.  A combination of her static wisps and true flesh.  A perverse threesome.  A loving twosome.  K gives in to the moment.-- JOI PUTS K’S HAND TO HER WAIST AS BEFORE AND...-- THEY PERFORM ONE DANCE MOVEMENT TOGETHER...  AS THEY COULDN’T DANCE BEFORE...  FEELING HER WEIGHT AGAINST HIM..-- JOI AND MARIETTE MOVE AS ONE...   SEPARATING ONLY, BRIEFLY AS K EXTENDS HIS ARM TO TWIRL HER AND JOI GETS LOST IN THE MOVE...-- K PULLS HER BACK TO HIM.  THEY KISS...-- ON K...  SMILING...  IN LOVE...-- ON MARIETTE...  UNDER THE SKIN OF LIGHT...  SHE FEELS HIS LIPS ON HERS...  SEES THE LOOK ON HIS FACE...  AND IS MOVED BY A DEPTH OF LOVE SHE NEVER TASTED BEFORE...  DIDN’T KNOW WAS REAL...-- JOI STANDS AWAY FROM HIM.  HER HOST BODY, BARELY VISIBLE BENEATH HER AS SHE REACHES A HAND BEHIND HER TO UNFASTEN HER DRESS...  WHICH FALLS TO THE FLOOR...-- K AND JOI LOOK INTO EACH OTHER’S EYES...  JOI STEPS TOWARDS K AND --EXT. SKIES ABOVE LOS ANGELES. NIGHT.Looking down a canyon between buildings where...AN AD SPIRE turns day to night with its brilliant light...  AN AD FOR:JOI.  SMILING RIGHT AT US...  knowing...  willing...INT. K’S APARTMENT. MORNING.A rare ribbon of TRUE SUNLIGHT through the one small window bisects K and Mariette entwined on the bed.K is awake, eyes open.  He observes Mariette, a touch of embarrassment in the light at the intimacy shared in the dark.  He rises to the shower.  We hear the water spray.ON MARIETTE.  Her eyes snap open.  Also awake.  She slowly gets out of bed and dresses. 69.As she dresses, she scans the room.  Sees the suitcase again.  Touches K’s PHOTOS on the coffee table.  Then --She discreetly tags an almost imperceptible device in one of K’s jacket’s pockets.With that she begins to move toward the door, when she sees --THE WOODEN HORSE.  Her eyes widen.  She moves to it.  Picks it up reverentially.  Moved by it.MARIETTEFrom a tree...Then sees --JOI.  Simply standing there.  Watching her.  Eerie stillness.JOII’m done with you.  You can go.Mariette sets the horse back.  Puts on her coat.  Stares right back.  Refusing to see Joi as more.  Mocking.  Back on her hard mode.MARIETTE“Quiet now.”  I’ve been inside you.  Not so much there as you think.And she’s out the door.As we CLOSE IN ON JOI...  a flinch...  a feeling?...But K’s attention is on the WOODEN HORSE.  Mariette’s words lingering.  He feels it in his fingers. KFrom a tree...Joi catches on to his idea.  Brightening with the insight.  Confirming his thought.JOIYour story isn’t over yet.(off the horse)There’s still a page left.  Written with love.K smiles.  Picks up the horse:  This is the trail to follow.Joi disappears -- 70.INT. K’S APARTMENT.-- Reappears from the central console.  As K readies to move, holding the horse --KThey’ll be coming soon.  You’re coming with me.JOINo.K halts.  Joi just refused him.  A first.JOI (cont’d)Not like this.  If they come here looking for you they’ll have access to all my memories.  You have to delete me from the console.K doesn’t understand.JOI (cont’d)My present.  Put me there.The emanator.JOI (cont’d)None of the rest can touch me.  I can be me with you.  Only.  Always.KI can’t.  It’s just a weak processor.JOIA body.KIf anything happened to it, that’s it...  you’d be gone.Joi finally smiles.JOIYes.  Like a real girl.  K faces her.JOI (cont'd)Please.  I want this.  I can’t do it myself.A pause.  K keys into the central console.  WORDS FLOAT in the air:  “UPDATE EDITION:  JOI.” 71.Joi nods to K.  He presses the console and --JOI CUTS OUT.  A WHIR.  JOI’S VOICE comes from the EMANATOR.JOI (V.O.)Break the antenna.K SNAPS open the casing on the emanator.  BREAKS OFF a piece inside.  The antenna.JOI (V.O.)Take me off the console.(he hesitates)Do it.THE WALLACE LOGO FLOATS in the air.  “DELETE THIS CUSTOMER EXPERIENCE?” is written underneath.K selects.  YES.A WARNING CHIMES:  “ALL PREVIOUSLY SAVED PROGRESS AND USER FILES WILL BE LOST.”  The word “LOST” BLINKS.K looks to the emanator’s eye.A SINGLE WORD BRIGHTENS ON THE CONSOLE:  DELETECUT TO:INT. LUV’S OFFICE. THAT MOMENT.A MAP OF THE WEST COAST.  Key points lit up.One particular point of interest in LOS ANGELES immediately GOES DARK.ON LUV.  Taking note.  Rising.  Displeased.CUT TO:INT. HALL. REFURB APARTMENT COMPLEX. DAY.In the middle of the bazaar of their complex FIND --K and Joi.  Squatted beside DOC BADGER, the lone resident K greeted to on his way home, in a stall crowded with jury-rigged lab equipment.  An elaborate SCOPE.  A hand-painted sign in SOMALI offers “DOCTOR BADGER’S OFF-WORLD SCREENING.”Badger takes the wooden horse.  Fits it into his SCANNER.He LAUGHS at what he sees.  IN SOMALI ONLY: 72.DOC BADGER(IN SOMALI)Real wood.  You are rich, my friend.  You could buy a real horse with this.  You want a real horse?KI don’t want a real horse.DOC BADGERI can get you one.  Like Wallace shit.  Amazing!KCan you tell where it’s from?DOC BADGERSmells like dirt.  Old dirt.  But the structure is changed.  Old dirt, new change...KRadiation.  From a reactor?Doc Badger shakes his head no.DOC BADGERNo.  More volatile.The SCREEN offers a radiation fingerprint:  Isotopic details.  Age estimate.  The facts registers with K.KMatches a dirty bomb.They look at each other. DOC BADGERThere is only one place that dirty.  Radioactivity that strong.KBut no ones lives there... DOC BADGER(smiling)You ask me where it came from, now I tell you.  So, what else do you want, my friend?  A horse?  A sheep?  Off-world papers!  Whatever you want, Doc Badger can get!CUT TO: 73.INT. K’S SPINNER / PILOTFISH POVA FLYING POV THROUGH THICK, LAMBENT RED DUST.  FOCUSING ON:  A BROKEN STREET LAMP.K (O.S.)Pull back 200 meters.  Hold.THE POV FOLLOWS his instruction.  WIDENS TO REVEAL:A VAST PARKING LOT.  EVEN LARGER CASINOS IN THE DISTANCE.  Erotic statues out of an ancient temple of old.  A PYRAMID.POV WIDENS OUT FURTHER:THE VEGAS SKYLINE.  Recognizable but, like an old stripper, only a shell of debauchery.  The hulked MEGASTRUCTURES are all still there.  Dark.  Empty.  Years of neglect.In their day they were fever dreams of debauchery.  Decades of sandstorms have scoured away the luster and color.  Weeds grow tall in the cracked streets.  A thick DUST coat over it all makes equals of everything.  It hasn’t rained in forever.One CRUMBLED EGYPTIAN-THEMED HOTEL shows evidence of A BOMB BLAST.  Outsized STATUES in ruins around it.  THE PILOTFISH POV registers the radiation levels at SAFE.It picks up on a RED DUST DEVIL, STREAKED WITH BLACK.K (O.S.) (cont’d)Move in right, 15 degrees.  More.  More.  POV SOARS OVER THE EERILY STILL RUINS TO FOLLOW THE WHIRLING DUST.  Homing in on the CLOUD OF DARK MOVEMENT WITHIN.K (O.S.) (cont’d)Stop.  Back 20 meters.  Go to 5.  6.  7.EXT. LAS VEGAS STREET. CITY OUTSKIRTS. AFTERNOON.K reacts.  He has been flying the Spinner’s PILOTFISH like a drone.  Watching its POV on the Spinner’s screen.KHeat analysis.K sees something in the image that strikes him.  A dark cloud.  Joi watches too. K (cont’d)Life.JOIWhat is it? 74.K’s look isn’t reassuring.KWe’ll find out.ON K.  Decision made.  He gets out of his vehicle, parked on the side of a hill.  Down below, few miles away, we see the ruins of a city, lying under a cloud of red dust.He begins to walk.An old warning panel beaten by the wind: WARNING. RADIATION LEVELS INHOSPITABLE can be seen nearby.LOOKING OVER THE SPINNER...  We see K recede into the distance.  Moving toward the city.EXT. STATUARY COURTYARD. AFTERNOON.People once gathered here to take photos and frolic.  All under the eyes of the god-sized STATUES towering above.  Erotically posed and positioned.  Gods making gods.  Now in semi-ruins, beheaded and disarmed.  K is a human speck at their feet.  Dwarfed.  Stepping over cracked and uneven concrete.A plume of red dust beats against K.The wind finally passes.  But when it does K’s eyes LOCK on something overhead that astounds him so much more than the grand ghost city.  Something small.A BEEFlitting about.  It waggles a crooked path to land...ON HIS ARMK is speechless.  He has never seen the like.  He is careful not to move lest he scare it off.The bee takes off anyway.  Flies a deliberate line through the grand statue’s legs.  K follows after it, as...  The BEE joins another.  MORE BEES STILL.  Until the loose cluster rejoins...A SWARM OF THOUSANDS.  THIS was the dark cloud he saw from afar.  They move as one.  Their HUMS together a ROAR.  Circling in waves around an ARTIFICIAL FEEDING SYSTEM.K steps below the vertical FEEDER.  Powered by a solar panel that has recently been SLEEVE-SWIPED clean of dust.K TURNS.  HEARING SOMETHING MELDED WITH THE WIND.  MUSIC. 75.He strains to listen.  The faintest sound of...  A PIANO.He raises his eyes toward the source of the sound.  If it is real at all it seems to come from...A CLASSIC OLD STYLE CASINO HOTELFaded, deep cracks in its foundation, the occasional window blown out.  But still an architectural wonder.EXT. CASINO HOTEL.K crosses the lake-sized FOUNTAIN, long dry and cracked...INT. CASINO LOBBY. AFTERNOON.K enters great glass double doors, reinforced with steel.  Sand piled at the seams.  K takes a single step, and stops short at --Seemingly nothing.  Then we make out what his eyes perceived:  A set of thin, carefully hidden TRIPWIRES across the floor.He carefully steps over.He continues in.  The lobby is long abandoned. A chandelier long since crashed to the lobby floor.K WALKS THROUGH.  Dust motes swirl in the stale air.K passes a MANNEQUIN dressed as a bellman.He SPINS, hearing MOVEMENT.  Seeing no one.  And then...  HE HEARS A PIANO.  THREE NOTES PLAYED somewhere deep inside.INT. CORRIDOR.He moves into the dark.  Following another NOTE’S ECHO.INT. CASINO FLOOR.A huge gambling hall.  A bar.  Behind which is AN ELABORATE PYRAMID SCULPTURE made of EMPTY ALCOHOL BOTTLES.  Someone has been here.  Lived and drank here.K passes old poker tables.  CARDS fanned out on a blackjack table.  Dust on the felt.  He picks up a card.He walks on.  Toward the sound.  MOVES UP A SET OF STAIRS.INT. CIRCULAR BAR.A balcony on the third floor MEZZANINE.  STACKS of priceless paintings against the bar.  There K finds -- 76.A PIANOThe keys open.  K taps a KEY.  The note rings through the airy space.  Makes the current of floating dust vibrate.  At which K notices -- TWO EYES staring at him in the dark --A MANGY DOGIt is, at a glance, the ugliest dog on earth.  Flea bitten and ragged.  But a real, live dog.  It cocks its head at K.ON K.  Utterly awed by this animal.  Homely as it is, it is miraculous to him.  He moves slowly toward it.  Hand out.  Hoping to touch it.  So lost in the discovery, he is completely surprised by -- THE CLICK OF A GUN --MAN’S VOICE (O.S.)“You mightn’t happen to have a piece of cheese about you now, boy?”DECKARD’S ICONIC BLASTERComes out of the SHADOWS half into the LIGHT.  PrecedingRICK DECKARDStrong, tireless.  Seasoned by time and, like teak or copper, far more handsome for the patina.  But also something... cracky about him.  Thoughts obscure, running together.  Enough to keep us guessing if he’s gone touched left alone out here too long...  Or maybe just a calculated way to keep an intruder guessing...K stares down the blaster.  Takes a gamble.K“Treasure Island?”DECKARDHe reads.  That’s good.  Me too.  Notmuch else to do around here at night anymore.  “Many’s the night I’ve dreamed of cheese -- toasted, mostly.”Deckard leads K forward, blaster is fixed on him, keeping a safe distance, as --DECKARD (cont’d)What are you doing here?KI heard the piano. 77.Deckard’s eyes focus, sharp now with the insult of a lie.DECKARDDon’t lie.  It’s rude.(then)You’re a cop.KI’m not trying to bring you in...DECKARDOh yeah.  Then what?KI -- have questions.DECKARDIs that all?KThat’s it.DECKARDOk.  What questions?At which -- BLAM!  DECKARD FIRES!  UNEXPECTED.  DIRTY.K FALLS BACKWARD OVER THE BALCONY --LOST OVER THE EDGE --A CRASH.Deckard Looks over the balcony.  No sign.INT. CIRCULAR STAIRCASE.DECKARDWalks down the stairs after him slowly.  Confident.  The dog obediently follows.INT. LOBBY.K is gone.  Survived the jump.  Leaving only blood.  Deckard calmly tracks K’s movements in the dust.DECKARDWait here.The dog abides.  Waits.  As Deckard hunts. 78.INT. WIDE CORRIDOR.K stops, leans against a wall for support -- sees Deckard in the distance --K turns.  Not seeing the TRIPWIRE strung across the ground --The wire catches -- CLICK! -- he MOVES just ahead of --BOOM!  THE FIRST OF FOUR EXPLOSIONS IN SEQUENCE.BOOM!  BOOM!  BOOM!INT. THEATRE ENTRANCE AREA.Deckard scans through the plume of DUST.  Sees...A DOOR CLOSE.BY AN OLD LOUNGE.  A tattered SIGN for the last SHOW that played there, curiously called “THE HOMAGE.”INT. THEATRE ENTRANCE AREA.ON DECKARD.  He THROWS A SWITCH in an electrical panel.  Power HUMS through ancient wire.INT. “THE HOMAGE” LOUNGE AND THEATER.Great acts once played here, back when there was leisure.KIs hiding.  Forcing his breath shallow and quiet.  LIGHTS SNAP ON.  WHIRLING, FUNHOUSE FLASHING.  Making it hard to see.  MUSIC starts.  Loud, thrumming.ON THE DARK STAGE...  A HOLOGRAM ILLUMINES THE CENTER.ELVIS.  Brought back to life.  Performing “Suspicious Minds” again on the Vegas stage.A glitchy but inspired holographic resurrection.  We look through Elvis’ BODY wrought in LIGHT to see --K crosses an open aisle.  Staring through.  Disoriented.  He looks at Elvis walking further downstage --K hides behind a sofa, looks to the door.  No sign of Deckard. When --A SHOT FIRES -- EXPLODING THE SEAT BEHIND K -- nearly taking his head off.  K ducks down to see -- 79.DECKARDStalking him through the MAZE OF BOOTHS AND TABLES AND STAGE LIGHTING.  Gun lose and comfortable in his hand, as --ONSTAGEElvis begins a MEDLEY.  His hologram begins to falter.  The garish show begins to SKIP and FLICKER like a worn VHS -- until the system unravels -- and Elvis is joined by MORE HOLOGRAPHIC LAS VEGAS ICONS:  CHORUS GIRLS and MAGICIAN’S TIGERS.  LIBERACE.  MARILYN MONROE.  REDD FOXX.  ACROBATS.  All resurrected in LIGHT.  A nostalgia act in chaos.K loses his bearings in the confusion.  As the show spins into a tumult.  Everything it’s got.  Classic icons and icons to be fill the space.  CIRCUS ELEPHANTS spring to life.  LASER LIGHTS blind and flash.Deckard’s eye is keen.  The movements of his blaster exact.  He looks behind a table.  Nothing.Around a bar.  Nothing.He steps through the FLICKERING ELVIS to see --K’S BLOOD ON THE FLOOR.WITH K.  Crawling.  He stops as a MAGICIAN’S TIGER approaches.DECKARDSees the tiger cross.  Heads toward it, gun raised when -- THE LIGHTS CUT OUT -- then instantly FLASHING BRIGHT AGAIN -- HOLOGRAMS momentarily BLINDING Deckard --K LEAPS THROUGH THE HOLOGRAMS.  Knocks Deckard down.KNOCKS his blaster away.  Letting his strength out.  Deckard swings.  K takes one hit.  Catches the second.  THROWS Deckard back.  Deckard has the meanness of experience but none of K’s speed.KI don’t want to hurt you.DECKARDOkay.Deckard PUNCHES K -- BAM -- and again...  Again...  K letting him.  Taking the punches and deliberately not hitting back.Deckard keeps coming at him -- heaving -- K steeling himself for more, when -- Deckard hesitates. 80.Holds up a hand.  Wait a second.  K pauses.  We notice the MUSIC just changed.  Returned from the chaos of buggy software back to something beautiful.DECKARD (cont’d)I like this song.ONSTAGE Elvis sings a solo.  “Can’t Help Falling In Love.”Deckard does something odd in response:  He lowers his hands.A bizarre pause in the fight as Deckard stops to listen to Elvis’ chorus...  “Some things are meant to be...”Something about it alters his fragile mood.  Suddenly no longer in the mood for pain.DECKARD (cont’d)We can keep at it.  Or we can get a drink.A beat.  K has no idea what to make of Deckard.  He picks up the dropped blaster.KI’d take a drink.DECKARDGood answer.And he steps out.  Off K...  following after...  the dog behind them...  and Elvis still singing, we --CUT TO:INT. K’S APARTMENT COMPLEX STAIRS. NIGHT.Luv goes up the stairs, searching.INT. K’S APARTMENT. NIGHT.CLOSE ON:  THE DOOR.  TEARING OPEN.  BRUTE FORCE.LUVEnters.  Shuts the now broken door behind her.  Scans the small space quickly.  Ascertaining it all at a glance.Her eye lands on...  Sapper’s glasses.  Then --K’S BOOK.  She studies its cover.Then finds THE BOX the emanator came it.  It makes her smile, as if she knows everything about him.  The smile drops at finding -- THE BROKEN ANTENNA beside it. 81.EXT. SKIES ABOVE LOS ANGELES. NIGHT.LUV’S SPINNER cuts through the eternal sky traffic toward --INT. POLICE STATION. NIGHT.LUV cuts through the crush of grime and crime into --INT. JOSHI’S OFFICE. POLICE STATION. NIGHT.Joshi at her desk, the lights dim giving visual precedence to THE CITY MAP she has UPSCREEN:  Real time feed of current police activity.  The lights go abruptly BRIGHT.An unfamiliar woman has just stepped into Joshi’s office with presumed intimacy, turned the lights on.  LUV.LUVToo dark in here.Joshi sits back in her chair.  Her silence a challenge to this stranger.LUV (cont’d)Your pet.  I liked him.  He’s a good boy.  Where is he?Luv steps closer.  Joshi nods knowingly.  Saw this coming.  She shuts her SCREEN down.JOSHISo you’re who’s looking.Luv gives a polite bow.  And just like that, all cards are on the table.JOSHI (cont’d)No idea.  He’s off duty, reward for a job well done.  Check around.LUVI checked.  Anywhere a good boy might go.Joshi pours a short one and takes it ahead of what’s coming.  As usual she sees too many steps ahead and knows her mind about where it goes.  And then --JOSHIYou’re too late.  It’s gone.  He destroyed it.  Everything about it.  Except a box of bones you already took.  Which I’ll wager wasn’t enough.  Here you are. 82.Luv’s perfect face twists.  Lightning quick, Luv snatches Joshi at the hand holding the glass.  Crushes it.LUVYou tiny thing.  In the face of the fabulous new your only thought is to kill it.   For fear of great change.  You can’t hold the tide with a broom.JOSHI(defiant, ready)Except that I did.Luv squeezes her dead hand even tighter.  Cruelly.LUVWhere is he?Joshi is in blinding pain.  Channels it into silence.LUV (cont’d)You’re so sure.  Because he told you.  Because we never lie?  I’m going to tell Mister Wallace you tried to shoot me first.  That’s why I had to kill you.JOSHIYou do what you got.LUV“Madam.”Luv doesn’t dwell.  Simply STABS A BLADE into Joshi’s chest -- straight through the breast bone.  Rupturing her heart.  Blood might bouquet out the back with the force of it.Joshi slides to the floor.  Gone before she hits.Luv steps over her.  Slides in front of her computer.  Waves.  The console doesn’t respond.  She SIGHS.  Reaches down...Lift’s Joshi’s head up at an awkward angle.  Positions it in front of the console.  A light SCANS Joshi’s face.The interface recognizes Joshi.  OPENS.  Luv DROPS Joshi.LUV (cont’d)Location Officer K D6-3.7.Luv stares at the default MAP of all active police vehicles.  Clusters throughout the city.  The expected jurisdiction. No traces of K’s vehicle.  She search for general aerial activity over Los Angeles...  Nothing strikes her attention...  She widens out... over California and Nevada... then sees: 83.ONE SPINNER way off the map.  Luv traces it with a finger.  Sees its location...  A FORBIDDEN AREA WITH RADIATIONS WARNINGS...  And we --CUT TO:INT. BAR. PENTHOUSE FLOOR SUITE. DUSK.20,000 square feet of luxury. DECKARD’s home.  More priceless paintings, sculptures strewn about carelessly.  Deckard and K walk toward the bar.KNice place you got.DECKARDIt’s okay.  See that?  Know how much that’s worth?He points to one of many priceless paintings hanging.  Picasso’s “Boy Leading a Horse.”DECKARD (cont’d)Nothing.  Whole town was something, one time.  Forget your troubles, see a show.  Gamble a little, win some money, lose some money.  They even make money look like candy.  One little dirty bomb spoils everything.  Do you like whiskey?  I have a million bottles of whiskey.He pours some from his glass onto the floor.  The mangy dog pads over and laps it up at his feet.KIs it real?DECKARDI don’t know.  Ask him.Deckard sits down with his drink.  K sitting opposite him.  He waits, lets Deckard take the lead.DECKARD (cont’d)Got a name.KOfficer KD6-DECKARDThat’s not a name.  That’s a serial number. 84.K(then)Ok.  Jo.DECKARDWhat do you want, Jo?KI want to ask you some questions.DECKARDLike what?Silence.KWhat was her name?DECKARDWho?KThe mother of your child.  What was she like?  Did you live here together?DECKARDToo many questions.  I had your job once. Was good at it.  Point and shoot.  Paint by number.KIt was simpler then.DECKARDWhy make it complicated?KWhy don’t you answer the question?DECKARDWhat question?KDidn’t figure you as one for bullshit -- what’s her name?DECKARDRachael.  Her name was Rachael.KWhat happened to the kid?  Did you take it to the orphanage? 85.DECKARDI was long gone by then.  There’s always someone come looking.  They’d never stop. Anything I knew’d just light a path.KYou didn’t even meet your own kid.  Why?DECKARDBecause that was the plan.  I showed them how to scramble the records, cover their tracks.  Everyone had a part.  Mine was to leave.  Then came the Blackout and paved over everything.  I couldn’t have found the child if I tried.KDid you want to?DECKARDNot really.KWhy not?DECKARDBecause I didn’t want our child found, taken apart, dissected.(then)Sometimes to love someone you’ve got to be a stranger.Deckard storms off.K alone raises his glass.KTo strangers.FADE TO BLACK.INT. PENTHOUSE FLOOR SUITE. DAWN.K turns on a HOLO JUKEBOX.  Sinatra sings in miniature.K looks at the sunrise, a wide panoramic view of the desert.  The sky is CLEAR of dust and -- for the first time in his life -- K sees a horizon.He sees Rachael’s photograph beside him, on a small table.  Carved wooden sculptures beside it.  Carved by the same hand as his horse.   86.EXT. LAS VEGAS STRIP. DAWN.THE SUN just begins to peak from behind a PYRAMID HOTEL, illuminating the grand MEGASTRUCTURE VISTA.  And cresting over the diagonal line of the pyramid... we just begin to make out...LUV’S SPINNER.  FLANKED BY FIVE DARK SPINNERS.They come down the strip.  Over the old traffic lights.  Then disperse, like wolves encircling a prey.A PILOTFISH DEPLOYS.It floats gently.  Quiet as a computer fan.  It moves down the boulevard.  Seeking.  Then...It locks in on something.  Begins a straight line for...THE CASINOINT. LUV’S SPINNER. DAWN.As Luv closes in, A PROMPT comes UPSCREEN.ON IT:  THE PILOTFISH’S VIEW of Deckard’s penthouse.  Two bodies within.  “TARGET LOCKED.  DETONATE?”LUVNo.  Hold.UPSCREEN:  “CERTAIN?”LUV (cont’d)Certain.UPSCREEN:  “CERTAIN?”LUV (cont’d)Quite.She banks the Spinner around the hotel, as --EXT. TERRACE. PENTHOUSE FLOOR SUITE. DAWN.K looks at sunrise, lying on a patio chair, freezing.  A wide panoramic view of the desert.  The sky is CLEAR of dust and -- for the first time in his life -- K sees a horizon.  Inside we see...INT. PENTHOUSE FLOOR SUITE. DAWN.Joi wandering alone in the penthouse by large HYDROPONIC GROWERS.  Taking it all in.  Wooden sculptures amongst books.  Joi looks at them. 87.The dog appears from one of the doors.  Pants at K.  K smiles at it.The dog WHINES.  Suddenly agitated.  Suddenly turning at --A PIERCING ALARM.  K rises, turns off the emanator.  Joi is gone, as --Deckard appears.  Checks his security system.  Scans the open sky with BINOCULARS.  Sees NOTHING.DECKARDWho’d you bring?KNo one.DECKARDThey know you’re here.KI came alone.  No one’s following.Deckard spots a metallic GLIMMER floating level with them.DECKARDThere’s always someone come.Then K sees something in the distance...  a movement between two buildings...  He hears engines approaching.K turns toward Deckard...  Who is gone.INT. STAIRWELL. MOMENTS LATER.Deckard runs downstairs.INT. CORRIDOR. FLOOR BELOW.Deckard runs on.  Followed by the dog.K appears at the end of the corridor, running after Deckard.  Quickly catching up.  Sees Deckard slip through A DOOR.INT. PENTHOUSE SUITE. FLOOR BELOW.Deckard locks the door behind him and his dog, quickly activates the power in an EMPTY penthouse.  An ENGINE begins to whir and cough and come alive.  By an OPEN BAY WINDOW, covered with plastic.  AN ANCIENT SPINNER.Deckard moves for the Spinner, as --K EXPLODES through the wall -- coming for him, as -- 88.INT. LUV’S SPINNER.ON LUV.  Waiting.  Tracking Deckard’s movement within.  Before he can reach his Spinner --LUVNow.EXT. PENTHOUSE. CASINO HOTEL.THE HOVERING MISSILE ENGAGES.  IT ZEROES IN ON THE OPEN WINDOW AND --INT. PENTHOUSE SUITE. FLOOR BELOW.K throws himself in front of Deckard as --BOOM!  DECKARD’S SPINNER EXPLODES!The world BLURS.  K is ROCKED by the blast --K SMASHES into the wall.K manages to sit up.  Wind and soot in his face as --ONE OF THE DARK SPINNERS LANDS INSIDE THE PENTHOUSE.DARK FIGURES get out and DRAG UNCONSCIOUS DECKARD toward the Spinner.  K tries to move for Deckard -- but his abdomen has been PUNCTURED by debris.Deckard fights his captors brutally, but they are too many.Fighting pain, K staggers to his feet.Is GRABBED from behind.K BREAKS the hand that clasped him and DROPS its owner.  Disarms with MAN lugging Deckard and SHOOTS HIM AND ONE MORE.The team doesn’t last long against K unleashed.  Until --A FOOT KICKS K -- BONES FRAGMENTING IN HIS CHEST.  ANOTHER KICK.  K SLAMS INTO THE GROUND WITH BRUTAL FORCE.LUVSteps toward K.  Calm, amused, a successful acquisition assumed.LUVBad dog.K feels his wounds.  Expends all his remaining, dwindling strength to stagger toward Deckard. 89.Luv stops to watch K’s slow progress.  Curious.  KICKS him again with her strange strength.  K LANDS HARD.  Bone snaps.THE EMANATOR GOES FLYING.K is on his back -- breath short -- then CUT OFF as LUV STOMPS HIS CHEST.  His insides rupture.Luv steps close.  Ready to end him when --JOI (O.S.)STOP!JOI HAS PROJECTEDEnough of a distraction that Luv for the moment leaves K.  Steps over ahead of K to...  The emanator.Luv sees K reach and crawl for it.  Trying to reach it before she does.Luv locks eyes with Joi.  Raises a foot.K shakes his head.  Don’t.Luv thrills at the chance to administer such a unique pain.LUVI do hope you’re satisfied with our product.K and Joi meet eyes.  Breath held.  She knows what’s coming.  Spends her last moment looking at K, loving him.Joi reaches a hand toward his.  Just enough time to say it.JOII love y--And Luv CRUSHES the emanator with her boot.Joi dissipates.  Is gone forever.ON K.  Destroyed.  Whatever she was, digital fantasy or evolved personality, he loved her as true.LUVBad.LUV KICKS HIS FACE.The world goes BLACK.ON K’S EYE.  Flickering OPEN. 90.An EXPLOSION of DUST as a Spinner takes off.  With Deckard.K’S EYE REFLECTS LUV’S SPINNER...  AS IT RISES OUT THE WINDOW...  AND FLIES AWAY.  GONE.ON K.  On the ground.  Near Deckard’s dropped blaster.  A wind blows.  Deckard’s Dog watches the Spinners leave.  It sits at K’s feet.  Licks his hand.K only stares at the crushed emanator.  His eye closes.FADE TO BLACK.INT. PENTHOUSE SUITE. NIGHT. TIME PASSING.Night comes.  The wind blows sharp flecks of dust.  Death creeping in.  Nearly there.A thin SOUND in the distance.  FOOTSTEPS.  Feet pass Deckard’s blaster covered in ash.  A beat.THEN K IS DRAGGED BACKWARDS ACROSS THE FLOOR.FADE TO BLACK.CLOSE ON:  A HORSE’S FACE.  LIPS PARTED, NOSTRILS FLARED IN PERMANENT ANGUISH.CUT TO:EXT. DESERT. NIGHT.CLOSE ON:  FIRELIGHT.  SMOKE.  A CRACKLE AND SPARK.K’S EYES FLUTTER OPEN.  FEVERED AND AFRAID.  HE SEES A CAMPFIRE BURNING...SENSES A HUMAN PRESENCE BESIDE HIM.  HIS EYES CLOSE AGAIN...FADE TO BLACK.FADE IN AGAIN AS:EXT. DESERT. NIGHT.The campfire has died down.  K SHIVERS with fever.  His eyes open to see -- A GROUP sitting beside the fire...  Amongst them --MARIETTEGenuine concern on her face.  She pets the Dog’s head admiringly. 91.MARIETTEI sewed you some.  If you need to die, this is a good place for it.K looks like he wants to.  He looks into the FIRE.Consciousness slips away again as he watches the EMBERS float skyward in a fairy’s flight.  Streaks of light...The embers soar into the NIGHT SKY...  Merging with the STARS...  which now begin to MOVE...LIKE COMET TRAILS...  STREAKING THE SKY...MATCH CUT TO:K’S POV OF:  STREAMS OF COLORFUL LIGHTS SOARING BY.ABOVE...  BELOW...  LIKE THOUSANDS OF HEADLIGHTS COMING AT HIM ON A HIGHWAY...  A FEVER DREAM OF FLIGHT THROUGH THE STARS...  OR OVER A CITY...  WHICH TAKES SHAPE BELOW US...  SPINNERS FLYING THROUGH THE RIOT OF COLOR AND LIGHT...CUT TO:INT. PRIVATE OFFICE. WALLACE TOWER. NIGHT.CLOSE ON:  DECKARD.  He wakes.Find himself in Wallace’s private space.  Neither bound nor shackled.  He was sleeping on a luxurious armchair.  A cocktail cart seems to have been left out just for him, liquor and glass waiting.On a coffee table in front of him, a round object the size of a large grapefruit wrapped in a ragged piece of clothing.A SUDDEN SPLASH BEHIND HIM --From the POOL.  A FISH leaps, falls back in with a splash.  A Barracuda flies over the water, following the fish.  A strange sight.NIANDER WALLACE (O.S.)Always jumping that one, never a thought what to do if he made land.  All the courage in the world cannot alter fact.Three Barracudas slowly comes out of the shadow, followed by...  Niander Wallace.NIANDER WALLACE (cont’d)I have wanted to meet you for so long.The Barracuda revolves around Deckard, taking him in. 92.Wallace sits right beside Deckard.  Then pulls off the halo on the back of his head.  Wallace takes Deckard’s hand in his.  Presses it.  Strange intimacy. NIANDER WALLACE (cont’d)You are a window to me, Mister Deckard.  Where you’ve been.  All you are.Wallace takes the wrapped object, puts it on his lap and unwraps it, slowly.NIANDER WALLACE (cont’d)I learn something new from everyone.  Do you want to know what I learned from you?  It is possible to be very clever without even being smart.Wallace reveals the object, A HUMAN SKULL.  RACHAEL’S SKULL. NIANDER WALLACE (cont’d)I had the lock.  I found the key.  Yet the pins do not align.  The door remains locked.  The answer to every problem just within.  I need the specimen to reach it, Mister Deckard.  The child.  I need the child.Seeing the skull, Deckard’s eyes burn into him.  Full of hate.NIANDER WALLACE (cont’d)Lock and key...  You and she...  My Archangel.  To teach them all to fly.Luv appears in the darkness.  She was listening all along.  A dark angel.  Wallace touches the skull.NIANDER WALLACE (cont’d)“And God remembered Rachael.  And heeded her.  And opened her womb.”A HOLO PLAYS:  OF THE FIRST MEETING BETWEEN DECKARD AND RACHAEL.  THE VOIGHT-KAMPFF.  ONLY THIS TIME IT IS NOT JUST RACHAEL’S EYE IN CLOSE UP, BUT A SECOND CAMERA CAPTURE OF THE ENTIRE EVENT.  BOTH DECKARD AND RACHAEL IN FULL.The decades old encounter plays before them as --NIANDER WALLACE (cont’d)Is it the same, now, as then?  The moment you met her.  All these years you looked back on that day, drunk on the memory of its perfection... how shiny her lips... how instant your connection.   93.\n",
            "(MORE)Did it never occur to you that was why you were summoned in the first place?  Designed to do nothing short of fall for her right then and there.  All to make that single perfect... specimen.THE HOLO PLAYBACK OF DECKARD AND RACHAEL FREEZES, DISSIPATES.Deckard seethes.  Fights the insidious logic.  To his last breath, which may be soon, he won’t accept the possibility or its implications.NIANDER WALLACE (cont’d)That is, if you were designed.  Love... or mathematical precision...  Yes?...  No?...  You are a window to me.The question lingers.  What everyone wants to know.  Except one man.DECKARDI know what’s real.Wallace laughs.NIANDER WALLACEVery clever to keep yourself empty of information.  And all it cost you was everything.  But.  You can still help me.  I can see -- deliberate spaces in your mind, engrammic lacunae, faces blocked.  You had help in the hiding.  Where did they go?  You know something.  Help me... and good things can come to you.DECKARDYou don’t have children, do you?NIANDER WALLACEI have millions.Deckard shakes his head.  Laughs.NIANDER WALLACE (cont’d)You think I’ve nothing to offer but pain.  Only you love pain.  Pain reminds you the joy you felt was real.  Good.  Yes.  More joy then.Wallace gestures to Luv.  Who comes around behind Deckard.  At which Deckard hears...  HEELS on the floor.  Footsteps coming. 94.NIANDER WALLACE (cont’d)NIANDER WALLACE (cont’d)Do not be afraid.A WOMAN steps across the path over the water.  The woman steps into the light.  Deckard sees...RACHAELPrecisely as when he met her.  As she was in the holo.  Down to the lashes.  Flesh and blood.  Young again.  Remade.  Authentic.  Inauthentic.ON DECKARD.  Breath gone.  Wallace presents his offer.NIANDER WALLACE (cont’d)An Angel.  Made again.  For you.Deckard fights the urge, can’t help but look.  A perfect recreation of all he ever wanted is right in front of him.  In the flesh.  Instantly filled with longing.  With disgust.Rachael steps close to Deckard.  Lifts his chin.  So they are face to face.  We are transported back decades in seconds.RACHAELDid you miss me?Deckard says nothing.RACHAEL (cont’d)Don’t you love me?The mirage utterly real and convincing.  Deckard strains against pain of loss.  Strains not to lose himself in a memory of lost joy...  We fear he is tempted, when --He tears his face from her hand.  Rejecting the simulacrum.DECKARDHer eyes were green.And he walks away from her, standing now at the edge of the darkness. ON WALLACE.  Cold.  Nods to Luv.  Luv understands.ON DECKARD.  Behind him, Luv raises her gun and shoots Rachael straight in the head.  Deckard startles.  Rachael falls brutally on the floor.  The gunshot echoes forever. ON Deckard.  He stares at Wallace, a murder.ON WALLACE. 95.NIANDER WALLACEOffworld I have everything I need to make you talk.  You don’t know what pain is yet.  You will learn.Luv grins -- dark work she will enjoy, and --CUT TO:INT. ABANDONED BASEMENT. NIGHT.ON K.  HE STARTLES AWAKE.  HIS EYES SCAN AROUND IN FEAR.  GO WIDE WITH SUDDEN RECOGNITION OF INTENSE PAIN.He is in a dark, high ceilinged space.  Eerily devoid of the bustle we’ve seen in other abandoned spaces.  Just the quiet drip of efflorescent laden water weeping through concrete.  He is sweating.  Shaking with the fever of deep set infection.  His broken body manages to respond as he forces it to rise.He looks to his CLENCHED FIST.  Opens it.  He clasps a broken shard of the emanator.  All that’s left of Joi.  Shining plastic reflecting firelight.  He hears WHISPERS, MOVEMENT --A SET OF REFLECTIVE EYES PEER AT K IN THE DARK.  MARIETTE. THE 2 DOXIES FROM THE BAR AND DECKARD’S MANGY DOG STILL BESIDE HER.Mariette looks to K with new feeling.  Trusting.  Wanting him to trust her.  She stands aside, to REVEAL --MARIETTE’S HANDLER FROM THE BARShe walks toward K.  She wears the same DARK GLASSES even here.  In the dark.This is FREYSA.She speaks with the calm heavenbound confidence of the eerily devout.  The unique patois of a colony we will never visit.FREYSAYou must want I look up and to the left.She lifts up her dark glasses to REVEAL HER RIGHT EYE SOCKET IS EMPTY.FREYSA (cont’d)Runners heeling me a long time for this.  Make a fine bit of bonus, would my eye, would it weren’t a long long gone. 96.Only now can we recognize her as the SAME WOMAN who was in the old PHOTO of a woman holding a child by the TREE.KI know you.MARIETTEThis is Freysa.  She fought with Sapper on Calantha.K cocks his head at her, seeing the pieces fit.  Water drips somewhere near.KYou were there.  At Sapper’s farm.  You helped them hide the child.Freysa beams, beatific and moved.  Looks down at her arms.FREYSAOhhhh, I was there.  I saw a miracle delivered.  Held a pinchy perfect face crying up at me, mad as thunder.She takes the PHOTO.  Looks at it.  She and the child.  She circles K as she tells it.  Telling it like legend.FREYSA (cont’d)I knew, it all changes now.  The first drop of rain.  Something to die for...K understands he’s talking to the only living witness to his own birth.  Wants to know -- everything.KWhere you with her?  Rachael.  When the baby came.FREYSA(nods)I saw baby come.  I held Mama as she die.  She die good.  She die feeling it.  Daddy already flew gone before he could see, leaving a puzzle behind.  We each hide a piece so no one mind ever know enough to make the map.  Daddy least of all.  Why Sapper let you kill him, keep his piece.(off K, enthralled)Deckard wanted it keep quiet.  I fail him on that.  Told anyone with ears to hear.  Of a baby come from one of us.  Some listen too.More FOOTSTEPS come toward them. 97.FREYSA (cont’d)That baby meant we was more than creations.  We was creation.   More than just slaves.  If a baby can come from one of us...  we are our own masters.MARIETTE“More human than humans.”KWhat about Deckard?  They’ll kill him.FREYSAHe don’t matter.Freysa takes K’s gun.  DECKARD’S BLASTER.  She presses the barrel to her own chest.  Presses his hand over the trigger.FREYSA (cont’d)Deckard, Sapper... me, you... our lives nothing next to a storm coming.As if set free by her acknowledgement, the shadows suddenly SPARKLE with glinting REFLECTIVE RETINAE.  DOZENS OF EYES.FREYSA (cont’d)Some listen too.  Here we are.  An army now.In the shadows are more Replicants... hiding... allied.  Her silent, slithering army.  A collection of those awakened to a dream.  We can sense their dissatisfaction like we can their number.  Both vast.  The shadow of the coming, violent storm.FREYSA (cont’d)Go on.  I not so afraid to die.  Done right, dying the most human thing we do.K lowers the blaster.KI found Deckard.  I led Wallace to him.FREYSADon’t pay no mind on that.  He always wanted to die for his own.  Never had the luck.  Officer did him a favor.K can’t live with that.FREYSA (cont’d)Deckard only want his baby stay safe.  And she will.  I wish I could find her...  I show her unto the world.  And she lead an army! 98.Her eyes sparkle with the future she sees.But K is focused only on one word.  He feels it like a bullet.KShe?Freysa nods, confused by his confusion on the point.FREYSACourse.  Rachael have a daughter.  A baby girl.An infinite beat.  Time shatters.  Gravity upends.K shakes his head.  No.FREYSA (cont’d)With my own eye.  I see her come, I dress her in blue when time she go.KNo.  A girl died.  It was a boy you hid.Freysa shakes her head knowingly.FREYSAJust a piece a puzzle.A wave of nausea rocks K.  The crushing realization slowly taking root... eating away at his new soul...He was wrong about who he is.ON K.  At the moment he sees it.  The connection forming.INSERT CUT:  ANA.  STARING, CONFUSED, MOVED BY WHAT SHE SEES IN K’S MEMORY.  A MOMENT OF RECOGNITION.ANANo one invented that.  It was a real moment.  Someone lived this.INSERT CUT:  THE DENABASE SCREEN.  THE TWO COPIES.  THE GHOST AND THE REAL.DECKARD (V.O.)I showed them how to scramble the records, cover their tracks. INSERT CUT:  THE CHILD WITH THE HORSE IN FRONT OF THE FIERY FURNACE.  CHIN SET, DETERMINED.INSERT CUT:  ON ANA.  LOOKING AT K. 99.ANAThere is a bit of every artist in their work...BACK ON K.  RIVEN.  THE TRUTH REVEALED.  THE CASE SOLVED AT HIS OWN EXPENSE.  IT WAS NEVER HIM AT ALL.Something inside K breaks.  Freysa can see his pain.  And understands.FREYSAYou imagine it was you?  Ohhhh...  You did, you did.  We all wish it was us.  That’s why we believe.ON K -- SHAKING -- SHATTERED -- WE MOVE --TO WHITE.EXT. PEDESTRIAN RAMP. NIGHT.CLOSE ON K.  BLINDING LIGHT BOUNCES OFF HIM.He stands in the FLOODLIGHTS, looking up at something PAINFULLY BRIGHT high and huge in front of him.  He is in a fog.  Soultired.  No longer connected to physical pain.REVEAL:  ON THE NEXT BUILDING, 30 STORIES HIGH, A 120 FOOT VERSION OF JOI LOOKS DOWN AT THE CITY.  AN ADVERTISEMENT.  LOUNGING RECUMBENT, ELBOW BENT TO PROP HER HEAD.K is dwarfed by the enormity of her.  A man standing before the sun.  He stares up at her like she was a holy site.“JOI” sees him down below, begins to vamp and twirl.  An interactive ad.  Immediately selling.  Everything about her a vulgar exaggeration.  Her voice heard above the city din:“JOI”Hello, Handsome.  What a day, hmmm?K looks up to her, eyes full of longing and need.  Sees only the “dead leaf echo” of his Joi.  Charmless and generic.K searches her face for an answer.  Can only see THROUGH it.“JOI” (cont’d)You look lonely.  I can fix that.She gives a crass laugh.  K stares and stares.  Desperate to find any spark of the woman he loves... praying some part of her is still in the network, still extant... 100.“JOI” (cont’d)Aww...(leaning down)You look like a good Joe.The NAME goes through K like an arrow.  Joe?  Jo?  His mind fills with doubt and hope and doubt again.  Was it all part of her program?  Was she ever real?No answers from “Joi.”  Only a knowing wink and her mannequin smile as she looks back out on the city.  Selling herself to the world.CLOSE ON K.  His eyes close.  As if saying goodbye.  To her.  To everything he learned from her to dream and hope for.His eyes open on the sky as lightning kindles.  A storm.  A decision made.He fingers DECKARD’S BLASTER.  And we --CUT TO:EXT. WALLACE TOWER. NIGHT.A WALLACE CORP TRANSPORT VAN LIFTS OFF from the platform.  TWO DARK, SLEEK SPINNERS lift off after and follow after.A moment, then...  K’S SPINNER’S LIGHTS COME ON.  Waiting in the wings, barely noticeable.  It follows after --EXT. SKIES ABOVE LOS ANGELES. NIGHT.THE TRANSPORT VAN flies through the FOG and WET SNOW.  Flanked by THE TWO DARK SPINNERS.The caravan veers off the main traffic artery.  Running along the COASTLINE.  BELOW IS...THE SEPULVEDA SEA WALLWhere the risen ocean meets city.  Stretching for MILES.  DENSE FOG spills over like a waterfall.EXT. ABOVE THE SEA WALL.The caravan cuts through the thick FOG.  Keeps low to the rough, stormy surface.  Sprayed by angry waves.INT. TRANSPORT VAN.Condensation streaks the glass.  Luv scans the skies around them.  Eyes missing nothing.  Satisfied, she fixes her unblinking eyes on -- 101.DECKARD.  Handcuffed in place.DECKARDWhere are we going?LUVHome.Deckard’s gaze drifts up... to watch the rain and snow stream across the glass... a moment’s peace found there before the pain promised to follow, when --A LIGHT SHIMMERS through he fog.  Barely visible.Then -- visible.  A PILOTFISH.  COMING FOR THEM FAST -- FLASHING PAST AND VEERING AT THE LAST MOMENT, MISSING THEM --THEN SLAMMING INTO THE SPINNER ESCORT.  IT EXPLODES INSTANTLY!  DEBRIS SPARKING AGAINST THE TRANSPORT.GUN SHOTS WEB THE WINDSHIELD AND KILL THE PILOT.He slumps, dead.  The CO-PILOT grabs the controls.Luv stands, searches the sky, as --THE SECOND SPINNER ESCORT TAKES FIRE!  Its engine ruptures and it SPIRALS.  AN EXPLOSION QUICKLY EXTINGUISHED BY A FLOOD OF OCEAN SPILLING OVER AND ENGULFING IT.Deckard looks out.  Sees --K’S SPINNER BULLET PAST.  Disappearing into the mist.Luv quickly assesses the damage.  Orders the Co-Pilot:LUV (cont’d)Take us back.Co-Pilot BANKS the Transport.  When out of nowhere --WHAM!  K’s Spinner SMASHES into them, from underneath.  Disappears in the fog again.The Transport’s engine fails -- losing altitude -- SMOKE BILLOWS off as it descends.  LUV RAGES.Co-Pilot fights the controls to level them off -- but cannot stop their descent.  At which they see --THE SEA WALLIt looms large as they drop toward it. 102.Deckard watches their descent from his seat as --THEY CRASH AT THE BASE OF THE SEA WALL!  A WALL OF OCEAN WATER rushes over the glass roof.EXT. SEPULVEDA SEA WALL.ON THE TRANSPORTPerched unsteadily at the sea wall’s sloped base.  A violent WAVE BASHES over it.INT. TRANSPORT VAN.LUVGet us up.Co-Pilot works the controls.  With effort the Transport engines come alive, threatening to LIFT, when --WAVES COME SMASHING DOWN OVER THE VEHICLE.Luv opens the door, drawing her weapon.BLAM!  A BULLET PUNCTURES THE WINDSHIELD.  CO-PILOT’S HEAD SNAPS BACK, THEN SLUMPS.DECKARDLooks up.  Light suddenly streams on his face.ON KBacklit and FIRING as he comes.  Heedless of his exposure.Luv holds her position until -- SHE FIRES AT K --K FIRES -- HITS LUV -- WHO FLIES BACK WITH THE IMPACT.ON KComing for Deckard.  Even as Deckard watches the BLOOD blossom on K’s chest.  They meet eyes, when --LUV CHARGES K LIKE A TRAIN.  TACKLES HIM.  They tumble like lovers.  Luv destroys what’s left of K’s shoulder, when --A CRUSHING WAVE POUNDS THE TRANSPORT AGAINST THE SEA WALL.  WATER FILLS THE VEHICLE.K AND LUVCrush together against the shattered roof to spill out onto -- 103.EXT. SEPULVEDA SEA WALL.K and Luv struggle to their feet, battered by savage waves -- the same waves that carry the Transport further out into the water with each impact.Luv focuses her rage to a single point:  K.  She throws herself atop him.  A wild, crazed thing, sent from the pit.K’s fist connects with, digs into the soft flesh of her throat with a pulsing, drawn out CRAAAAAAACK.Luv only grins -- as if proud he found the strength.  Then -- A KICK to destroy his ribs sends him backwards, as --INT. TRANSPORT VAN.The Transport LURCHES.  Water floods in.Deckard struggles to free his still cuffed hand --A colossal wave CRASHES over the Transport, tipping it --EXT. SEPULVEDA SEA WALL.K and Luv pause to see the Transport carried out to sea -- and begin to SINK.  Luv wastes no more time.HER KNIFE SINGSK dodges it -- blocks it -- grabs it by the blade -- not seeing --HER SECOND KNIFEThe blade slips out of K’s gut before he felt it go in.K falls to his knees.LUVI’m the best one.Luv DIVES into the water, toward the Transport and Deckard.INT. TRANSPORT VAN.Deckard is up to his neck, held down by the shackle.INT. UNDERWATER.Deckard submerges to try to pull himself free.  He fights like hell -- but can’t do it -- 104.INT. TRANSPORT VAN.LUV PULLS Deckard back up.  Faces him in the small pocket of air remaining.  Luv grins like the devil on his birthday.LUVOffworld is waiting.Without a sound...  K rises in the water behind Luv.GRABS HER BY THE THROAT.LIFTS HER TO THE SHATTERED ROOF.THROWS HER INTO THE WATER.  HAND CRUSHING HER WINDPIPE AND HOLDING UNDERWATER.LUV FIGHTS HIM WITH EVERYTHING SHE HAS.  TEETH BARED, BLOODY.BUT K JUST TAKES THE PAIN.  DOES NOT LET GO.INT. UNDERWATER.ON LUV.  She lashes out, wild, feral spasms.  Her mouth working.  Unable to find the words to properly hate.  One pupil goes wide.  The eye rolls back in its socket, giving a clear view of the pinprick of color underneath.AND SHE GOES STILL.ON LUV.  An air bubble of resignation escapes her lips.INT. TRANSPORT VAN.THE CREAK OF METAL ABOUT TO GIVE WAY.  THE WATER LEVEL RISES.DECKARD IS ENTIRELY UNDERWATER.  LUNGS AFLAME.K swims to him.  Breaks his retrains.K and Deckard dive out of the sinking tomb.IN THE OCEAN.K and Deckard swim.  Wave and current conspire to drown them.A WAVE BATTERS K.  WE LOSE SIGHT OF HIM IN THE WATER.DECKARDJo!Deckard reaches back.  CLASPS K’S HAND.  Helping him back.THE SURFACE EXPLODES.  K GASPS for breath.  ANOTHER WAVE CRASHES them onto the base of THE SEA WALL. 105.EXT. SEA WALL BASE.Deckard grabs hold of K before he is swept out into the sea.They find their footing, their breath.  Deckard nods to K.  He’s all right.  They look out to see...THE TRANSPORT VAN SINKS BENEATH THE SURFACE.  GONE.K and Deckard together, further up the sea wall.  Freezing.  But alive.  Under the blood orange sky of a new day coming.  They sit.  Find their breath.DECKARDYou should’ve let me die.KYou did.  You drowned in the ocean.  You’re free.  Free to meet your daughter.Tough as he is -- Deckard is overcome with emotion for the first time in decades.  Just hearing the word.  Brings himself to say it.DECKARDDaughter...?Everything he longed for.  In a word.  In time he breathes.CUT TO:EXT. SKIES ABOVE LOS ANGELES. DAWN.The grand CITYSCAPE.  Under a blanket of snow.  Clean as a fresh start.EXT. SNOWY FIELD. DAWN.K and Deckard trudge through the snowfall.  The Spinner behind them.  K limps to their destination.  Looks up to...EXT. LAB BUILDING. DAWN.K’s hand slips into his pocket.  Takes out...THE WOODEN HORSE.  He holds it out to Deckard.Deckard sees it.  Takes it.  Can’t believe it still exists.  Something made for a child he never met all those years ago.KAll the best memories... are hers...Deckard stares at him from a place beyond gratitude. 106.DECKARDWhy?  What am I to you?K looks at Deckard.  Wanting him to be so many things.KGo meet her.Deckard’s eyes fill of thanks beyond words.  He turns away.  Crosses the snowy field.  To the building.  TO ANA.ON K.  Watching him go.  He lets his hand drop from his wound.  A DROP of BLOOD touches the snow.K’S POV:  Deckard grows smaller in the distance.ON K.  Fallen in the snow.A pool of blood spreads and stains the white snow around him, as we...MOVE CLOSE ON K’S FACE.  His eyes catch something near him only he sees.  A warm FALSE VOICE comes, calming:JOI (V.O.)Would you read to me.Just as she said when we first met her.  K smiles at this ghost of memory.  Of course.  A thready whisper of his baseline.  Their old favorite.K (V.O.)“And blood-black nothingness began to... spin... a system of cells interlinked... INT. HALLWAY. LAB BUILDING.Deckard walks toward the door.  Halts before entering.K (V.O.)...Within... cells interlinked within cells interlinked... within one stem...EXT. SKIES ABOVE LOS ANGELES. DAWN.The fog recedes, a brief glimpse of true sky before the wool sweater clouds return.K (V.O.)...And dreadfully distinct... against the dark... 107.EXT. SNOWY FIELD. DAWN.ON K.  Slipping.  Barely audible.K...A tall white fountain played...He looks up at the snowy sky.                                           And dies.INT. MEMORY LAB.Deckard crosses through the door.  Looks in.  Looks up.Sees Ana in her lab, staring at snow flakes falling from above.  A perfect digital reproduction of what falls outside falls here onto her hands.  She is completely taken with it.Deckard steps up to the glass that divides the room.Watching her watch the snow fall.ANAJust a moment.  Beautiful, isn’t it.Ana turns from the digital snow, fading out.Takes in the strange stranger at her door.His kind, wounded eyes staring at her.  Meets them with an innocent smile.Deckard reaches out.Hand pressed against the glass.END. 108.\n"
          ]
        }
      ],
      "source": [
        "from PyPDF2 import PdfReader\n",
        "\n",
        "pdf_path = \"/content/blade runner 2049.pdf\"\n",
        "\n",
        "with open(pdf_path, \"rb\") as file:\n",
        "    pdf_reader = PdfReader(file)\n",
        "    num_pages = len(pdf_reader.pages)\n",
        "    content = \"\"\n",
        "    for page_number in range(num_pages):\n",
        "        page = pdf_reader.pages[page_number]\n",
        "        content += page.extract_text()\n",
        "\n",
        "print(content)\n"
      ]
    },
    {
      "cell_type": "code",
      "execution_count": null,
      "metadata": {
        "id": "2g7M89fKg54H"
      },
      "outputs": [],
      "source": [
        "system_prompt=\"\"\"\n",
        "You are a Q&A assistant. Your goal is to answer questions as\n",
        "accurately as possible based on the instructions and context provided.\n",
        "\"\"\"\n",
        "## Default format supportable by LLama2\n",
        "query_wrapper_prompt=SimpleInputPrompt(\"<|USER|>{query_str}<|ASSISTANT|>\")"
      ]
    },
    {
      "cell_type": "code",
      "execution_count": null,
      "metadata": {
        "colab": {
          "base_uri": "https://localhost:8080/"
        },
        "id": "S5-mOhoIhfo0",
        "outputId": "60eb569e-6145-4bb9-aab9-f4660c266ee1"
      },
      "outputs": [
        {
          "output_type": "stream",
          "name": "stdout",
          "text": [
            "\n",
            "    _|    _|  _|    _|    _|_|_|    _|_|_|  _|_|_|  _|      _|    _|_|_|      _|_|_|_|    _|_|      _|_|_|  _|_|_|_|\n",
            "    _|    _|  _|    _|  _|        _|          _|    _|_|    _|  _|            _|        _|    _|  _|        _|\n",
            "    _|_|_|_|  _|    _|  _|  _|_|  _|  _|_|    _|    _|  _|  _|  _|  _|_|      _|_|_|    _|_|_|_|  _|        _|_|_|\n",
            "    _|    _|  _|    _|  _|    _|  _|    _|    _|    _|    _|_|  _|    _|      _|        _|    _|  _|        _|\n",
            "    _|    _|    _|_|      _|_|_|    _|_|_|  _|_|_|  _|      _|    _|_|_|      _|        _|    _|    _|_|_|  _|_|_|_|\n",
            "\n",
            "    A token is already saved on your machine. Run `huggingface-cli whoami` to get more information or `huggingface-cli logout` if you want to log out.\n",
            "    Setting a new token will erase the existing one.\n",
            "    To login, `huggingface_hub` requires a token generated from https://huggingface.co/settings/tokens .\n",
            "Token: \n",
            "Add token as git credential? (Y/n) n\n",
            "Token is valid (permission: read).\n",
            "Your token has been saved to /root/.cache/huggingface/token\n",
            "Login successful\n"
          ]
        }
      ],
      "source": [
        "!huggingface-cli login"
      ]
    },
    {
      "cell_type": "code",
      "execution_count": null,
      "metadata": {
        "colab": {
          "base_uri": "https://localhost:8080/"
        },
        "id": "F543p_j-iaKS",
        "outputId": "77e60e30-f0b5-46eb-abe4-4bb33462f9b5"
      },
      "outputs": [
        {
          "output_type": "stream",
          "name": "stdout",
          "text": [
            "Looking in indexes: https://pypi.org/simple/\n",
            "Requirement already satisfied: bitsandbytes in /usr/local/lib/python3.10/dist-packages (0.43.1)\n",
            "Requirement already satisfied: torch in /usr/local/lib/python3.10/dist-packages (from bitsandbytes) (2.2.1+cu121)\n",
            "Requirement already satisfied: numpy in /usr/local/lib/python3.10/dist-packages (from bitsandbytes) (1.25.2)\n",
            "Requirement already satisfied: filelock in /usr/local/lib/python3.10/dist-packages (from torch->bitsandbytes) (3.13.4)\n",
            "Requirement already satisfied: typing-extensions>=4.8.0 in /usr/local/lib/python3.10/dist-packages (from torch->bitsandbytes) (4.11.0)\n",
            "Requirement already satisfied: sympy in /usr/local/lib/python3.10/dist-packages (from torch->bitsandbytes) (1.12)\n",
            "Requirement already satisfied: networkx in /usr/local/lib/python3.10/dist-packages (from torch->bitsandbytes) (3.3)\n",
            "Requirement already satisfied: jinja2 in /usr/local/lib/python3.10/dist-packages (from torch->bitsandbytes) (3.1.3)\n",
            "Requirement already satisfied: fsspec in /usr/local/lib/python3.10/dist-packages (from torch->bitsandbytes) (2023.6.0)\n",
            "Requirement already satisfied: nvidia-cuda-nvrtc-cu12==12.1.105 in /usr/local/lib/python3.10/dist-packages (from torch->bitsandbytes) (12.1.105)\n",
            "Requirement already satisfied: nvidia-cuda-runtime-cu12==12.1.105 in /usr/local/lib/python3.10/dist-packages (from torch->bitsandbytes) (12.1.105)\n",
            "Requirement already satisfied: nvidia-cuda-cupti-cu12==12.1.105 in /usr/local/lib/python3.10/dist-packages (from torch->bitsandbytes) (12.1.105)\n",
            "Requirement already satisfied: nvidia-cudnn-cu12==8.9.2.26 in /usr/local/lib/python3.10/dist-packages (from torch->bitsandbytes) (8.9.2.26)\n",
            "Requirement already satisfied: nvidia-cublas-cu12==12.1.3.1 in /usr/local/lib/python3.10/dist-packages (from torch->bitsandbytes) (12.1.3.1)\n",
            "Requirement already satisfied: nvidia-cufft-cu12==11.0.2.54 in /usr/local/lib/python3.10/dist-packages (from torch->bitsandbytes) (11.0.2.54)\n",
            "Requirement already satisfied: nvidia-curand-cu12==10.3.2.106 in /usr/local/lib/python3.10/dist-packages (from torch->bitsandbytes) (10.3.2.106)\n",
            "Requirement already satisfied: nvidia-cusolver-cu12==11.4.5.107 in /usr/local/lib/python3.10/dist-packages (from torch->bitsandbytes) (11.4.5.107)\n",
            "Requirement already satisfied: nvidia-cusparse-cu12==12.1.0.106 in /usr/local/lib/python3.10/dist-packages (from torch->bitsandbytes) (12.1.0.106)\n",
            "Requirement already satisfied: nvidia-nccl-cu12==2.19.3 in /usr/local/lib/python3.10/dist-packages (from torch->bitsandbytes) (2.19.3)\n",
            "Requirement already satisfied: nvidia-nvtx-cu12==12.1.105 in /usr/local/lib/python3.10/dist-packages (from torch->bitsandbytes) (12.1.105)\n",
            "Requirement already satisfied: triton==2.2.0 in /usr/local/lib/python3.10/dist-packages (from torch->bitsandbytes) (2.2.0)\n",
            "Requirement already satisfied: nvidia-nvjitlink-cu12 in /usr/local/lib/python3.10/dist-packages (from nvidia-cusolver-cu12==11.4.5.107->torch->bitsandbytes) (12.4.127)\n",
            "Requirement already satisfied: MarkupSafe>=2.0 in /usr/local/lib/python3.10/dist-packages (from jinja2->torch->bitsandbytes) (2.1.5)\n",
            "Requirement already satisfied: mpmath>=0.19 in /usr/local/lib/python3.10/dist-packages (from sympy->torch->bitsandbytes) (1.3.0)\n"
          ]
        }
      ],
      "source": [
        "!pip install -i https://pypi.org/simple/ bitsandbytes"
      ]
    },
    {
      "cell_type": "code",
      "execution_count": null,
      "metadata": {
        "colab": {
          "base_uri": "https://localhost:8080/",
          "height": 190,
          "referenced_widgets": [
            "7bafccd64d664c5496917cac73c804bc",
            "7033f01687bc4baf9c9e20cba314b99c",
            "137538776a6a47f0aaf3718b1152e3a5",
            "ec497637e12c498ea1cafaf676c323ad",
            "b6b52aea555e43a299e52cbfd242fce0",
            "7674e89bff9549b4b434604d4eb132a5",
            "5757001778bb46b39ad5f6239506f6e5",
            "8902e6d9fe104a0390b17a480570a4c8",
            "4e660378571149af911eb786ae03019a",
            "eb164604329447bd8abd07f82a9bf08a",
            "7b98085e0e664e2d83403ba475e1a74d"
          ]
        },
        "id": "jyVOhSuhhqdb",
        "outputId": "e50bf786-73c6-4674-f45d-0145f22c75ef"
      },
      "outputs": [
        {
          "output_type": "stream",
          "name": "stderr",
          "text": [
            "/usr/local/lib/python3.10/dist-packages/huggingface_hub/utils/_token.py:88: UserWarning: \n",
            "The secret `HF_TOKEN` does not exist in your Colab secrets.\n",
            "To authenticate with the Hugging Face Hub, create a token in your settings tab (https://huggingface.co/settings/tokens), set it as secret in your Google Colab and restart your session.\n",
            "You will be able to reuse this secret in all of your notebooks.\n",
            "Please note that authentication is recommended but still optional to access public models or datasets.\n",
            "  warnings.warn(\n",
            "The `load_in_4bit` and `load_in_8bit` arguments are deprecated and will be removed in the future versions. Please, pass a `BitsAndBytesConfig` object in `quantization_config` argument instead.\n"
          ]
        },
        {
          "output_type": "display_data",
          "data": {
            "text/plain": [
              "Loading checkpoint shards:   0%|          | 0/2 [00:00<?, ?it/s]"
            ],
            "application/vnd.jupyter.widget-view+json": {
              "version_major": 2,
              "version_minor": 0,
              "model_id": "7bafccd64d664c5496917cac73c804bc"
            }
          },
          "metadata": {}
        }
      ],
      "source": [
        "import torch\n",
        "llm = HuggingFaceLLM(\n",
        "    context_window=4096,\n",
        "    max_new_tokens=256,\n",
        "    generate_kwargs={\"temperature\": 0.0, \"do_sample\": False},\n",
        "    system_prompt=system_prompt,\n",
        "    query_wrapper_prompt=query_wrapper_prompt,\n",
        "    tokenizer_name=\"meta-llama/Llama-2-7b-chat-hf\",\n",
        "    model_name=\"meta-llama/Llama-2-7b-chat-hf\",\n",
        "    device_map=\"auto\",\n",
        "    # uncomment this if using CUDA to reduce memory usage\n",
        "    model_kwargs={\"torch_dtype\": torch.float16 , \"load_in_8bit\":True}\n",
        ")"
      ]
    },
    {
      "cell_type": "code",
      "execution_count": null,
      "metadata": {
        "id": "pr1EN5sViQm9"
      },
      "outputs": [],
      "source": [
        "from langchain.embeddings.huggingface import HuggingFaceEmbeddings\n",
        "#from llama_index import ServiceContext, LangchainEmbedding\n",
        "from llama_index.core import VectorStoreIndex,SimpleDirectoryReader,ServiceContext,PromptTemplate\n",
        "#from llama_index.llms.huggingface import HuggingFaceLLM\n",
        "\n",
        "embed_model = HuggingFaceEmbeddings(model_name=\"sentence-transformers/all-mpnet-base-v2\")"
      ]
    },
    {
      "cell_type": "code",
      "source": [
        "!pip install llama-index-llms-langchain"
      ],
      "metadata": {
        "id": "XPmfaKg8tPTs",
        "outputId": "6f601a60-e25b-4037-9d0e-02401cb42cb9",
        "colab": {
          "base_uri": "https://localhost:8080/"
        }
      },
      "execution_count": null,
      "outputs": [
        {
          "output_type": "stream",
          "name": "stdout",
          "text": [
            "Requirement already satisfied: llama-index-llms-langchain in /usr/local/lib/python3.10/dist-packages (0.1.3)\n",
            "Requirement already satisfied: langchain<0.2.0,>=0.1.3 in /usr/local/lib/python3.10/dist-packages (from llama-index-llms-langchain) (0.1.16)\n",
            "Requirement already satisfied: llama-index-core<0.11.0,>=0.10.1 in /usr/local/lib/python3.10/dist-packages (from llama-index-llms-langchain) (0.10.30)\n",
            "Requirement already satisfied: llama-index-llms-anyscale<0.2.0,>=0.1.1 in /usr/local/lib/python3.10/dist-packages (from llama-index-llms-langchain) (0.1.3)\n",
            "Requirement already satisfied: llama-index-llms-openai<0.2.0,>=0.1.1 in /usr/local/lib/python3.10/dist-packages (from llama-index-llms-langchain) (0.1.16)\n",
            "Requirement already satisfied: PyYAML>=5.3 in /usr/local/lib/python3.10/dist-packages (from langchain<0.2.0,>=0.1.3->llama-index-llms-langchain) (6.0.1)\n",
            "Requirement already satisfied: SQLAlchemy<3,>=1.4 in /usr/local/lib/python3.10/dist-packages (from langchain<0.2.0,>=0.1.3->llama-index-llms-langchain) (2.0.29)\n",
            "Requirement already satisfied: aiohttp<4.0.0,>=3.8.3 in /usr/local/lib/python3.10/dist-packages (from langchain<0.2.0,>=0.1.3->llama-index-llms-langchain) (3.9.5)\n",
            "Requirement already satisfied: async-timeout<5.0.0,>=4.0.0 in /usr/local/lib/python3.10/dist-packages (from langchain<0.2.0,>=0.1.3->llama-index-llms-langchain) (4.0.3)\n",
            "Requirement already satisfied: dataclasses-json<0.7,>=0.5.7 in /usr/local/lib/python3.10/dist-packages (from langchain<0.2.0,>=0.1.3->llama-index-llms-langchain) (0.6.4)\n",
            "Requirement already satisfied: jsonpatch<2.0,>=1.33 in /usr/local/lib/python3.10/dist-packages (from langchain<0.2.0,>=0.1.3->llama-index-llms-langchain) (1.33)\n",
            "Requirement already satisfied: langchain-community<0.1,>=0.0.32 in /usr/local/lib/python3.10/dist-packages (from langchain<0.2.0,>=0.1.3->llama-index-llms-langchain) (0.0.34)\n",
            "Requirement already satisfied: langchain-core<0.2.0,>=0.1.42 in /usr/local/lib/python3.10/dist-packages (from langchain<0.2.0,>=0.1.3->llama-index-llms-langchain) (0.1.45)\n",
            "Requirement already satisfied: langchain-text-splitters<0.1,>=0.0.1 in /usr/local/lib/python3.10/dist-packages (from langchain<0.2.0,>=0.1.3->llama-index-llms-langchain) (0.0.1)\n",
            "Requirement already satisfied: langsmith<0.2.0,>=0.1.17 in /usr/local/lib/python3.10/dist-packages (from langchain<0.2.0,>=0.1.3->llama-index-llms-langchain) (0.1.49)\n",
            "Requirement already satisfied: numpy<2,>=1 in /usr/local/lib/python3.10/dist-packages (from langchain<0.2.0,>=0.1.3->llama-index-llms-langchain) (1.25.2)\n",
            "Requirement already satisfied: pydantic<3,>=1 in /usr/local/lib/python3.10/dist-packages (from langchain<0.2.0,>=0.1.3->llama-index-llms-langchain) (2.7.0)\n",
            "Requirement already satisfied: requests<3,>=2 in /usr/local/lib/python3.10/dist-packages (from langchain<0.2.0,>=0.1.3->llama-index-llms-langchain) (2.31.0)\n",
            "Requirement already satisfied: tenacity<9.0.0,>=8.1.0 in /usr/local/lib/python3.10/dist-packages (from langchain<0.2.0,>=0.1.3->llama-index-llms-langchain) (8.2.3)\n",
            "Requirement already satisfied: deprecated>=1.2.9.3 in /usr/local/lib/python3.10/dist-packages (from llama-index-core<0.11.0,>=0.10.1->llama-index-llms-langchain) (1.2.14)\n",
            "Requirement already satisfied: dirtyjson<2.0.0,>=1.0.8 in /usr/local/lib/python3.10/dist-packages (from llama-index-core<0.11.0,>=0.10.1->llama-index-llms-langchain) (1.0.8)\n",
            "Requirement already satisfied: fsspec>=2023.5.0 in /usr/local/lib/python3.10/dist-packages (from llama-index-core<0.11.0,>=0.10.1->llama-index-llms-langchain) (2023.6.0)\n",
            "Requirement already satisfied: httpx in /usr/local/lib/python3.10/dist-packages (from llama-index-core<0.11.0,>=0.10.1->llama-index-llms-langchain) (0.27.0)\n",
            "Requirement already satisfied: llamaindex-py-client<0.2.0,>=0.1.18 in /usr/local/lib/python3.10/dist-packages (from llama-index-core<0.11.0,>=0.10.1->llama-index-llms-langchain) (0.1.18)\n",
            "Requirement already satisfied: nest-asyncio<2.0.0,>=1.5.8 in /usr/local/lib/python3.10/dist-packages (from llama-index-core<0.11.0,>=0.10.1->llama-index-llms-langchain) (1.6.0)\n",
            "Requirement already satisfied: networkx>=3.0 in /usr/local/lib/python3.10/dist-packages (from llama-index-core<0.11.0,>=0.10.1->llama-index-llms-langchain) (3.3)\n",
            "Requirement already satisfied: nltk<4.0.0,>=3.8.1 in /usr/local/lib/python3.10/dist-packages (from llama-index-core<0.11.0,>=0.10.1->llama-index-llms-langchain) (3.8.1)\n",
            "Requirement already satisfied: openai>=1.1.0 in /usr/local/lib/python3.10/dist-packages (from llama-index-core<0.11.0,>=0.10.1->llama-index-llms-langchain) (1.23.2)\n",
            "Requirement already satisfied: pandas in /usr/local/lib/python3.10/dist-packages (from llama-index-core<0.11.0,>=0.10.1->llama-index-llms-langchain) (2.0.3)\n",
            "Requirement already satisfied: pillow>=9.0.0 in /usr/local/lib/python3.10/dist-packages (from llama-index-core<0.11.0,>=0.10.1->llama-index-llms-langchain) (9.4.0)\n",
            "Requirement already satisfied: tiktoken>=0.3.3 in /usr/local/lib/python3.10/dist-packages (from llama-index-core<0.11.0,>=0.10.1->llama-index-llms-langchain) (0.6.0)\n",
            "Requirement already satisfied: tqdm<5.0.0,>=4.66.1 in /usr/local/lib/python3.10/dist-packages (from llama-index-core<0.11.0,>=0.10.1->llama-index-llms-langchain) (4.66.2)\n",
            "Requirement already satisfied: typing-extensions>=4.5.0 in /usr/local/lib/python3.10/dist-packages (from llama-index-core<0.11.0,>=0.10.1->llama-index-llms-langchain) (4.11.0)\n",
            "Requirement already satisfied: typing-inspect>=0.8.0 in /usr/local/lib/python3.10/dist-packages (from llama-index-core<0.11.0,>=0.10.1->llama-index-llms-langchain) (0.9.0)\n",
            "Requirement already satisfied: wrapt in /usr/local/lib/python3.10/dist-packages (from llama-index-core<0.11.0,>=0.10.1->llama-index-llms-langchain) (1.14.1)\n",
            "Requirement already satisfied: aiosignal>=1.1.2 in /usr/local/lib/python3.10/dist-packages (from aiohttp<4.0.0,>=3.8.3->langchain<0.2.0,>=0.1.3->llama-index-llms-langchain) (1.3.1)\n",
            "Requirement already satisfied: attrs>=17.3.0 in /usr/local/lib/python3.10/dist-packages (from aiohttp<4.0.0,>=3.8.3->langchain<0.2.0,>=0.1.3->llama-index-llms-langchain) (23.2.0)\n",
            "Requirement already satisfied: frozenlist>=1.1.1 in /usr/local/lib/python3.10/dist-packages (from aiohttp<4.0.0,>=3.8.3->langchain<0.2.0,>=0.1.3->llama-index-llms-langchain) (1.4.1)\n",
            "Requirement already satisfied: multidict<7.0,>=4.5 in /usr/local/lib/python3.10/dist-packages (from aiohttp<4.0.0,>=3.8.3->langchain<0.2.0,>=0.1.3->llama-index-llms-langchain) (6.0.5)\n",
            "Requirement already satisfied: yarl<2.0,>=1.0 in /usr/local/lib/python3.10/dist-packages (from aiohttp<4.0.0,>=3.8.3->langchain<0.2.0,>=0.1.3->llama-index-llms-langchain) (1.9.4)\n",
            "Requirement already satisfied: marshmallow<4.0.0,>=3.18.0 in /usr/local/lib/python3.10/dist-packages (from dataclasses-json<0.7,>=0.5.7->langchain<0.2.0,>=0.1.3->llama-index-llms-langchain) (3.21.1)\n",
            "Requirement already satisfied: jsonpointer>=1.9 in /usr/local/lib/python3.10/dist-packages (from jsonpatch<2.0,>=1.33->langchain<0.2.0,>=0.1.3->llama-index-llms-langchain) (2.4)\n",
            "Requirement already satisfied: packaging<24.0,>=23.2 in /usr/local/lib/python3.10/dist-packages (from langchain-core<0.2.0,>=0.1.42->langchain<0.2.0,>=0.1.3->llama-index-llms-langchain) (23.2)\n",
            "Requirement already satisfied: orjson<4.0.0,>=3.9.14 in /usr/local/lib/python3.10/dist-packages (from langsmith<0.2.0,>=0.1.17->langchain<0.2.0,>=0.1.3->llama-index-llms-langchain) (3.10.1)\n",
            "Requirement already satisfied: anyio in /usr/local/lib/python3.10/dist-packages (from httpx->llama-index-core<0.11.0,>=0.10.1->llama-index-llms-langchain) (3.7.1)\n",
            "Requirement already satisfied: certifi in /usr/local/lib/python3.10/dist-packages (from httpx->llama-index-core<0.11.0,>=0.10.1->llama-index-llms-langchain) (2024.2.2)\n",
            "Requirement already satisfied: httpcore==1.* in /usr/local/lib/python3.10/dist-packages (from httpx->llama-index-core<0.11.0,>=0.10.1->llama-index-llms-langchain) (1.0.5)\n",
            "Requirement already satisfied: idna in /usr/local/lib/python3.10/dist-packages (from httpx->llama-index-core<0.11.0,>=0.10.1->llama-index-llms-langchain) (3.7)\n",
            "Requirement already satisfied: sniffio in /usr/local/lib/python3.10/dist-packages (from httpx->llama-index-core<0.11.0,>=0.10.1->llama-index-llms-langchain) (1.3.1)\n",
            "Requirement already satisfied: h11<0.15,>=0.13 in /usr/local/lib/python3.10/dist-packages (from httpcore==1.*->httpx->llama-index-core<0.11.0,>=0.10.1->llama-index-llms-langchain) (0.14.0)\n",
            "Requirement already satisfied: click in /usr/local/lib/python3.10/dist-packages (from nltk<4.0.0,>=3.8.1->llama-index-core<0.11.0,>=0.10.1->llama-index-llms-langchain) (8.1.7)\n",
            "Requirement already satisfied: joblib in /usr/local/lib/python3.10/dist-packages (from nltk<4.0.0,>=3.8.1->llama-index-core<0.11.0,>=0.10.1->llama-index-llms-langchain) (1.4.0)\n",
            "Requirement already satisfied: regex>=2021.8.3 in /usr/local/lib/python3.10/dist-packages (from nltk<4.0.0,>=3.8.1->llama-index-core<0.11.0,>=0.10.1->llama-index-llms-langchain) (2023.12.25)\n",
            "Requirement already satisfied: distro<2,>=1.7.0 in /usr/lib/python3/dist-packages (from openai>=1.1.0->llama-index-core<0.11.0,>=0.10.1->llama-index-llms-langchain) (1.7.0)\n",
            "Requirement already satisfied: annotated-types>=0.4.0 in /usr/local/lib/python3.10/dist-packages (from pydantic<3,>=1->langchain<0.2.0,>=0.1.3->llama-index-llms-langchain) (0.6.0)\n",
            "Requirement already satisfied: pydantic-core==2.18.1 in /usr/local/lib/python3.10/dist-packages (from pydantic<3,>=1->langchain<0.2.0,>=0.1.3->llama-index-llms-langchain) (2.18.1)\n",
            "Requirement already satisfied: charset-normalizer<4,>=2 in /usr/local/lib/python3.10/dist-packages (from requests<3,>=2->langchain<0.2.0,>=0.1.3->llama-index-llms-langchain) (3.3.2)\n",
            "Requirement already satisfied: urllib3<3,>=1.21.1 in /usr/local/lib/python3.10/dist-packages (from requests<3,>=2->langchain<0.2.0,>=0.1.3->llama-index-llms-langchain) (2.0.7)\n",
            "Requirement already satisfied: greenlet!=0.4.17 in /usr/local/lib/python3.10/dist-packages (from SQLAlchemy<3,>=1.4->langchain<0.2.0,>=0.1.3->llama-index-llms-langchain) (3.0.3)\n",
            "Requirement already satisfied: mypy-extensions>=0.3.0 in /usr/local/lib/python3.10/dist-packages (from typing-inspect>=0.8.0->llama-index-core<0.11.0,>=0.10.1->llama-index-llms-langchain) (1.0.0)\n",
            "Requirement already satisfied: python-dateutil>=2.8.2 in /usr/local/lib/python3.10/dist-packages (from pandas->llama-index-core<0.11.0,>=0.10.1->llama-index-llms-langchain) (2.8.2)\n",
            "Requirement already satisfied: pytz>=2020.1 in /usr/local/lib/python3.10/dist-packages (from pandas->llama-index-core<0.11.0,>=0.10.1->llama-index-llms-langchain) (2023.4)\n",
            "Requirement already satisfied: tzdata>=2022.1 in /usr/local/lib/python3.10/dist-packages (from pandas->llama-index-core<0.11.0,>=0.10.1->llama-index-llms-langchain) (2024.1)\n",
            "Requirement already satisfied: exceptiongroup in /usr/local/lib/python3.10/dist-packages (from anyio->httpx->llama-index-core<0.11.0,>=0.10.1->llama-index-llms-langchain) (1.2.0)\n",
            "Requirement already satisfied: six>=1.5 in /usr/local/lib/python3.10/dist-packages (from python-dateutil>=2.8.2->pandas->llama-index-core<0.11.0,>=0.10.1->llama-index-llms-langchain) (1.16.0)\n"
          ]
        }
      ]
    },
    {
      "cell_type": "code",
      "source": [
        "!pip install llama-index-embeddings-langchain"
      ],
      "metadata": {
        "id": "Z7Zl_nH2tg4S",
        "outputId": "f333b501-8a41-4e21-970a-ff23c09db9b2",
        "colab": {
          "base_uri": "https://localhost:8080/"
        }
      },
      "execution_count": null,
      "outputs": [
        {
          "output_type": "stream",
          "name": "stdout",
          "text": [
            "Requirement already satisfied: llama-index-embeddings-langchain in /usr/local/lib/python3.10/dist-packages (0.1.2)\n",
            "Requirement already satisfied: llama-index-core<0.11.0,>=0.10.1 in /usr/local/lib/python3.10/dist-packages (from llama-index-embeddings-langchain) (0.10.30)\n",
            "Requirement already satisfied: PyYAML>=6.0.1 in /usr/local/lib/python3.10/dist-packages (from llama-index-core<0.11.0,>=0.10.1->llama-index-embeddings-langchain) (6.0.1)\n",
            "Requirement already satisfied: SQLAlchemy[asyncio]>=1.4.49 in /usr/local/lib/python3.10/dist-packages (from llama-index-core<0.11.0,>=0.10.1->llama-index-embeddings-langchain) (2.0.29)\n",
            "Requirement already satisfied: aiohttp<4.0.0,>=3.8.6 in /usr/local/lib/python3.10/dist-packages (from llama-index-core<0.11.0,>=0.10.1->llama-index-embeddings-langchain) (3.9.5)\n",
            "Requirement already satisfied: dataclasses-json in /usr/local/lib/python3.10/dist-packages (from llama-index-core<0.11.0,>=0.10.1->llama-index-embeddings-langchain) (0.6.4)\n",
            "Requirement already satisfied: deprecated>=1.2.9.3 in /usr/local/lib/python3.10/dist-packages (from llama-index-core<0.11.0,>=0.10.1->llama-index-embeddings-langchain) (1.2.14)\n",
            "Requirement already satisfied: dirtyjson<2.0.0,>=1.0.8 in /usr/local/lib/python3.10/dist-packages (from llama-index-core<0.11.0,>=0.10.1->llama-index-embeddings-langchain) (1.0.8)\n",
            "Requirement already satisfied: fsspec>=2023.5.0 in /usr/local/lib/python3.10/dist-packages (from llama-index-core<0.11.0,>=0.10.1->llama-index-embeddings-langchain) (2023.6.0)\n",
            "Requirement already satisfied: httpx in /usr/local/lib/python3.10/dist-packages (from llama-index-core<0.11.0,>=0.10.1->llama-index-embeddings-langchain) (0.27.0)\n",
            "Requirement already satisfied: llamaindex-py-client<0.2.0,>=0.1.18 in /usr/local/lib/python3.10/dist-packages (from llama-index-core<0.11.0,>=0.10.1->llama-index-embeddings-langchain) (0.1.18)\n",
            "Requirement already satisfied: nest-asyncio<2.0.0,>=1.5.8 in /usr/local/lib/python3.10/dist-packages (from llama-index-core<0.11.0,>=0.10.1->llama-index-embeddings-langchain) (1.6.0)\n",
            "Requirement already satisfied: networkx>=3.0 in /usr/local/lib/python3.10/dist-packages (from llama-index-core<0.11.0,>=0.10.1->llama-index-embeddings-langchain) (3.3)\n",
            "Requirement already satisfied: nltk<4.0.0,>=3.8.1 in /usr/local/lib/python3.10/dist-packages (from llama-index-core<0.11.0,>=0.10.1->llama-index-embeddings-langchain) (3.8.1)\n",
            "Requirement already satisfied: numpy in /usr/local/lib/python3.10/dist-packages (from llama-index-core<0.11.0,>=0.10.1->llama-index-embeddings-langchain) (1.25.2)\n",
            "Requirement already satisfied: openai>=1.1.0 in /usr/local/lib/python3.10/dist-packages (from llama-index-core<0.11.0,>=0.10.1->llama-index-embeddings-langchain) (1.23.2)\n",
            "Requirement already satisfied: pandas in /usr/local/lib/python3.10/dist-packages (from llama-index-core<0.11.0,>=0.10.1->llama-index-embeddings-langchain) (2.0.3)\n",
            "Requirement already satisfied: pillow>=9.0.0 in /usr/local/lib/python3.10/dist-packages (from llama-index-core<0.11.0,>=0.10.1->llama-index-embeddings-langchain) (9.4.0)\n",
            "Requirement already satisfied: requests>=2.31.0 in /usr/local/lib/python3.10/dist-packages (from llama-index-core<0.11.0,>=0.10.1->llama-index-embeddings-langchain) (2.31.0)\n",
            "Requirement already satisfied: tenacity<9.0.0,>=8.2.0 in /usr/local/lib/python3.10/dist-packages (from llama-index-core<0.11.0,>=0.10.1->llama-index-embeddings-langchain) (8.2.3)\n",
            "Requirement already satisfied: tiktoken>=0.3.3 in /usr/local/lib/python3.10/dist-packages (from llama-index-core<0.11.0,>=0.10.1->llama-index-embeddings-langchain) (0.6.0)\n",
            "Requirement already satisfied: tqdm<5.0.0,>=4.66.1 in /usr/local/lib/python3.10/dist-packages (from llama-index-core<0.11.0,>=0.10.1->llama-index-embeddings-langchain) (4.66.2)\n",
            "Requirement already satisfied: typing-extensions>=4.5.0 in /usr/local/lib/python3.10/dist-packages (from llama-index-core<0.11.0,>=0.10.1->llama-index-embeddings-langchain) (4.11.0)\n",
            "Requirement already satisfied: typing-inspect>=0.8.0 in /usr/local/lib/python3.10/dist-packages (from llama-index-core<0.11.0,>=0.10.1->llama-index-embeddings-langchain) (0.9.0)\n",
            "Requirement already satisfied: wrapt in /usr/local/lib/python3.10/dist-packages (from llama-index-core<0.11.0,>=0.10.1->llama-index-embeddings-langchain) (1.14.1)\n",
            "Requirement already satisfied: aiosignal>=1.1.2 in /usr/local/lib/python3.10/dist-packages (from aiohttp<4.0.0,>=3.8.6->llama-index-core<0.11.0,>=0.10.1->llama-index-embeddings-langchain) (1.3.1)\n",
            "Requirement already satisfied: attrs>=17.3.0 in /usr/local/lib/python3.10/dist-packages (from aiohttp<4.0.0,>=3.8.6->llama-index-core<0.11.0,>=0.10.1->llama-index-embeddings-langchain) (23.2.0)\n",
            "Requirement already satisfied: frozenlist>=1.1.1 in /usr/local/lib/python3.10/dist-packages (from aiohttp<4.0.0,>=3.8.6->llama-index-core<0.11.0,>=0.10.1->llama-index-embeddings-langchain) (1.4.1)\n",
            "Requirement already satisfied: multidict<7.0,>=4.5 in /usr/local/lib/python3.10/dist-packages (from aiohttp<4.0.0,>=3.8.6->llama-index-core<0.11.0,>=0.10.1->llama-index-embeddings-langchain) (6.0.5)\n",
            "Requirement already satisfied: yarl<2.0,>=1.0 in /usr/local/lib/python3.10/dist-packages (from aiohttp<4.0.0,>=3.8.6->llama-index-core<0.11.0,>=0.10.1->llama-index-embeddings-langchain) (1.9.4)\n",
            "Requirement already satisfied: async-timeout<5.0,>=4.0 in /usr/local/lib/python3.10/dist-packages (from aiohttp<4.0.0,>=3.8.6->llama-index-core<0.11.0,>=0.10.1->llama-index-embeddings-langchain) (4.0.3)\n",
            "Requirement already satisfied: pydantic>=1.10 in /usr/local/lib/python3.10/dist-packages (from llamaindex-py-client<0.2.0,>=0.1.18->llama-index-core<0.11.0,>=0.10.1->llama-index-embeddings-langchain) (2.7.0)\n",
            "Requirement already satisfied: anyio in /usr/local/lib/python3.10/dist-packages (from httpx->llama-index-core<0.11.0,>=0.10.1->llama-index-embeddings-langchain) (3.7.1)\n",
            "Requirement already satisfied: certifi in /usr/local/lib/python3.10/dist-packages (from httpx->llama-index-core<0.11.0,>=0.10.1->llama-index-embeddings-langchain) (2024.2.2)\n",
            "Requirement already satisfied: httpcore==1.* in /usr/local/lib/python3.10/dist-packages (from httpx->llama-index-core<0.11.0,>=0.10.1->llama-index-embeddings-langchain) (1.0.5)\n",
            "Requirement already satisfied: idna in /usr/local/lib/python3.10/dist-packages (from httpx->llama-index-core<0.11.0,>=0.10.1->llama-index-embeddings-langchain) (3.7)\n",
            "Requirement already satisfied: sniffio in /usr/local/lib/python3.10/dist-packages (from httpx->llama-index-core<0.11.0,>=0.10.1->llama-index-embeddings-langchain) (1.3.1)\n",
            "Requirement already satisfied: h11<0.15,>=0.13 in /usr/local/lib/python3.10/dist-packages (from httpcore==1.*->httpx->llama-index-core<0.11.0,>=0.10.1->llama-index-embeddings-langchain) (0.14.0)\n",
            "Requirement already satisfied: click in /usr/local/lib/python3.10/dist-packages (from nltk<4.0.0,>=3.8.1->llama-index-core<0.11.0,>=0.10.1->llama-index-embeddings-langchain) (8.1.7)\n",
            "Requirement already satisfied: joblib in /usr/local/lib/python3.10/dist-packages (from nltk<4.0.0,>=3.8.1->llama-index-core<0.11.0,>=0.10.1->llama-index-embeddings-langchain) (1.4.0)\n",
            "Requirement already satisfied: regex>=2021.8.3 in /usr/local/lib/python3.10/dist-packages (from nltk<4.0.0,>=3.8.1->llama-index-core<0.11.0,>=0.10.1->llama-index-embeddings-langchain) (2023.12.25)\n",
            "Requirement already satisfied: distro<2,>=1.7.0 in /usr/lib/python3/dist-packages (from openai>=1.1.0->llama-index-core<0.11.0,>=0.10.1->llama-index-embeddings-langchain) (1.7.0)\n",
            "Requirement already satisfied: charset-normalizer<4,>=2 in /usr/local/lib/python3.10/dist-packages (from requests>=2.31.0->llama-index-core<0.11.0,>=0.10.1->llama-index-embeddings-langchain) (3.3.2)\n",
            "Requirement already satisfied: urllib3<3,>=1.21.1 in /usr/local/lib/python3.10/dist-packages (from requests>=2.31.0->llama-index-core<0.11.0,>=0.10.1->llama-index-embeddings-langchain) (2.0.7)\n",
            "Requirement already satisfied: greenlet!=0.4.17 in /usr/local/lib/python3.10/dist-packages (from SQLAlchemy[asyncio]>=1.4.49->llama-index-core<0.11.0,>=0.10.1->llama-index-embeddings-langchain) (3.0.3)\n",
            "Requirement already satisfied: mypy-extensions>=0.3.0 in /usr/local/lib/python3.10/dist-packages (from typing-inspect>=0.8.0->llama-index-core<0.11.0,>=0.10.1->llama-index-embeddings-langchain) (1.0.0)\n",
            "Requirement already satisfied: marshmallow<4.0.0,>=3.18.0 in /usr/local/lib/python3.10/dist-packages (from dataclasses-json->llama-index-core<0.11.0,>=0.10.1->llama-index-embeddings-langchain) (3.21.1)\n",
            "Requirement already satisfied: python-dateutil>=2.8.2 in /usr/local/lib/python3.10/dist-packages (from pandas->llama-index-core<0.11.0,>=0.10.1->llama-index-embeddings-langchain) (2.8.2)\n",
            "Requirement already satisfied: pytz>=2020.1 in /usr/local/lib/python3.10/dist-packages (from pandas->llama-index-core<0.11.0,>=0.10.1->llama-index-embeddings-langchain) (2023.4)\n",
            "Requirement already satisfied: tzdata>=2022.1 in /usr/local/lib/python3.10/dist-packages (from pandas->llama-index-core<0.11.0,>=0.10.1->llama-index-embeddings-langchain) (2024.1)\n",
            "Requirement already satisfied: exceptiongroup in /usr/local/lib/python3.10/dist-packages (from anyio->httpx->llama-index-core<0.11.0,>=0.10.1->llama-index-embeddings-langchain) (1.2.0)\n",
            "Requirement already satisfied: packaging>=17.0 in /usr/local/lib/python3.10/dist-packages (from marshmallow<4.0.0,>=3.18.0->dataclasses-json->llama-index-core<0.11.0,>=0.10.1->llama-index-embeddings-langchain) (23.2)\n",
            "Requirement already satisfied: annotated-types>=0.4.0 in /usr/local/lib/python3.10/dist-packages (from pydantic>=1.10->llamaindex-py-client<0.2.0,>=0.1.18->llama-index-core<0.11.0,>=0.10.1->llama-index-embeddings-langchain) (0.6.0)\n",
            "Requirement already satisfied: pydantic-core==2.18.1 in /usr/local/lib/python3.10/dist-packages (from pydantic>=1.10->llamaindex-py-client<0.2.0,>=0.1.18->llama-index-core<0.11.0,>=0.10.1->llama-index-embeddings-langchain) (2.18.1)\n",
            "Requirement already satisfied: six>=1.5 in /usr/local/lib/python3.10/dist-packages (from python-dateutil>=2.8.2->pandas->llama-index-core<0.11.0,>=0.10.1->llama-index-embeddings-langchain) (1.16.0)\n"
          ]
        }
      ]
    },
    {
      "cell_type": "code",
      "execution_count": null,
      "metadata": {
        "id": "LduiJD2ajpy4",
        "outputId": "3a467151-046c-4dde-b105-b532d37c1369",
        "colab": {
          "base_uri": "https://localhost:8080/"
        }
      },
      "outputs": [
        {
          "output_type": "stream",
          "name": "stderr",
          "text": [
            "<ipython-input-21-f6dd2f399444>:1: DeprecationWarning: Call to deprecated class method from_defaults. (ServiceContext is deprecated, please use `llama_index.settings.Settings` instead.) -- Deprecated since version 0.10.0.\n",
            "  service_context=ServiceContext.from_defaults(\n"
          ]
        }
      ],
      "source": [
        "service_context=ServiceContext.from_defaults(\n",
        "    chunk_size=1024,\n",
        "    llm=llm,\n",
        "    embed_model=embed_model\n",
        ")"
      ]
    },
    {
      "cell_type": "code",
      "execution_count": null,
      "metadata": {
        "colab": {
          "base_uri": "https://localhost:8080/"
        },
        "id": "vQ_jtoK3kCeT",
        "outputId": "43460f23-9e21-40a4-fdb0-df7b36df77fc"
      },
      "outputs": [
        {
          "output_type": "execute_result",
          "data": {
            "text/plain": [
              "ServiceContext(llm_predictor=LLMPredictor(system_prompt=None, query_wrapper_prompt=None, pydantic_program_mode=<PydanticProgramMode.DEFAULT: 'default'>), prompt_helper=PromptHelper(context_window=4096, num_output=256, chunk_overlap_ratio=0.1, chunk_size_limit=None, separator=' '), embed_model=LangchainEmbedding(model_name='sentence-transformers/all-mpnet-base-v2', embed_batch_size=10, callback_manager=<llama_index.core.callbacks.base.CallbackManager object at 0x79f8e7bc4d30>), transformations=[SentenceSplitter(include_metadata=True, include_prev_next_rel=True, callback_manager=<llama_index.core.callbacks.base.CallbackManager object at 0x79f8e7bc4d30>, id_func=<function default_id_func at 0x79f9db0b03a0>, chunk_size=1024, chunk_overlap=200, separator=' ', paragraph_separator='\\n\\n\\n', secondary_chunking_regex='[^,.;。？！]+[,.;。？！]?')], llama_logger=<llama_index.core.service_context_elements.llama_logger.LlamaLogger object at 0x79f8e6f1cf70>, callback_manager=<llama_index.core.callbacks.base.CallbackManager object at 0x79f8e7bc4d30>)"
            ]
          },
          "metadata": {},
          "execution_count": 22
        }
      ],
      "source": [
        "service_context"
      ]
    },
    {
      "cell_type": "code",
      "execution_count": null,
      "metadata": {
        "id": "31jvrW2BkFEL"
      },
      "outputs": [],
      "source": [
        "documents = SimpleDirectoryReader(\n",
        "    \"/content\"\n",
        ").load_data()\n",
        "index=VectorStoreIndex.from_documents(documents, service_context=service_context)"
      ]
    },
    {
      "cell_type": "code",
      "execution_count": null,
      "metadata": {
        "colab": {
          "base_uri": "https://localhost:8080/"
        },
        "id": "IM-gNZ0-kRnO",
        "outputId": "4a564280-2deb-466e-b6aa-698c0cae6bdd"
      },
      "outputs": [
        {
          "output_type": "execute_result",
          "data": {
            "text/plain": [
              "<llama_index.core.indices.vector_store.base.VectorStoreIndex at 0x79f8d124ace0>"
            ]
          },
          "metadata": {},
          "execution_count": 29
        }
      ],
      "source": [
        "index"
      ]
    },
    {
      "cell_type": "code",
      "execution_count": null,
      "metadata": {
        "id": "uSJzrMm6kTxf"
      },
      "outputs": [],
      "source": [
        "query_engine=index.as_query_engine()"
      ]
    },
    {
      "cell_type": "code",
      "execution_count": null,
      "metadata": {
        "colab": {
          "base_uri": "https://localhost:8080/"
        },
        "id": "PdhKFWCTkZRx",
        "outputId": "7ad53de2-5e2f-4622-e790-5a1f04c602fe"
      },
      "outputs": [
        {
          "output_type": "stream",
          "name": "stderr",
          "text": [
            "/usr/local/lib/python3.10/dist-packages/transformers/generation/configuration_utils.py:410: UserWarning: `do_sample` is set to `False`. However, `temperature` is set to `0.0` -- this flag is only used in sample-based generation modes. You should set `do_sample=True` or unset `temperature`.\n",
            "  warnings.warn(\n",
            "/usr/local/lib/python3.10/dist-packages/transformers/generation/configuration_utils.py:415: UserWarning: `do_sample` is set to `False`. However, `top_p` is set to `0.9` -- this flag is only used in sample-based generation modes. You should set `do_sample=True` or unset `top_p`.\n",
            "  warnings.warn(\n"
          ]
        }
      ],
      "source": [
        "response=query_engine.query(\"Explain the theme of the movie?\")"
      ]
    },
    {
      "cell_type": "code",
      "execution_count": null,
      "metadata": {
        "colab": {
          "base_uri": "https://localhost:8080/"
        },
        "id": "XKsLsgWSkfGD",
        "outputId": "f9690f58-880a-439e-8f7a-e057847a404d"
      },
      "outputs": [
        {
          "output_type": "stream",
          "name": "stdout",
          "text": [
            "The theme of Blade Runner 2049 is the exploration of what it means to be human, and the blurred lines between humanity and technology. The movie delves into the consequences of playing God and the ethical implications of creating life. It also touches upon the idea of nostalgia and the longing for a lost time, as well as the importance of memories and the human experience. Through the characters of K and Joi, the movie examines the relationship between humans and technology, and the ways in which technology can both enhance and hinder our understanding of ourselves. Ultimately, the movie raises questions about the nature of existence and the value of human life in a world where synthetic beings are becoming increasingly indistinguishable from their creators.\n"
          ]
        }
      ],
      "source": [
        "print(response)"
      ]
    },
    {
      "cell_type": "code",
      "execution_count": null,
      "metadata": {
        "id": "XHLOq8j2kyfF"
      },
      "outputs": [],
      "source": [
        "response=query_engine.query(\"Who are the characters?\")"
      ]
    },
    {
      "cell_type": "code",
      "execution_count": null,
      "metadata": {
        "colab": {
          "base_uri": "https://localhost:8080/"
        },
        "id": "PmWD4LdFk7zI",
        "outputId": "bf5775e6-6c5f-4d8b-9e91-c5e90344507d"
      },
      "outputs": [
        {
          "output_type": "stream",
          "name": "stdout",
          "text": [
            "The characters in the scene are:\n",
            "\n",
            "1. Woman (WOMAN)\n",
            "2. Handler (Handler)\n",
            "3. K (K)\n",
            "4. Doxies (DOXIES)\n",
            "5. Gaff (GAFF)\n",
            "6. Customer (CUSTOMER)\n",
            "7. Patron (PATRON)\n",
            "8. Joi diji (JOI diji)\n",
            "\n",
            "Note: The characters are identified based on their appearance and actions in the scene, and may not be their actual names.\n"
          ]
        }
      ],
      "source": [
        "print(response)"
      ]
    },
    {
      "cell_type": "code",
      "source": [
        "response=query_engine.query(\"How many male and female characters are in the movie?\")\n",
        "print(response)"
      ],
      "metadata": {
        "id": "DLQnWtq4C_fE",
        "outputId": "b854a2ff-1415-4a9d-c077-24280230d2be",
        "colab": {
          "base_uri": "https://localhost:8080/"
        }
      },
      "execution_count": null,
      "outputs": [
        {
          "output_type": "stream",
          "name": "stdout",
          "text": [
            "There are 5 male characters and 3 female characters in the movie Blade Runner 2049.\n"
          ]
        }
      ]
    },
    {
      "cell_type": "code",
      "source": [
        "response=query_engine.query(\"Does the script pass the Bechdel test?\")\n",
        "print(response)"
      ],
      "metadata": {
        "id": "hhzHoH2vDE8Z",
        "outputId": "db842536-9250-4988-f61c-36d596afc914",
        "colab": {
          "base_uri": "https://localhost:8080/"
        }
      },
      "execution_count": null,
      "outputs": [
        {
          "output_type": "stream",
          "name": "stdout",
          "text": [
            "The script does not pass the Bechdel test. The only named female character in the script is \"Female 2181,\" who dies early on, and the only named male character is \"Male 4847.\" There are no lines of dialogue between any female characters or about any topic other than Male 4847. Therefore, the script does not meet the Bechdel test's minimum criteria of having at least two named female characters who talk to each other about something other than a male character.\n"
          ]
        }
      ]
    },
    {
      "cell_type": "code",
      "source": [
        "response=query_engine.query(\"What is the role of Deckard in the movie?\")\n",
        "print(response)"
      ],
      "metadata": {
        "id": "9O0m_4BVDJI2",
        "outputId": "029f52bf-a097-49e6-88e1-d5394b45c2d4",
        "colab": {
          "base_uri": "https://localhost:8080/"
        }
      },
      "execution_count": null,
      "outputs": [
        {
          "output_type": "stream",
          "name": "stdout",
          "text": [
            "Deckard's role in the movie is that of a bounty hunter tasked with tracking down and \"retiring\" (killing) advanced androids known as replicants. He is also revealed to have a personal connection to one of the replicants he is tasked with retiring, Rachael, who is the daughter he never knew he had.\n"
          ]
        }
      ]
    },
    {
      "cell_type": "code",
      "execution_count": null,
      "metadata": {
        "id": "TJLTVLkelCRA"
      },
      "outputs": [],
      "source": [
        "from langchain import PromptTemplate,  LLMChain"
      ]
    },
    {
      "cell_type": "code",
      "source": [],
      "metadata": {
        "id": "FmjOn3PnDjqi"
      },
      "execution_count": null,
      "outputs": []
    }
  ],
  "metadata": {
    "accelerator": "GPU",
    "colab": {
      "gpuType": "T4",
      "provenance": [],
      "include_colab_link": true
    },
    "kernelspec": {
      "display_name": "Python 3",
      "name": "python3"
    },
    "language_info": {
      "name": "python"
    },
    "widgets": {
      "application/vnd.jupyter.widget-state+json": {
        "7bafccd64d664c5496917cac73c804bc": {
          "model_module": "@jupyter-widgets/controls",
          "model_name": "HBoxModel",
          "model_module_version": "1.5.0",
          "state": {
            "_dom_classes": [],
            "_model_module": "@jupyter-widgets/controls",
            "_model_module_version": "1.5.0",
            "_model_name": "HBoxModel",
            "_view_count": null,
            "_view_module": "@jupyter-widgets/controls",
            "_view_module_version": "1.5.0",
            "_view_name": "HBoxView",
            "box_style": "",
            "children": [
              "IPY_MODEL_7033f01687bc4baf9c9e20cba314b99c",
              "IPY_MODEL_137538776a6a47f0aaf3718b1152e3a5",
              "IPY_MODEL_ec497637e12c498ea1cafaf676c323ad"
            ],
            "layout": "IPY_MODEL_b6b52aea555e43a299e52cbfd242fce0"
          }
        },
        "7033f01687bc4baf9c9e20cba314b99c": {
          "model_module": "@jupyter-widgets/controls",
          "model_name": "HTMLModel",
          "model_module_version": "1.5.0",
          "state": {
            "_dom_classes": [],
            "_model_module": "@jupyter-widgets/controls",
            "_model_module_version": "1.5.0",
            "_model_name": "HTMLModel",
            "_view_count": null,
            "_view_module": "@jupyter-widgets/controls",
            "_view_module_version": "1.5.0",
            "_view_name": "HTMLView",
            "description": "",
            "description_tooltip": null,
            "layout": "IPY_MODEL_7674e89bff9549b4b434604d4eb132a5",
            "placeholder": "​",
            "style": "IPY_MODEL_5757001778bb46b39ad5f6239506f6e5",
            "value": "Loading checkpoint shards: 100%"
          }
        },
        "137538776a6a47f0aaf3718b1152e3a5": {
          "model_module": "@jupyter-widgets/controls",
          "model_name": "FloatProgressModel",
          "model_module_version": "1.5.0",
          "state": {
            "_dom_classes": [],
            "_model_module": "@jupyter-widgets/controls",
            "_model_module_version": "1.5.0",
            "_model_name": "FloatProgressModel",
            "_view_count": null,
            "_view_module": "@jupyter-widgets/controls",
            "_view_module_version": "1.5.0",
            "_view_name": "ProgressView",
            "bar_style": "success",
            "description": "",
            "description_tooltip": null,
            "layout": "IPY_MODEL_8902e6d9fe104a0390b17a480570a4c8",
            "max": 2,
            "min": 0,
            "orientation": "horizontal",
            "style": "IPY_MODEL_4e660378571149af911eb786ae03019a",
            "value": 2
          }
        },
        "ec497637e12c498ea1cafaf676c323ad": {
          "model_module": "@jupyter-widgets/controls",
          "model_name": "HTMLModel",
          "model_module_version": "1.5.0",
          "state": {
            "_dom_classes": [],
            "_model_module": "@jupyter-widgets/controls",
            "_model_module_version": "1.5.0",
            "_model_name": "HTMLModel",
            "_view_count": null,
            "_view_module": "@jupyter-widgets/controls",
            "_view_module_version": "1.5.0",
            "_view_name": "HTMLView",
            "description": "",
            "description_tooltip": null,
            "layout": "IPY_MODEL_eb164604329447bd8abd07f82a9bf08a",
            "placeholder": "​",
            "style": "IPY_MODEL_7b98085e0e664e2d83403ba475e1a74d",
            "value": " 2/2 [01:03&lt;00:00, 29.11s/it]"
          }
        },
        "b6b52aea555e43a299e52cbfd242fce0": {
          "model_module": "@jupyter-widgets/base",
          "model_name": "LayoutModel",
          "model_module_version": "1.2.0",
          "state": {
            "_model_module": "@jupyter-widgets/base",
            "_model_module_version": "1.2.0",
            "_model_name": "LayoutModel",
            "_view_count": null,
            "_view_module": "@jupyter-widgets/base",
            "_view_module_version": "1.2.0",
            "_view_name": "LayoutView",
            "align_content": null,
            "align_items": null,
            "align_self": null,
            "border": null,
            "bottom": null,
            "display": null,
            "flex": null,
            "flex_flow": null,
            "grid_area": null,
            "grid_auto_columns": null,
            "grid_auto_flow": null,
            "grid_auto_rows": null,
            "grid_column": null,
            "grid_gap": null,
            "grid_row": null,
            "grid_template_areas": null,
            "grid_template_columns": null,
            "grid_template_rows": null,
            "height": null,
            "justify_content": null,
            "justify_items": null,
            "left": null,
            "margin": null,
            "max_height": null,
            "max_width": null,
            "min_height": null,
            "min_width": null,
            "object_fit": null,
            "object_position": null,
            "order": null,
            "overflow": null,
            "overflow_x": null,
            "overflow_y": null,
            "padding": null,
            "right": null,
            "top": null,
            "visibility": null,
            "width": null
          }
        },
        "7674e89bff9549b4b434604d4eb132a5": {
          "model_module": "@jupyter-widgets/base",
          "model_name": "LayoutModel",
          "model_module_version": "1.2.0",
          "state": {
            "_model_module": "@jupyter-widgets/base",
            "_model_module_version": "1.2.0",
            "_model_name": "LayoutModel",
            "_view_count": null,
            "_view_module": "@jupyter-widgets/base",
            "_view_module_version": "1.2.0",
            "_view_name": "LayoutView",
            "align_content": null,
            "align_items": null,
            "align_self": null,
            "border": null,
            "bottom": null,
            "display": null,
            "flex": null,
            "flex_flow": null,
            "grid_area": null,
            "grid_auto_columns": null,
            "grid_auto_flow": null,
            "grid_auto_rows": null,
            "grid_column": null,
            "grid_gap": null,
            "grid_row": null,
            "grid_template_areas": null,
            "grid_template_columns": null,
            "grid_template_rows": null,
            "height": null,
            "justify_content": null,
            "justify_items": null,
            "left": null,
            "margin": null,
            "max_height": null,
            "max_width": null,
            "min_height": null,
            "min_width": null,
            "object_fit": null,
            "object_position": null,
            "order": null,
            "overflow": null,
            "overflow_x": null,
            "overflow_y": null,
            "padding": null,
            "right": null,
            "top": null,
            "visibility": null,
            "width": null
          }
        },
        "5757001778bb46b39ad5f6239506f6e5": {
          "model_module": "@jupyter-widgets/controls",
          "model_name": "DescriptionStyleModel",
          "model_module_version": "1.5.0",
          "state": {
            "_model_module": "@jupyter-widgets/controls",
            "_model_module_version": "1.5.0",
            "_model_name": "DescriptionStyleModel",
            "_view_count": null,
            "_view_module": "@jupyter-widgets/base",
            "_view_module_version": "1.2.0",
            "_view_name": "StyleView",
            "description_width": ""
          }
        },
        "8902e6d9fe104a0390b17a480570a4c8": {
          "model_module": "@jupyter-widgets/base",
          "model_name": "LayoutModel",
          "model_module_version": "1.2.0",
          "state": {
            "_model_module": "@jupyter-widgets/base",
            "_model_module_version": "1.2.0",
            "_model_name": "LayoutModel",
            "_view_count": null,
            "_view_module": "@jupyter-widgets/base",
            "_view_module_version": "1.2.0",
            "_view_name": "LayoutView",
            "align_content": null,
            "align_items": null,
            "align_self": null,
            "border": null,
            "bottom": null,
            "display": null,
            "flex": null,
            "flex_flow": null,
            "grid_area": null,
            "grid_auto_columns": null,
            "grid_auto_flow": null,
            "grid_auto_rows": null,
            "grid_column": null,
            "grid_gap": null,
            "grid_row": null,
            "grid_template_areas": null,
            "grid_template_columns": null,
            "grid_template_rows": null,
            "height": null,
            "justify_content": null,
            "justify_items": null,
            "left": null,
            "margin": null,
            "max_height": null,
            "max_width": null,
            "min_height": null,
            "min_width": null,
            "object_fit": null,
            "object_position": null,
            "order": null,
            "overflow": null,
            "overflow_x": null,
            "overflow_y": null,
            "padding": null,
            "right": null,
            "top": null,
            "visibility": null,
            "width": null
          }
        },
        "4e660378571149af911eb786ae03019a": {
          "model_module": "@jupyter-widgets/controls",
          "model_name": "ProgressStyleModel",
          "model_module_version": "1.5.0",
          "state": {
            "_model_module": "@jupyter-widgets/controls",
            "_model_module_version": "1.5.0",
            "_model_name": "ProgressStyleModel",
            "_view_count": null,
            "_view_module": "@jupyter-widgets/base",
            "_view_module_version": "1.2.0",
            "_view_name": "StyleView",
            "bar_color": null,
            "description_width": ""
          }
        },
        "eb164604329447bd8abd07f82a9bf08a": {
          "model_module": "@jupyter-widgets/base",
          "model_name": "LayoutModel",
          "model_module_version": "1.2.0",
          "state": {
            "_model_module": "@jupyter-widgets/base",
            "_model_module_version": "1.2.0",
            "_model_name": "LayoutModel",
            "_view_count": null,
            "_view_module": "@jupyter-widgets/base",
            "_view_module_version": "1.2.0",
            "_view_name": "LayoutView",
            "align_content": null,
            "align_items": null,
            "align_self": null,
            "border": null,
            "bottom": null,
            "display": null,
            "flex": null,
            "flex_flow": null,
            "grid_area": null,
            "grid_auto_columns": null,
            "grid_auto_flow": null,
            "grid_auto_rows": null,
            "grid_column": null,
            "grid_gap": null,
            "grid_row": null,
            "grid_template_areas": null,
            "grid_template_columns": null,
            "grid_template_rows": null,
            "height": null,
            "justify_content": null,
            "justify_items": null,
            "left": null,
            "margin": null,
            "max_height": null,
            "max_width": null,
            "min_height": null,
            "min_width": null,
            "object_fit": null,
            "object_position": null,
            "order": null,
            "overflow": null,
            "overflow_x": null,
            "overflow_y": null,
            "padding": null,
            "right": null,
            "top": null,
            "visibility": null,
            "width": null
          }
        },
        "7b98085e0e664e2d83403ba475e1a74d": {
          "model_module": "@jupyter-widgets/controls",
          "model_name": "DescriptionStyleModel",
          "model_module_version": "1.5.0",
          "state": {
            "_model_module": "@jupyter-widgets/controls",
            "_model_module_version": "1.5.0",
            "_model_name": "DescriptionStyleModel",
            "_view_count": null,
            "_view_module": "@jupyter-widgets/base",
            "_view_module_version": "1.2.0",
            "_view_name": "StyleView",
            "description_width": ""
          }
        }
      }
    }
  },
  "nbformat": 4,
  "nbformat_minor": 0
}